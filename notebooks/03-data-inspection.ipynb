{
 "cells": [
  {
   "cell_type": "markdown",
   "id": "849f62e6-60a1-4e96-a074-ca068354aead",
   "metadata": {},
   "source": [
    "# 🐼 Pandas Handbook\n",
    "\n",
    "## 03 - Data Inspection\n",
    "\n",
    "Check out the official [Pandas documentation](https://pandas.pydata.org/pandas-docs/stable/)  \n",
    "\n",
    "This notebook uses the [Ramen Ratings dataset](https://www.kaggle.com/datasets/residentmario/ramen-ratings/data) from Kaggle to demonstrate how to inspect the data with pandas."
   ]
  },
  {
   "cell_type": "markdown",
   "id": "04195333-c047-4b3a-8fab-e93b3c362178",
   "metadata": {},
   "source": [
    "## 📚 Table of Contents\n",
    "---\n",
    " \n",
    "📌 **Basic Dataset Overview**  \n",
    "🔍 **Missing & Null Values**  \n",
    "🧬 **Column-Level Inspection**  \n",
    "🗂️ **Sorting & Ordering**  \n",
    "📊 **Descriptive Statistics**  \n",
    "🔗 **Combining Data Inspection Methods**  \n",
    "👉 **Next Topic: Data Selection**  \n",
    "\n",
    "---"
   ]
  },
  {
   "cell_type": "code",
   "execution_count": 1,
   "id": "f8a59c1c-4804-46da-aa3c-9c4128c59efb",
   "metadata": {},
   "outputs": [],
   "source": [
    "import pandas as pd\n",
    "import os"
   ]
  },
  {
   "cell_type": "code",
   "execution_count": 2,
   "id": "5b8cdda1-49a5-419e-a104-668e60913f80",
   "metadata": {},
   "outputs": [],
   "source": [
    "data_raw = \"../data/raw/\"\n",
    "csv_file = \"ramen-ratings.csv\"\n",
    "import_path = os.path.join(data_raw, csv_file)\n",
    "df = pd.read_csv(import_path, index_col='Review #')"
   ]
  },
  {
   "cell_type": "markdown",
   "id": "3554f34d-b6e5-470e-8994-b37730b9e809",
   "metadata": {},
   "source": [
    "### 📌 Basic Dataset Overview"
   ]
  },
  {
   "cell_type": "markdown",
   "id": "7ca6613d-ef53-47a3-b9a8-5df6af2e640a",
   "metadata": {},
   "source": [
    "`df.head()` – Displays the first 5 rows of the DataFrame.  \n",
    "`df.tail()` – Displays the last 5 rows of the DataFrame.  \n",
    "`df.shape` – Returns the number of rows and columns as a tuple.  \n",
    "`df.columns` – Lists the column names in the DataFrame.  \n",
    "`df.index` – Shows the index (row labels) of the DataFrame.  \n",
    "`df.dtypes` – Displays the data type of each column.  \n",
    "`df.info()` – Provides a concise summary of the DataFrame, including column types, non-null counts, and memory usage.  \n",
    "`df.memory_usage()` – Returns memory usage of each column, useful for optimization.  "
   ]
  },
  {
   "cell_type": "code",
   "execution_count": 3,
   "id": "7cf34ea5-b911-485d-b7fd-8beb7a3a0191",
   "metadata": {},
   "outputs": [
    {
     "data": {
      "text/html": [
       "<div>\n",
       "<style scoped>\n",
       "    .dataframe tbody tr th:only-of-type {\n",
       "        vertical-align: middle;\n",
       "    }\n",
       "\n",
       "    .dataframe tbody tr th {\n",
       "        vertical-align: top;\n",
       "    }\n",
       "\n",
       "    .dataframe thead th {\n",
       "        text-align: right;\n",
       "    }\n",
       "</style>\n",
       "<table border=\"1\" class=\"dataframe\">\n",
       "  <thead>\n",
       "    <tr style=\"text-align: right;\">\n",
       "      <th></th>\n",
       "      <th>Brand</th>\n",
       "      <th>Variety</th>\n",
       "      <th>Style</th>\n",
       "      <th>Country</th>\n",
       "      <th>Stars</th>\n",
       "      <th>Top Ten</th>\n",
       "    </tr>\n",
       "    <tr>\n",
       "      <th>Review #</th>\n",
       "      <th></th>\n",
       "      <th></th>\n",
       "      <th></th>\n",
       "      <th></th>\n",
       "      <th></th>\n",
       "      <th></th>\n",
       "    </tr>\n",
       "  </thead>\n",
       "  <tbody>\n",
       "    <tr>\n",
       "      <th>2580</th>\n",
       "      <td>New Touch</td>\n",
       "      <td>T's Restaurant Tantanmen</td>\n",
       "      <td>Cup</td>\n",
       "      <td>Japan</td>\n",
       "      <td>3.75</td>\n",
       "      <td>NaN</td>\n",
       "    </tr>\n",
       "    <tr>\n",
       "      <th>2579</th>\n",
       "      <td>Just Way</td>\n",
       "      <td>Noodles Spicy Hot Sesame Spicy Hot Sesame Guan...</td>\n",
       "      <td>Pack</td>\n",
       "      <td>Taiwan</td>\n",
       "      <td>1</td>\n",
       "      <td>NaN</td>\n",
       "    </tr>\n",
       "    <tr>\n",
       "      <th>2578</th>\n",
       "      <td>Nissin</td>\n",
       "      <td>Cup Noodles Chicken Vegetable</td>\n",
       "      <td>Cup</td>\n",
       "      <td>USA</td>\n",
       "      <td>2.25</td>\n",
       "      <td>NaN</td>\n",
       "    </tr>\n",
       "    <tr>\n",
       "      <th>2577</th>\n",
       "      <td>Wei Lih</td>\n",
       "      <td>GGE Ramen Snack Tomato Flavor</td>\n",
       "      <td>Pack</td>\n",
       "      <td>Taiwan</td>\n",
       "      <td>2.75</td>\n",
       "      <td>NaN</td>\n",
       "    </tr>\n",
       "    <tr>\n",
       "      <th>2576</th>\n",
       "      <td>Ching's Secret</td>\n",
       "      <td>Singapore Curry</td>\n",
       "      <td>Pack</td>\n",
       "      <td>India</td>\n",
       "      <td>3.75</td>\n",
       "      <td>NaN</td>\n",
       "    </tr>\n",
       "  </tbody>\n",
       "</table>\n",
       "</div>"
      ],
      "text/plain": [
       "                   Brand                                            Variety  \\\n",
       "Review #                                                                      \n",
       "2580           New Touch                          T's Restaurant Tantanmen    \n",
       "2579            Just Way  Noodles Spicy Hot Sesame Spicy Hot Sesame Guan...   \n",
       "2578              Nissin                      Cup Noodles Chicken Vegetable   \n",
       "2577             Wei Lih                      GGE Ramen Snack Tomato Flavor   \n",
       "2576      Ching's Secret                                    Singapore Curry   \n",
       "\n",
       "         Style Country Stars Top Ten  \n",
       "Review #                              \n",
       "2580       Cup   Japan  3.75     NaN  \n",
       "2579      Pack  Taiwan     1     NaN  \n",
       "2578       Cup     USA  2.25     NaN  \n",
       "2577      Pack  Taiwan  2.75     NaN  \n",
       "2576      Pack   India  3.75     NaN  "
      ]
     },
     "execution_count": 3,
     "metadata": {},
     "output_type": "execute_result"
    }
   ],
   "source": [
    "df.head()"
   ]
  },
  {
   "cell_type": "code",
   "execution_count": 4,
   "id": "75613493-3d00-463f-a215-ab307d6eb7f8",
   "metadata": {},
   "outputs": [
    {
     "data": {
      "text/html": [
       "<div>\n",
       "<style scoped>\n",
       "    .dataframe tbody tr th:only-of-type {\n",
       "        vertical-align: middle;\n",
       "    }\n",
       "\n",
       "    .dataframe tbody tr th {\n",
       "        vertical-align: top;\n",
       "    }\n",
       "\n",
       "    .dataframe thead th {\n",
       "        text-align: right;\n",
       "    }\n",
       "</style>\n",
       "<table border=\"1\" class=\"dataframe\">\n",
       "  <thead>\n",
       "    <tr style=\"text-align: right;\">\n",
       "      <th></th>\n",
       "      <th>Brand</th>\n",
       "      <th>Variety</th>\n",
       "      <th>Style</th>\n",
       "      <th>Country</th>\n",
       "      <th>Stars</th>\n",
       "      <th>Top Ten</th>\n",
       "    </tr>\n",
       "    <tr>\n",
       "      <th>Review #</th>\n",
       "      <th></th>\n",
       "      <th></th>\n",
       "      <th></th>\n",
       "      <th></th>\n",
       "      <th></th>\n",
       "      <th></th>\n",
       "    </tr>\n",
       "  </thead>\n",
       "  <tbody>\n",
       "    <tr>\n",
       "      <th>5</th>\n",
       "      <td>Vifon</td>\n",
       "      <td>Hu Tiu Nam Vang [\"Phnom Penh\" style] Asian Sty...</td>\n",
       "      <td>Bowl</td>\n",
       "      <td>Vietnam</td>\n",
       "      <td>3.5</td>\n",
       "      <td>NaN</td>\n",
       "    </tr>\n",
       "    <tr>\n",
       "      <th>4</th>\n",
       "      <td>Wai Wai</td>\n",
       "      <td>Oriental Style Instant Noodles</td>\n",
       "      <td>Pack</td>\n",
       "      <td>Thailand</td>\n",
       "      <td>1</td>\n",
       "      <td>NaN</td>\n",
       "    </tr>\n",
       "    <tr>\n",
       "      <th>3</th>\n",
       "      <td>Wai Wai</td>\n",
       "      <td>Tom Yum Shrimp</td>\n",
       "      <td>Pack</td>\n",
       "      <td>Thailand</td>\n",
       "      <td>2</td>\n",
       "      <td>NaN</td>\n",
       "    </tr>\n",
       "    <tr>\n",
       "      <th>2</th>\n",
       "      <td>Wai Wai</td>\n",
       "      <td>Tom Yum Chili Flavor</td>\n",
       "      <td>Pack</td>\n",
       "      <td>Thailand</td>\n",
       "      <td>2</td>\n",
       "      <td>NaN</td>\n",
       "    </tr>\n",
       "    <tr>\n",
       "      <th>1</th>\n",
       "      <td>Westbrae</td>\n",
       "      <td>Miso Ramen</td>\n",
       "      <td>Pack</td>\n",
       "      <td>USA</td>\n",
       "      <td>0.5</td>\n",
       "      <td>NaN</td>\n",
       "    </tr>\n",
       "  </tbody>\n",
       "</table>\n",
       "</div>"
      ],
      "text/plain": [
       "             Brand                                            Variety Style  \\\n",
       "Review #                                                                      \n",
       "5            Vifon  Hu Tiu Nam Vang [\"Phnom Penh\" style] Asian Sty...  Bowl   \n",
       "4          Wai Wai                     Oriental Style Instant Noodles  Pack   \n",
       "3          Wai Wai                                     Tom Yum Shrimp  Pack   \n",
       "2          Wai Wai                               Tom Yum Chili Flavor  Pack   \n",
       "1         Westbrae                                         Miso Ramen  Pack   \n",
       "\n",
       "           Country Stars Top Ten  \n",
       "Review #                          \n",
       "5          Vietnam   3.5     NaN  \n",
       "4         Thailand     1     NaN  \n",
       "3         Thailand     2     NaN  \n",
       "2         Thailand     2     NaN  \n",
       "1              USA   0.5     NaN  "
      ]
     },
     "execution_count": 4,
     "metadata": {},
     "output_type": "execute_result"
    }
   ],
   "source": [
    "df.tail()"
   ]
  },
  {
   "cell_type": "code",
   "execution_count": 5,
   "id": "451fac8e-7784-4e9f-8957-334c702ff30a",
   "metadata": {},
   "outputs": [
    {
     "data": {
      "text/plain": [
       "(2580, 6)"
      ]
     },
     "execution_count": 5,
     "metadata": {},
     "output_type": "execute_result"
    }
   ],
   "source": [
    "df.shape"
   ]
  },
  {
   "cell_type": "code",
   "execution_count": 6,
   "id": "87a3a216-8736-4900-8ce0-0042700d9441",
   "metadata": {},
   "outputs": [
    {
     "data": {
      "text/plain": [
       "Index(['Brand', 'Variety', 'Style', 'Country', 'Stars', 'Top Ten'], dtype='object')"
      ]
     },
     "execution_count": 6,
     "metadata": {},
     "output_type": "execute_result"
    }
   ],
   "source": [
    "df.columns"
   ]
  },
  {
   "cell_type": "code",
   "execution_count": 7,
   "id": "e8301b83-8d00-4ce4-a4d6-58f8b930c030",
   "metadata": {},
   "outputs": [
    {
     "data": {
      "text/plain": [
       "Index([2580, 2579, 2578, 2577, 2576, 2575, 2574, 2573, 2572, 2571,\n",
       "       ...\n",
       "         10,    9,    8,    7,    6,    5,    4,    3,    2,    1],\n",
       "      dtype='int64', name='Review #', length=2580)"
      ]
     },
     "execution_count": 7,
     "metadata": {},
     "output_type": "execute_result"
    }
   ],
   "source": [
    "df.index"
   ]
  },
  {
   "cell_type": "code",
   "execution_count": 8,
   "id": "53374af5-d9e0-4c09-97aa-2470bf6000de",
   "metadata": {},
   "outputs": [
    {
     "data": {
      "text/plain": [
       "Brand      object\n",
       "Variety    object\n",
       "Style      object\n",
       "Country    object\n",
       "Stars      object\n",
       "Top Ten    object\n",
       "dtype: object"
      ]
     },
     "execution_count": 8,
     "metadata": {},
     "output_type": "execute_result"
    }
   ],
   "source": [
    "df.dtypes"
   ]
  },
  {
   "cell_type": "code",
   "execution_count": 9,
   "id": "95d8f890-0178-4d5c-a5c0-4382bef033ef",
   "metadata": {},
   "outputs": [
    {
     "name": "stdout",
     "output_type": "stream",
     "text": [
      "<class 'pandas.core.frame.DataFrame'>\n",
      "Index: 2580 entries, 2580 to 1\n",
      "Data columns (total 6 columns):\n",
      " #   Column   Non-Null Count  Dtype \n",
      "---  ------   --------------  ----- \n",
      " 0   Brand    2580 non-null   object\n",
      " 1   Variety  2580 non-null   object\n",
      " 2   Style    2578 non-null   object\n",
      " 3   Country  2580 non-null   object\n",
      " 4   Stars    2580 non-null   object\n",
      " 5   Top Ten  41 non-null     object\n",
      "dtypes: object(6)\n",
      "memory usage: 141.1+ KB\n"
     ]
    }
   ],
   "source": [
    "df.info()"
   ]
  },
  {
   "cell_type": "code",
   "execution_count": 10,
   "id": "29a35670-06fd-4797-9e95-c93790918b8c",
   "metadata": {},
   "outputs": [
    {
     "data": {
      "text/plain": [
       "Index      20640\n",
       "Brand      20640\n",
       "Variety    20640\n",
       "Style      20640\n",
       "Country    20640\n",
       "Stars      20640\n",
       "Top Ten    20640\n",
       "dtype: int64"
      ]
     },
     "execution_count": 10,
     "metadata": {},
     "output_type": "execute_result"
    }
   ],
   "source": [
    "df.memory_usage()"
   ]
  },
  {
   "cell_type": "markdown",
   "id": "a7d5b915-911b-400c-a95a-d56119927f99",
   "metadata": {},
   "source": [
    "### 🔍 Missing & Null Values"
   ]
  },
  {
   "cell_type": "markdown",
   "id": "99490c8c-4c47-4566-9030-eec0d73eac5c",
   "metadata": {},
   "source": [
    "`df.isnull().sum()` – Shows the number of missing values (`NaN`) per column.  \n",
    "`df.isna().sum()` – Shows the number of missing values (`NaN`) per column.  \n",
    "`df['COLUMN'].count()` – Counts non-null values in the specified `'COLUMN'`.  \n",
    "`df.notnull()` – Returns a DataFrame of the same shape indicating whether each value is not null (`True`) or null (`False`).  "
   ]
  },
  {
   "cell_type": "code",
   "execution_count": 11,
   "id": "e58ad13b-8f79-4c93-afb4-fa418331971b",
   "metadata": {},
   "outputs": [
    {
     "data": {
      "text/plain": [
       "Brand         0\n",
       "Variety       0\n",
       "Style         2\n",
       "Country       0\n",
       "Stars         0\n",
       "Top Ten    2539\n",
       "dtype: int64"
      ]
     },
     "execution_count": 11,
     "metadata": {},
     "output_type": "execute_result"
    }
   ],
   "source": [
    "df.isnull().sum()"
   ]
  },
  {
   "cell_type": "code",
   "execution_count": 12,
   "id": "b0ad05d6-09c6-45b8-8ca6-37c9ec2280da",
   "metadata": {},
   "outputs": [
    {
     "data": {
      "text/plain": [
       "Brand         0\n",
       "Variety       0\n",
       "Style         2\n",
       "Country       0\n",
       "Stars         0\n",
       "Top Ten    2539\n",
       "dtype: int64"
      ]
     },
     "execution_count": 12,
     "metadata": {},
     "output_type": "execute_result"
    }
   ],
   "source": [
    "df.isna().sum()"
   ]
  },
  {
   "cell_type": "code",
   "execution_count": 13,
   "id": "aee9f239-7f04-4ec0-8f4f-f575ec012d45",
   "metadata": {},
   "outputs": [
    {
     "data": {
      "text/plain": [
       "np.int64(41)"
      ]
     },
     "execution_count": 13,
     "metadata": {},
     "output_type": "execute_result"
    }
   ],
   "source": [
    "df['Top Ten'].count()"
   ]
  },
  {
   "cell_type": "code",
   "execution_count": 14,
   "id": "f628301b-ee29-4e70-b54c-1f0f2fb90e3a",
   "metadata": {},
   "outputs": [
    {
     "data": {
      "text/html": [
       "<div>\n",
       "<style scoped>\n",
       "    .dataframe tbody tr th:only-of-type {\n",
       "        vertical-align: middle;\n",
       "    }\n",
       "\n",
       "    .dataframe tbody tr th {\n",
       "        vertical-align: top;\n",
       "    }\n",
       "\n",
       "    .dataframe thead th {\n",
       "        text-align: right;\n",
       "    }\n",
       "</style>\n",
       "<table border=\"1\" class=\"dataframe\">\n",
       "  <thead>\n",
       "    <tr style=\"text-align: right;\">\n",
       "      <th></th>\n",
       "      <th>Brand</th>\n",
       "      <th>Variety</th>\n",
       "      <th>Style</th>\n",
       "      <th>Country</th>\n",
       "      <th>Stars</th>\n",
       "      <th>Top Ten</th>\n",
       "    </tr>\n",
       "    <tr>\n",
       "      <th>Review #</th>\n",
       "      <th></th>\n",
       "      <th></th>\n",
       "      <th></th>\n",
       "      <th></th>\n",
       "      <th></th>\n",
       "      <th></th>\n",
       "    </tr>\n",
       "  </thead>\n",
       "  <tbody>\n",
       "    <tr>\n",
       "      <th>2580</th>\n",
       "      <td>True</td>\n",
       "      <td>True</td>\n",
       "      <td>True</td>\n",
       "      <td>True</td>\n",
       "      <td>True</td>\n",
       "      <td>False</td>\n",
       "    </tr>\n",
       "    <tr>\n",
       "      <th>2579</th>\n",
       "      <td>True</td>\n",
       "      <td>True</td>\n",
       "      <td>True</td>\n",
       "      <td>True</td>\n",
       "      <td>True</td>\n",
       "      <td>False</td>\n",
       "    </tr>\n",
       "    <tr>\n",
       "      <th>2578</th>\n",
       "      <td>True</td>\n",
       "      <td>True</td>\n",
       "      <td>True</td>\n",
       "      <td>True</td>\n",
       "      <td>True</td>\n",
       "      <td>False</td>\n",
       "    </tr>\n",
       "    <tr>\n",
       "      <th>2577</th>\n",
       "      <td>True</td>\n",
       "      <td>True</td>\n",
       "      <td>True</td>\n",
       "      <td>True</td>\n",
       "      <td>True</td>\n",
       "      <td>False</td>\n",
       "    </tr>\n",
       "    <tr>\n",
       "      <th>2576</th>\n",
       "      <td>True</td>\n",
       "      <td>True</td>\n",
       "      <td>True</td>\n",
       "      <td>True</td>\n",
       "      <td>True</td>\n",
       "      <td>False</td>\n",
       "    </tr>\n",
       "    <tr>\n",
       "      <th>...</th>\n",
       "      <td>...</td>\n",
       "      <td>...</td>\n",
       "      <td>...</td>\n",
       "      <td>...</td>\n",
       "      <td>...</td>\n",
       "      <td>...</td>\n",
       "    </tr>\n",
       "    <tr>\n",
       "      <th>5</th>\n",
       "      <td>True</td>\n",
       "      <td>True</td>\n",
       "      <td>True</td>\n",
       "      <td>True</td>\n",
       "      <td>True</td>\n",
       "      <td>False</td>\n",
       "    </tr>\n",
       "    <tr>\n",
       "      <th>4</th>\n",
       "      <td>True</td>\n",
       "      <td>True</td>\n",
       "      <td>True</td>\n",
       "      <td>True</td>\n",
       "      <td>True</td>\n",
       "      <td>False</td>\n",
       "    </tr>\n",
       "    <tr>\n",
       "      <th>3</th>\n",
       "      <td>True</td>\n",
       "      <td>True</td>\n",
       "      <td>True</td>\n",
       "      <td>True</td>\n",
       "      <td>True</td>\n",
       "      <td>False</td>\n",
       "    </tr>\n",
       "    <tr>\n",
       "      <th>2</th>\n",
       "      <td>True</td>\n",
       "      <td>True</td>\n",
       "      <td>True</td>\n",
       "      <td>True</td>\n",
       "      <td>True</td>\n",
       "      <td>False</td>\n",
       "    </tr>\n",
       "    <tr>\n",
       "      <th>1</th>\n",
       "      <td>True</td>\n",
       "      <td>True</td>\n",
       "      <td>True</td>\n",
       "      <td>True</td>\n",
       "      <td>True</td>\n",
       "      <td>False</td>\n",
       "    </tr>\n",
       "  </tbody>\n",
       "</table>\n",
       "<p>2580 rows × 6 columns</p>\n",
       "</div>"
      ],
      "text/plain": [
       "          Brand  Variety  Style  Country  Stars  Top Ten\n",
       "Review #                                                \n",
       "2580       True     True   True     True   True    False\n",
       "2579       True     True   True     True   True    False\n",
       "2578       True     True   True     True   True    False\n",
       "2577       True     True   True     True   True    False\n",
       "2576       True     True   True     True   True    False\n",
       "...         ...      ...    ...      ...    ...      ...\n",
       "5          True     True   True     True   True    False\n",
       "4          True     True   True     True   True    False\n",
       "3          True     True   True     True   True    False\n",
       "2          True     True   True     True   True    False\n",
       "1          True     True   True     True   True    False\n",
       "\n",
       "[2580 rows x 6 columns]"
      ]
     },
     "execution_count": 14,
     "metadata": {},
     "output_type": "execute_result"
    }
   ],
   "source": [
    "df.notnull()"
   ]
  },
  {
   "cell_type": "markdown",
   "id": "704c206a-d6ae-4eaf-a6f9-71b3ffc047fc",
   "metadata": {},
   "source": [
    "### 🧬 Column-Level Inspection"
   ]
  },
  {
   "cell_type": "markdown",
   "id": "048df9c2-68e1-465e-ae6b-d79eed3085b2",
   "metadata": {},
   "source": [
    "`df['COLUMN'].value_counts()` – Returns a count of unique values in the specified `'COLUMN'`, sorted in descending order.  \n",
    "`(df['COLUMN'].str.strip() == '').sum()` – Returns a count of empyt strings in the specified `'COLUMN'`.  \n",
    "`df['COLUMN'].apply(len)` – Applies the `len()` function to each value in the specified `'COLUMN'`.  \n",
    "`df['COLUMN'].unique()` – Lists unique values in the specified `'COLUMN'`.  \n",
    "`df['COLUMN'].nunique()` – Returns the number of unique values in the specified `'COLUMN'`.  \n",
    "`df['COLUMN'].sample()` – Randomly samples one or more rows from the specified `'COLUMN'`.  "
   ]
  },
  {
   "cell_type": "code",
   "execution_count": 15,
   "id": "c36492f7-31ef-455a-bd7b-219cb3d97f40",
   "metadata": {},
   "outputs": [
    {
     "data": {
      "text/plain": [
       "Brand\n",
       "Nissin      381\n",
       "Nongshim     98\n",
       "Maruchan     76\n",
       "Mama         71\n",
       "Paldo        66\n",
       "           ... \n",
       "Omachi        1\n",
       "Haioreum      1\n",
       "Sutah         1\n",
       "Tung-I        1\n",
       "Westbrae      1\n",
       "Name: count, Length: 355, dtype: int64"
      ]
     },
     "execution_count": 15,
     "metadata": {},
     "output_type": "execute_result"
    }
   ],
   "source": [
    "df['Brand'].value_counts()"
   ]
  },
  {
   "cell_type": "code",
   "execution_count": 16,
   "id": "aef8d2e1-0e88-4034-a98e-125c1371dd55",
   "metadata": {},
   "outputs": [
    {
     "data": {
      "text/plain": [
       "np.int64(0)"
      ]
     },
     "execution_count": 16,
     "metadata": {},
     "output_type": "execute_result"
    }
   ],
   "source": [
    "(df['Brand'].str.strip() == '').sum()"
   ]
  },
  {
   "cell_type": "code",
   "execution_count": 17,
   "id": "15ba5985-da15-4132-9243-566cca4f6db9",
   "metadata": {},
   "outputs": [
    {
     "data": {
      "text/plain": [
       "Review #\n",
       "2580    4\n",
       "2579    1\n",
       "2578    4\n",
       "2577    4\n",
       "2576    4\n",
       "       ..\n",
       "5       3\n",
       "4       1\n",
       "3       1\n",
       "2       1\n",
       "1       3\n",
       "Name: Stars, Length: 2580, dtype: int64"
      ]
     },
     "execution_count": 17,
     "metadata": {},
     "output_type": "execute_result"
    }
   ],
   "source": [
    "df['Stars'].apply(len)"
   ]
  },
  {
   "cell_type": "code",
   "execution_count": 18,
   "id": "0272f303-a218-45a4-bd01-b748b16c5141",
   "metadata": {},
   "outputs": [
    {
     "data": {
      "text/plain": [
       "array(['Cup', 'Pack', 'Tray', 'Bowl', 'Box', 'Can', 'Bar', nan],\n",
       "      dtype=object)"
      ]
     },
     "execution_count": 18,
     "metadata": {},
     "output_type": "execute_result"
    }
   ],
   "source": [
    "df['Style'].unique()"
   ]
  },
  {
   "cell_type": "code",
   "execution_count": 19,
   "id": "e09095f8-c0c8-465a-86e0-fbf11b2b8ec3",
   "metadata": {},
   "outputs": [
    {
     "data": {
      "text/plain": [
       "7"
      ]
     },
     "execution_count": 19,
     "metadata": {},
     "output_type": "execute_result"
    }
   ],
   "source": [
    "df['Style'].nunique()"
   ]
  },
  {
   "cell_type": "code",
   "execution_count": 20,
   "id": "9ee7f590-bbf9-444f-ac71-b6fcfb0eccb2",
   "metadata": {},
   "outputs": [
    {
     "data": {
      "text/plain": [
       "Review #\n",
       "2233    Cup Noodles Milk Seafood Flavour\n",
       "Name: Variety, dtype: object"
      ]
     },
     "execution_count": 20,
     "metadata": {},
     "output_type": "execute_result"
    }
   ],
   "source": [
    "df['Variety'].sample()"
   ]
  },
  {
   "cell_type": "markdown",
   "id": "33b01811-01f0-4dec-a774-6e3ccb99a9ac",
   "metadata": {},
   "source": [
    "### 🗂️ Sorting & Ordering"
   ]
  },
  {
   "cell_type": "markdown",
   "id": "6bebcbc8-92be-4cef-9f69-d2ab9dbf7599",
   "metadata": {},
   "source": [
    "`df.sort_values('COLUMN')` – Sorts the DataFrame by values in the specified `'COLUMN'`.  \n",
    "`df.sort_index()` – Sorts the DataFrame by its index values.  "
   ]
  },
  {
   "cell_type": "code",
   "execution_count": 21,
   "id": "77f5d8a5-adbe-471c-964e-fdb10587e165",
   "metadata": {},
   "outputs": [
    {
     "data": {
      "text/html": [
       "<div>\n",
       "<style scoped>\n",
       "    .dataframe tbody tr th:only-of-type {\n",
       "        vertical-align: middle;\n",
       "    }\n",
       "\n",
       "    .dataframe tbody tr th {\n",
       "        vertical-align: top;\n",
       "    }\n",
       "\n",
       "    .dataframe thead th {\n",
       "        text-align: right;\n",
       "    }\n",
       "</style>\n",
       "<table border=\"1\" class=\"dataframe\">\n",
       "  <thead>\n",
       "    <tr style=\"text-align: right;\">\n",
       "      <th></th>\n",
       "      <th>Brand</th>\n",
       "      <th>Variety</th>\n",
       "      <th>Style</th>\n",
       "      <th>Country</th>\n",
       "      <th>Stars</th>\n",
       "      <th>Top Ten</th>\n",
       "    </tr>\n",
       "    <tr>\n",
       "      <th>Review #</th>\n",
       "      <th></th>\n",
       "      <th></th>\n",
       "      <th></th>\n",
       "      <th></th>\n",
       "      <th></th>\n",
       "      <th></th>\n",
       "    </tr>\n",
       "  </thead>\n",
       "  <tbody>\n",
       "    <tr>\n",
       "      <th>2301</th>\n",
       "      <td>Suimin</td>\n",
       "      <td>Noodle With Oriental Chicken Flavour</td>\n",
       "      <td>Cup</td>\n",
       "      <td>Australia</td>\n",
       "      <td>3</td>\n",
       "      <td>NaN</td>\n",
       "    </tr>\n",
       "    <tr>\n",
       "      <th>987</th>\n",
       "      <td>Trident</td>\n",
       "      <td>Singapore Soft Noodles</td>\n",
       "      <td>Pack</td>\n",
       "      <td>Australia</td>\n",
       "      <td>2.75</td>\n",
       "      <td>NaN</td>\n",
       "    </tr>\n",
       "    <tr>\n",
       "      <th>961</th>\n",
       "      <td>Trident</td>\n",
       "      <td>Chow Mein Soft Noodles</td>\n",
       "      <td>Pack</td>\n",
       "      <td>Australia</td>\n",
       "      <td>2.75</td>\n",
       "      <td>NaN</td>\n",
       "    </tr>\n",
       "    <tr>\n",
       "      <th>1980</th>\n",
       "      <td>Suimin</td>\n",
       "      <td>Noodles Witrh Prawn &amp; Chicken Flavour</td>\n",
       "      <td>Cup</td>\n",
       "      <td>Australia</td>\n",
       "      <td>3.5</td>\n",
       "      <td>NaN</td>\n",
       "    </tr>\n",
       "    <tr>\n",
       "      <th>2349</th>\n",
       "      <td>Fantastic</td>\n",
       "      <td>Noodles Chicken &amp; Corn Flavour</td>\n",
       "      <td>Cup</td>\n",
       "      <td>Australia</td>\n",
       "      <td>3</td>\n",
       "      <td>NaN</td>\n",
       "    </tr>\n",
       "  </tbody>\n",
       "</table>\n",
       "</div>"
      ],
      "text/plain": [
       "              Brand                                Variety Style    Country  \\\n",
       "Review #                                                                      \n",
       "2301         Suimin   Noodle With Oriental Chicken Flavour   Cup  Australia   \n",
       "987         Trident                 Singapore Soft Noodles  Pack  Australia   \n",
       "961         Trident                 Chow Mein Soft Noodles  Pack  Australia   \n",
       "1980         Suimin  Noodles Witrh Prawn & Chicken Flavour   Cup  Australia   \n",
       "2349      Fantastic         Noodles Chicken & Corn Flavour   Cup  Australia   \n",
       "\n",
       "         Stars Top Ten  \n",
       "Review #                \n",
       "2301         3     NaN  \n",
       "987       2.75     NaN  \n",
       "961       2.75     NaN  \n",
       "1980       3.5     NaN  \n",
       "2349         3     NaN  "
      ]
     },
     "execution_count": 21,
     "metadata": {},
     "output_type": "execute_result"
    }
   ],
   "source": [
    "df.sort_values('Country', ascending=True).head()"
   ]
  },
  {
   "cell_type": "code",
   "execution_count": 22,
   "id": "7e8771c1-6c4a-42bf-8fb4-eea6fff2bb8e",
   "metadata": {},
   "outputs": [
    {
     "data": {
      "text/html": [
       "<div>\n",
       "<style scoped>\n",
       "    .dataframe tbody tr th:only-of-type {\n",
       "        vertical-align: middle;\n",
       "    }\n",
       "\n",
       "    .dataframe tbody tr th {\n",
       "        vertical-align: top;\n",
       "    }\n",
       "\n",
       "    .dataframe thead th {\n",
       "        text-align: right;\n",
       "    }\n",
       "</style>\n",
       "<table border=\"1\" class=\"dataframe\">\n",
       "  <thead>\n",
       "    <tr style=\"text-align: right;\">\n",
       "      <th></th>\n",
       "      <th>Brand</th>\n",
       "      <th>Variety</th>\n",
       "      <th>Style</th>\n",
       "      <th>Country</th>\n",
       "      <th>Stars</th>\n",
       "      <th>Top Ten</th>\n",
       "    </tr>\n",
       "    <tr>\n",
       "      <th>Review #</th>\n",
       "      <th></th>\n",
       "      <th></th>\n",
       "      <th></th>\n",
       "      <th></th>\n",
       "      <th></th>\n",
       "      <th></th>\n",
       "    </tr>\n",
       "  </thead>\n",
       "  <tbody>\n",
       "    <tr>\n",
       "      <th>1</th>\n",
       "      <td>Westbrae</td>\n",
       "      <td>Miso Ramen</td>\n",
       "      <td>Pack</td>\n",
       "      <td>USA</td>\n",
       "      <td>0.5</td>\n",
       "      <td>NaN</td>\n",
       "    </tr>\n",
       "    <tr>\n",
       "      <th>2</th>\n",
       "      <td>Wai Wai</td>\n",
       "      <td>Tom Yum Chili Flavor</td>\n",
       "      <td>Pack</td>\n",
       "      <td>Thailand</td>\n",
       "      <td>2</td>\n",
       "      <td>NaN</td>\n",
       "    </tr>\n",
       "    <tr>\n",
       "      <th>3</th>\n",
       "      <td>Wai Wai</td>\n",
       "      <td>Tom Yum Shrimp</td>\n",
       "      <td>Pack</td>\n",
       "      <td>Thailand</td>\n",
       "      <td>2</td>\n",
       "      <td>NaN</td>\n",
       "    </tr>\n",
       "    <tr>\n",
       "      <th>4</th>\n",
       "      <td>Wai Wai</td>\n",
       "      <td>Oriental Style Instant Noodles</td>\n",
       "      <td>Pack</td>\n",
       "      <td>Thailand</td>\n",
       "      <td>1</td>\n",
       "      <td>NaN</td>\n",
       "    </tr>\n",
       "    <tr>\n",
       "      <th>5</th>\n",
       "      <td>Vifon</td>\n",
       "      <td>Hu Tiu Nam Vang [\"Phnom Penh\" style] Asian Sty...</td>\n",
       "      <td>Bowl</td>\n",
       "      <td>Vietnam</td>\n",
       "      <td>3.5</td>\n",
       "      <td>NaN</td>\n",
       "    </tr>\n",
       "  </tbody>\n",
       "</table>\n",
       "</div>"
      ],
      "text/plain": [
       "             Brand                                            Variety Style  \\\n",
       "Review #                                                                      \n",
       "1         Westbrae                                         Miso Ramen  Pack   \n",
       "2          Wai Wai                               Tom Yum Chili Flavor  Pack   \n",
       "3          Wai Wai                                     Tom Yum Shrimp  Pack   \n",
       "4          Wai Wai                     Oriental Style Instant Noodles  Pack   \n",
       "5            Vifon  Hu Tiu Nam Vang [\"Phnom Penh\" style] Asian Sty...  Bowl   \n",
       "\n",
       "           Country Stars Top Ten  \n",
       "Review #                          \n",
       "1              USA   0.5     NaN  \n",
       "2         Thailand     2     NaN  \n",
       "3         Thailand     2     NaN  \n",
       "4         Thailand     1     NaN  \n",
       "5          Vietnam   3.5     NaN  "
      ]
     },
     "execution_count": 22,
     "metadata": {},
     "output_type": "execute_result"
    }
   ],
   "source": [
    "df.sort_index(ascending=True).head()"
   ]
  },
  {
   "cell_type": "markdown",
   "id": "ff63c416-8a3b-4163-9125-6b8d6c4ecbc4",
   "metadata": {},
   "source": [
    "### 📊 Descriptive Statistics"
   ]
  },
  {
   "cell_type": "markdown",
   "id": "6030d47c-aceb-4a70-89a3-738abff392a0",
   "metadata": {},
   "source": [
    "`df.describe()` – Generates descriptive statistics for numeric columns.  \n",
    "`df.mean()` – Calculates the mean of the specified data frame values.  \n",
    "`df.median()` – Calculates the median of the specified data frame values.  \n",
    "`df.std()` – Computes the standard deviation of the specified data frame values.  \n",
    "`df.quantile()` – Returns the 0.5 quantile (default is median).  \n",
    "`df.sum()` – Returns the sum of the specified data frame values.  \n",
    "`df.cumsum()` – Computes the cumulative sum of the specified data frame values.  \n",
    "`df.var()` – Calculates the variance of the specified data frame values.  \n",
    "`df.min()` – Returns the minimum value in specified data frame.  \n",
    "`df.max()` – Returns the maximum value in specified data frame.  \n",
    "`df.nlargest(n, 'COLUMN')` – Returns the top `n` rows with the largest values in the specified 'COLUMN'.  \n",
    "`df.nsmallest(n, 'COLUMN')` – Returns the top `n` rows with the smallest values in the specified 'COLUMN'."
   ]
  },
  {
   "cell_type": "code",
   "execution_count": 23,
   "id": "3c1e4beb-1e85-4f84-a86c-f10c079df869",
   "metadata": {},
   "outputs": [
    {
     "data": {
      "text/html": [
       "<div>\n",
       "<style scoped>\n",
       "    .dataframe tbody tr th:only-of-type {\n",
       "        vertical-align: middle;\n",
       "    }\n",
       "\n",
       "    .dataframe tbody tr th {\n",
       "        vertical-align: top;\n",
       "    }\n",
       "\n",
       "    .dataframe thead th {\n",
       "        text-align: right;\n",
       "    }\n",
       "</style>\n",
       "<table border=\"1\" class=\"dataframe\">\n",
       "  <thead>\n",
       "    <tr style=\"text-align: right;\">\n",
       "      <th></th>\n",
       "      <th>Brand</th>\n",
       "      <th>Variety</th>\n",
       "      <th>Style</th>\n",
       "      <th>Country</th>\n",
       "      <th>Stars</th>\n",
       "      <th>Top Ten</th>\n",
       "    </tr>\n",
       "  </thead>\n",
       "  <tbody>\n",
       "    <tr>\n",
       "      <th>count</th>\n",
       "      <td>2580</td>\n",
       "      <td>2580</td>\n",
       "      <td>2578</td>\n",
       "      <td>2580</td>\n",
       "      <td>2580</td>\n",
       "      <td>41</td>\n",
       "    </tr>\n",
       "    <tr>\n",
       "      <th>unique</th>\n",
       "      <td>355</td>\n",
       "      <td>2413</td>\n",
       "      <td>7</td>\n",
       "      <td>38</td>\n",
       "      <td>51</td>\n",
       "      <td>38</td>\n",
       "    </tr>\n",
       "    <tr>\n",
       "      <th>top</th>\n",
       "      <td>Nissin</td>\n",
       "      <td>Beef</td>\n",
       "      <td>Pack</td>\n",
       "      <td>Japan</td>\n",
       "      <td>4</td>\n",
       "      <td>\\n</td>\n",
       "    </tr>\n",
       "    <tr>\n",
       "      <th>freq</th>\n",
       "      <td>381</td>\n",
       "      <td>7</td>\n",
       "      <td>1531</td>\n",
       "      <td>352</td>\n",
       "      <td>384</td>\n",
       "      <td>4</td>\n",
       "    </tr>\n",
       "  </tbody>\n",
       "</table>\n",
       "</div>"
      ],
      "text/plain": [
       "         Brand Variety Style Country Stars Top Ten\n",
       "count     2580    2580  2578    2580  2580      41\n",
       "unique     355    2413     7      38    51      38\n",
       "top     Nissin    Beef  Pack   Japan     4      \\n\n",
       "freq       381       7  1531     352   384       4"
      ]
     },
     "execution_count": 23,
     "metadata": {},
     "output_type": "execute_result"
    }
   ],
   "source": [
    "df.describe()"
   ]
  },
  {
   "cell_type": "markdown",
   "id": "2363a023-c62c-4501-abc4-42b43a3834c9",
   "metadata": {},
   "source": [
    "Before calculating statistics, we replace `'Unrated'` with `0` and convert the `Stars` column to `float` because the column is originally stored as strings (object type). This conversion allows numeric methods like `mean()`, `median()`, and `std()` to work correctly on the ratings data.  "
   ]
  },
  {
   "cell_type": "code",
   "execution_count": 24,
   "id": "b309fa27-450a-42cd-9975-3fa91487a8fa",
   "metadata": {},
   "outputs": [],
   "source": [
    "stars_df = df['Stars'].replace('Unrated', 0).astype(float)"
   ]
  },
  {
   "cell_type": "code",
   "execution_count": 25,
   "id": "22804ce7-f590-41e3-84fb-0354aac85b38",
   "metadata": {},
   "outputs": [
    {
     "data": {
      "text/plain": [
       "np.float64(3.6504263565891466)"
      ]
     },
     "execution_count": 25,
     "metadata": {},
     "output_type": "execute_result"
    }
   ],
   "source": [
    "stars_df.mean()"
   ]
  },
  {
   "cell_type": "code",
   "execution_count": 26,
   "id": "771acdf8-96fb-49be-923d-e5b6a8474855",
   "metadata": {},
   "outputs": [
    {
     "data": {
      "text/plain": [
       "np.float64(3.75)"
      ]
     },
     "execution_count": 26,
     "metadata": {},
     "output_type": "execute_result"
    }
   ],
   "source": [
    "stars_df.median()"
   ]
  },
  {
   "cell_type": "code",
   "execution_count": 27,
   "id": "ece5c614-f097-4daf-98d9-8cf378e5a791",
   "metadata": {},
   "outputs": [
    {
     "data": {
      "text/plain": [
       "np.float64(1.0223580523512048)"
      ]
     },
     "execution_count": 27,
     "metadata": {},
     "output_type": "execute_result"
    }
   ],
   "source": [
    "stars_df.std()"
   ]
  },
  {
   "cell_type": "code",
   "execution_count": 28,
   "id": "08a72aac-ec46-483d-a53b-b796c89f87e9",
   "metadata": {},
   "outputs": [
    {
     "data": {
      "text/plain": [
       "np.float64(3.75)"
      ]
     },
     "execution_count": 28,
     "metadata": {},
     "output_type": "execute_result"
    }
   ],
   "source": [
    "stars_df.quantile()"
   ]
  },
  {
   "cell_type": "code",
   "execution_count": 29,
   "id": "838ce6ae-781d-459b-89d1-3b95e08e44dd",
   "metadata": {},
   "outputs": [
    {
     "data": {
      "text/plain": [
       "np.float64(9418.099999999999)"
      ]
     },
     "execution_count": 29,
     "metadata": {},
     "output_type": "execute_result"
    }
   ],
   "source": [
    "stars_df.sum()"
   ]
  },
  {
   "cell_type": "code",
   "execution_count": 30,
   "id": "e8b6a5e3-38cf-4915-a5ec-79dfbde67092",
   "metadata": {},
   "outputs": [
    {
     "data": {
      "text/plain": [
       "Review #\n",
       "2580       3.75\n",
       "2579       4.75\n",
       "2578       7.00\n",
       "2577       9.75\n",
       "2576      13.50\n",
       "         ...   \n",
       "5       9412.60\n",
       "4       9413.60\n",
       "3       9415.60\n",
       "2       9417.60\n",
       "1       9418.10\n",
       "Name: Stars, Length: 2580, dtype: float64"
      ]
     },
     "execution_count": 30,
     "metadata": {},
     "output_type": "execute_result"
    }
   ],
   "source": [
    "stars_df.cumsum()"
   ]
  },
  {
   "cell_type": "code",
   "execution_count": 31,
   "id": "c1f78f8a-61aa-480d-b1a1-5dc1318d3203",
   "metadata": {},
   "outputs": [
    {
     "data": {
      "text/plain": [
       "np.float64(1.0452159872073488)"
      ]
     },
     "execution_count": 31,
     "metadata": {},
     "output_type": "execute_result"
    }
   ],
   "source": [
    "stars_df.var()"
   ]
  },
  {
   "cell_type": "code",
   "execution_count": 32,
   "id": "4b7900fb-3856-4a1a-a9c0-ca63a96d830c",
   "metadata": {},
   "outputs": [
    {
     "data": {
      "text/plain": [
       "np.float64(0.0)"
      ]
     },
     "execution_count": 32,
     "metadata": {},
     "output_type": "execute_result"
    }
   ],
   "source": [
    "stars_df.min()"
   ]
  },
  {
   "cell_type": "code",
   "execution_count": 33,
   "id": "4215e9b6-4bd8-467e-974f-e244b488689e",
   "metadata": {},
   "outputs": [
    {
     "data": {
      "text/plain": [
       "np.float64(5.0)"
      ]
     },
     "execution_count": 33,
     "metadata": {},
     "output_type": "execute_result"
    }
   ],
   "source": [
    "stars_df.max()"
   ]
  },
  {
   "cell_type": "code",
   "execution_count": 34,
   "id": "05ba2aed-2084-4070-b555-8fa8a70dfdf2",
   "metadata": {},
   "outputs": [
    {
     "data": {
      "text/plain": [
       "Review #\n",
       "2570    5.0\n",
       "2569    5.0\n",
       "2566    5.0\n",
       "2563    5.0\n",
       "2559    5.0\n",
       "Name: Stars, dtype: float64"
      ]
     },
     "execution_count": 34,
     "metadata": {},
     "output_type": "execute_result"
    }
   ],
   "source": [
    "stars_df.nlargest(5)"
   ]
  },
  {
   "cell_type": "code",
   "execution_count": 35,
   "id": "5d01b403-bd24-4b17-828c-487fb9cc341a",
   "metadata": {},
   "outputs": [
    {
     "data": {
      "text/plain": [
       "Review #\n",
       "2548    0.0\n",
       "2527    0.0\n",
       "2503    0.0\n",
       "2458    0.0\n",
       "2426    0.0\n",
       "Name: Stars, dtype: float64"
      ]
     },
     "execution_count": 35,
     "metadata": {},
     "output_type": "execute_result"
    }
   ],
   "source": [
    "stars_df.nsmallest(5)"
   ]
  },
  {
   "cell_type": "markdown",
   "id": "c0cbd377-15ee-44a4-a3b3-4d1da0dfbe7e",
   "metadata": {},
   "source": [
    "### 🔗 Combining Data Inspection Methods"
   ]
  },
  {
   "cell_type": "markdown",
   "id": "a7648733-ba1f-4a0c-9b93-8b6ae46f2532",
   "metadata": {},
   "source": [
    "You can combine multiple inspection techniques to get deeper insights. For example, count the frequency of each star rating and then sort the results to understand the distribution of scores."
   ]
  },
  {
   "cell_type": "code",
   "execution_count": 36,
   "id": "a34f994d-26c1-4137-97ae-0e4738675865",
   "metadata": {},
   "outputs": [
    {
     "data": {
      "text/plain": [
       "Stars\n",
       "5.00    386\n",
       "4.75     64\n",
       "4.50    135\n",
       "4.30      4\n",
       "4.25    143\n",
       "Name: count, dtype: int64"
      ]
     },
     "execution_count": 36,
     "metadata": {},
     "output_type": "execute_result"
    }
   ],
   "source": [
    "stars_val_count = stars_df.value_counts()\n",
    "stars_val_count.sort_index(ascending=False).head()"
   ]
  },
  {
   "cell_type": "code",
   "execution_count": 37,
   "id": "44ae0a5a-f1b2-4054-9b4a-16b69a17656c",
   "metadata": {},
   "outputs": [
    {
     "data": {
      "text/plain": [
       "Stars\n",
       "4.00    393\n",
       "5.00    386\n",
       "3.75    350\n",
       "3.50    335\n",
       "3.00    176\n",
       "Name: count, dtype: int64"
      ]
     },
     "execution_count": 37,
     "metadata": {},
     "output_type": "execute_result"
    }
   ],
   "source": [
    "stars_val_count.sort_values(ascending=False).head()"
   ]
  },
  {
   "cell_type": "markdown",
   "id": "6adae223-34f7-4560-960e-151ebe8af0ce",
   "metadata": {},
   "source": [
    "### 👉 Next Topic: [Data Selection](./04-data-selection.ipynb)\n",
    "\n",
    "Learn how to select data with pandas."
   ]
  }
 ],
 "metadata": {
  "kernelspec": {
   "display_name": "Python 3 (ipykernel)",
   "language": "python",
   "name": "python3"
  },
  "language_info": {
   "codemirror_mode": {
    "name": "ipython",
    "version": 3
   },
   "file_extension": ".py",
   "mimetype": "text/x-python",
   "name": "python",
   "nbconvert_exporter": "python",
   "pygments_lexer": "ipython3",
   "version": "3.10.4"
  }
 },
 "nbformat": 4,
 "nbformat_minor": 5
}
