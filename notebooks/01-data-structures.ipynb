{
 "cells": [
  {
   "cell_type": "markdown",
   "id": "ae2e40ca-4537-4efd-96f6-9e93260a3078",
   "metadata": {},
   "source": [
    "# 🐼 Pandas Handbook\n",
    "\n",
    "## 01 - Data Structures\n",
    "\n",
    "Check out the official [Pandas documentation](https://pandas.pydata.org/pandas-docs/stable/)"
   ]
  },
  {
   "cell_type": "markdown",
   "id": "9b6af1c9-abb7-4ed8-933e-055a213407a8",
   "metadata": {},
   "source": [
    "## 📚 Table of Contents\n",
    "\n",
    "---\n",
    "\n",
    "🔢 **Index Types in Pandas**  \n",
    "🧱 **Series**  \n",
    "🧱 **DataFrame**  \n",
    "👉 **Next Topic: Importing & Exporting Data**\n",
    "\n",
    "---"
   ]
  },
  {
   "cell_type": "code",
   "execution_count": 1,
   "id": "957299b4-5c36-4aed-bd96-afad51c62cbb",
   "metadata": {},
   "outputs": [],
   "source": [
    "import pandas as pd"
   ]
  },
  {
   "cell_type": "markdown",
   "id": "a6673f04-8b8b-4526-acd9-db6f0a6ca5ea",
   "metadata": {},
   "source": [
    "### 🔢 Index Types in Pandas"
   ]
  },
  {
   "cell_type": "markdown",
   "id": "5ac8c3af-3ca2-4016-9735-435b77fa39df",
   "metadata": {},
   "source": [
    "The index in a pandas Series or DataFrame uniquely labels each row. The most common index types are:"
   ]
  },
  {
   "cell_type": "markdown",
   "id": "00c7e813-1b46-4565-bbea-fd27419d7131",
   "metadata": {},
   "source": [
    "**Integer Index** uses numbers each row: ``index=[0, 1]``  \n",
    "**String Index** uses text labels: ``index=['x', 'y']``  \n",
    "**Datetime Index** uses dates/timestamps: ``index=pd.to_datetime(['2023-01-01', '2023-01-02'])``  "
   ]
  },
  {
   "cell_type": "markdown",
   "id": "a5a78228-b996-4593-a544-1faf75a571dc",
   "metadata": {},
   "source": [
    "### 🧱 Series  \n",
    "A one-dimensional labeled array capable of holding any data type"
   ]
  },
  {
   "cell_type": "markdown",
   "id": "f13db4f3-93b1-4e96-bf9f-216659ef5088",
   "metadata": {},
   "source": [
    "Create a simple Series with custom index labels."
   ]
  },
  {
   "cell_type": "code",
   "execution_count": 2,
   "id": "0be5e61e-1e80-463a-b753-d1c9f9203238",
   "metadata": {},
   "outputs": [
    {
     "data": {
      "text/plain": [
       "a    1\n",
       "b    2\n",
       "c    3\n",
       "dtype: int64"
      ]
     },
     "execution_count": 2,
     "metadata": {},
     "output_type": "execute_result"
    }
   ],
   "source": [
    "s = pd.Series(data=[1,2,3], index=['a', 'b', 'c'])\n",
    "s"
   ]
  },
  {
   "cell_type": "markdown",
   "id": "e3426634-d77b-4665-af22-58ad8dc59b84",
   "metadata": {},
   "source": [
    "### 🧱 DataFrame\n",
    "A two-dimensional labeled data structure with rows and columns."
   ]
  },
  {
   "cell_type": "markdown",
   "id": "8a09bcd5-9048-47c4-b417-2f21cb369cf9",
   "metadata": {},
   "source": [
    "Create a DataFrame from a dictionary (default integer index)."
   ]
  },
  {
   "cell_type": "code",
   "execution_count": 3,
   "id": "1c424bff-a957-4863-9e7b-9bf5205ea71b",
   "metadata": {},
   "outputs": [
    {
     "data": {
      "text/html": [
       "<div>\n",
       "<style scoped>\n",
       "    .dataframe tbody tr th:only-of-type {\n",
       "        vertical-align: middle;\n",
       "    }\n",
       "\n",
       "    .dataframe tbody tr th {\n",
       "        vertical-align: top;\n",
       "    }\n",
       "\n",
       "    .dataframe thead th {\n",
       "        text-align: right;\n",
       "    }\n",
       "</style>\n",
       "<table border=\"1\" class=\"dataframe\">\n",
       "  <thead>\n",
       "    <tr style=\"text-align: right;\">\n",
       "      <th></th>\n",
       "      <th>First name</th>\n",
       "      <th>Last name</th>\n",
       "      <th>Age</th>\n",
       "    </tr>\n",
       "  </thead>\n",
       "  <tbody>\n",
       "    <tr>\n",
       "      <th>0</th>\n",
       "      <td>John</td>\n",
       "      <td>Doe</td>\n",
       "      <td>29</td>\n",
       "    </tr>\n",
       "    <tr>\n",
       "      <th>1</th>\n",
       "      <td>Jim</td>\n",
       "      <td>Evans</td>\n",
       "      <td>45</td>\n",
       "    </tr>\n",
       "    <tr>\n",
       "      <th>2</th>\n",
       "      <td>Jack</td>\n",
       "      <td>Farber</td>\n",
       "      <td>37</td>\n",
       "    </tr>\n",
       "  </tbody>\n",
       "</table>\n",
       "</div>"
      ],
      "text/plain": [
       "  First name Last name  Age\n",
       "0       John       Doe   29\n",
       "1        Jim     Evans   45\n",
       "2       Jack    Farber   37"
      ]
     },
     "execution_count": 3,
     "metadata": {},
     "output_type": "execute_result"
    }
   ],
   "source": [
    "df = pd.DataFrame(data={'First name': ['John', 'Jim', 'Jack'],\n",
    "                        'Last name': ['Doe', 'Evans', 'Farber'],\n",
    "                        'Age': [29, 45, 37]})\n",
    "df"
   ]
  },
  {
   "cell_type": "markdown",
   "id": "ac07baa9-a0b1-472c-ae16-0f973812d2d2",
   "metadata": {},
   "source": [
    "Create the same DataFrame but with a custom row index."
   ]
  },
  {
   "cell_type": "code",
   "execution_count": 4,
   "id": "8ea6ae80-56de-489e-ab59-60f8e3390085",
   "metadata": {},
   "outputs": [
    {
     "data": {
      "text/html": [
       "<div>\n",
       "<style scoped>\n",
       "    .dataframe tbody tr th:only-of-type {\n",
       "        vertical-align: middle;\n",
       "    }\n",
       "\n",
       "    .dataframe tbody tr th {\n",
       "        vertical-align: top;\n",
       "    }\n",
       "\n",
       "    .dataframe thead th {\n",
       "        text-align: right;\n",
       "    }\n",
       "</style>\n",
       "<table border=\"1\" class=\"dataframe\">\n",
       "  <thead>\n",
       "    <tr style=\"text-align: right;\">\n",
       "      <th></th>\n",
       "      <th>First name</th>\n",
       "      <th>Last name</th>\n",
       "      <th>Age</th>\n",
       "    </tr>\n",
       "  </thead>\n",
       "  <tbody>\n",
       "    <tr>\n",
       "      <th>1</th>\n",
       "      <td>John</td>\n",
       "      <td>Doe</td>\n",
       "      <td>29</td>\n",
       "    </tr>\n",
       "    <tr>\n",
       "      <th>2</th>\n",
       "      <td>Jim</td>\n",
       "      <td>Evans</td>\n",
       "      <td>45</td>\n",
       "    </tr>\n",
       "    <tr>\n",
       "      <th>3</th>\n",
       "      <td>Jack</td>\n",
       "      <td>Farber</td>\n",
       "      <td>37</td>\n",
       "    </tr>\n",
       "  </tbody>\n",
       "</table>\n",
       "</div>"
      ],
      "text/plain": [
       "  First name Last name  Age\n",
       "1       John       Doe   29\n",
       "2        Jim     Evans   45\n",
       "3       Jack    Farber   37"
      ]
     },
     "execution_count": 4,
     "metadata": {},
     "output_type": "execute_result"
    }
   ],
   "source": [
    "df = pd.DataFrame(data={'First name': ['John', 'Jim', 'Jack'],\n",
    "                        'Last name': ['Doe', 'Evans', 'Farber'],\n",
    "                        'Age': [29, 45, 37]},\n",
    "                  index=[1, 2, 3])\n",
    "df"
   ]
  },
  {
   "cell_type": "markdown",
   "id": "2f8746ef-5ff5-430f-9c16-65c420959fca",
   "metadata": {},
   "source": [
    "Create a DataFrame from a list of lists with custom row index and column names."
   ]
  },
  {
   "cell_type": "code",
   "execution_count": 5,
   "id": "b63cb282-a2a6-4026-833a-3997826bd542",
   "metadata": {},
   "outputs": [
    {
     "data": {
      "text/html": [
       "<div>\n",
       "<style scoped>\n",
       "    .dataframe tbody tr th:only-of-type {\n",
       "        vertical-align: middle;\n",
       "    }\n",
       "\n",
       "    .dataframe tbody tr th {\n",
       "        vertical-align: top;\n",
       "    }\n",
       "\n",
       "    .dataframe thead th {\n",
       "        text-align: right;\n",
       "    }\n",
       "</style>\n",
       "<table border=\"1\" class=\"dataframe\">\n",
       "  <thead>\n",
       "    <tr style=\"text-align: right;\">\n",
       "      <th></th>\n",
       "      <th>First name</th>\n",
       "      <th>Last name</th>\n",
       "      <th>Age</th>\n",
       "    </tr>\n",
       "  </thead>\n",
       "  <tbody>\n",
       "    <tr>\n",
       "      <th>1</th>\n",
       "      <td>John</td>\n",
       "      <td>Doe</td>\n",
       "      <td>29</td>\n",
       "    </tr>\n",
       "    <tr>\n",
       "      <th>2</th>\n",
       "      <td>Jim</td>\n",
       "      <td>Evans</td>\n",
       "      <td>45</td>\n",
       "    </tr>\n",
       "    <tr>\n",
       "      <th>3</th>\n",
       "      <td>Jack</td>\n",
       "      <td>Farber</td>\n",
       "      <td>37</td>\n",
       "    </tr>\n",
       "  </tbody>\n",
       "</table>\n",
       "</div>"
      ],
      "text/plain": [
       "  First name Last name  Age\n",
       "1       John       Doe   29\n",
       "2        Jim     Evans   45\n",
       "3       Jack    Farber   37"
      ]
     },
     "execution_count": 5,
     "metadata": {},
     "output_type": "execute_result"
    }
   ],
   "source": [
    "df = pd.DataFrame(data=[['John', 'Doe', 29],\n",
    "                        ['Jim', 'Evans', 45],\n",
    "                        ['Jack', 'Farber', 37]],\n",
    "                  index=[1, 2, 3],\n",
    "                  columns=['First name', 'Last name', 'Age'])\n",
    "df"
   ]
  },
  {
   "cell_type": "markdown",
   "id": "7dcb198f-b77c-44ed-a28b-e481db74f946",
   "metadata": {},
   "source": [
    "### 👉 Next Topic: [Importing & Exporting Data](./02-import-export.ipynb)\n",
    "\n",
    "Learn how to import and export data with pandas."
   ]
  }
 ],
 "metadata": {
  "kernelspec": {
   "display_name": "Python 3 (ipykernel)",
   "language": "python",
   "name": "python3"
  },
  "language_info": {
   "codemirror_mode": {
    "name": "ipython",
    "version": 3
   },
   "file_extension": ".py",
   "mimetype": "text/x-python",
   "name": "python",
   "nbconvert_exporter": "python",
   "pygments_lexer": "ipython3",
   "version": "3.10.4"
  }
 },
 "nbformat": 4,
 "nbformat_minor": 5
}
