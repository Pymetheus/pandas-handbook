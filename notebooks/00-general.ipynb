{
 "cells": [
  {
   "cell_type": "markdown",
   "id": "d0738a2b-c8d3-4720-9857-af20ee473a42",
   "metadata": {},
   "source": [
    "# 🐼 Pandas Handbook\n",
    "\n",
    "## 00 - General\n",
    "\n",
    "Check out the official [Pandas documentation](https://pandas.pydata.org/pandas-docs/stable/)"
   ]
  },
  {
   "cell_type": "markdown",
   "id": "46a5050e-c58c-44b7-af89-4a4472f68a8f",
   "metadata": {},
   "source": [
    "## 📚 Table of Contents  \n",
    "---  \n",
    "\n",
    "🐼 **What Is Pandas?**  \n",
    "📦 **Installation**  \n",
    "🐍 **Importing and Setup**  \n",
    "🔍 **Checking Version**  \n",
    "🆘 **Asking for Help**  \n",
    "👉 **Next Topic: Data Structures**\n",
    "\n",
    "---"
   ]
  },
  {
   "cell_type": "markdown",
   "id": "1515f66e-2fbc-4178-8377-31d7dbe1380c",
   "metadata": {},
   "source": [
    "### 🐼 What is Pandas?  \n",
    "Pandas is a powerful Python library for data manipulation and analysis, built on top of NumPy. It provides easy-to-use tools for working with structured data, like tables from CSV files or databases."
   ]
  },
  {
   "cell_type": "markdown",
   "id": "88fcaae4-17cc-4ce2-ae84-caf41e03a2cf",
   "metadata": {},
   "source": [
    "### 📦 Installation"
   ]
  },
  {
   "cell_type": "markdown",
   "id": "97052493-d638-4c3f-a202-85c2414c6ee0",
   "metadata": {},
   "source": [
    "You can install pandas using [pip](https://pypi.org/project/pandas/):\n",
    "\n",
    "```pip install pandas```"
   ]
  },
  {
   "cell_type": "markdown",
   "id": "83fa957e-7a9f-4c06-b345-4b3f1763ec62",
   "metadata": {},
   "source": [
    "Or using [Anaconda](https://www.anaconda.com/docs/getting-started/anaconda/main):\n",
    "\n",
    "```conda install -c conda-forge pandas```"
   ]
  },
  {
   "cell_type": "markdown",
   "id": "ed17e8b7-82c1-4872-93cd-ed0995456306",
   "metadata": {},
   "source": [
    "### 🐍 Importing and Setup\n",
    "`pandas` is commonly imported as `pd` to make code shorter and easier to read."
   ]
  },
  {
   "cell_type": "code",
   "execution_count": 1,
   "id": "026688a9-bc6a-44d2-bdf2-a23fe416d1d8",
   "metadata": {},
   "outputs": [],
   "source": [
    "import pandas as pd"
   ]
  },
  {
   "cell_type": "markdown",
   "id": "700e3dba-42c4-4ef1-aed8-f3ecc3221350",
   "metadata": {},
   "source": [
    "### 🔍 Checking Version\n",
    "Use `pd.__version__` to check the installed pandas version."
   ]
  },
  {
   "cell_type": "code",
   "execution_count": 2,
   "id": "8a510862-c04a-4251-b681-6f32c9b63791",
   "metadata": {},
   "outputs": [
    {
     "name": "stdout",
     "output_type": "stream",
     "text": [
      "2.3.1\n"
     ]
    }
   ],
   "source": [
    "print(pd.__version__)"
   ]
  },
  {
   "cell_type": "markdown",
   "id": "e5600a39-15b4-493c-82e5-f1e9ace60cf1",
   "metadata": {},
   "source": [
    "### 🆘 Asking for Help\n",
    "Use ````help()```` to learn how pandas functions and objects work."
   ]
  },
  {
   "cell_type": "code",
   "execution_count": 3,
   "id": "c162d239-8f30-4a3f-b3a7-4395ec17ae5a",
   "metadata": {},
   "outputs": [],
   "source": [
    "help(pd.DataFrame)"
   ]
  },
  {
   "cell_type": "markdown",
   "id": "37e9c541-ab86-44dd-8243-fb42ceb0a640",
   "metadata": {},
   "source": [
    "### 👉 Next Topic: [Data Structures](./01-data-structures.ipynb)\n",
    "\n",
    "Learn more about data structures in pandas."
   ]
  }
 ],
 "metadata": {
  "kernelspec": {
   "display_name": "Python 3 (ipykernel)",
   "language": "python",
   "name": "python3"
  },
  "language_info": {
   "codemirror_mode": {
    "name": "ipython",
    "version": 3
   },
   "file_extension": ".py",
   "mimetype": "text/x-python",
   "name": "python",
   "nbconvert_exporter": "python",
   "pygments_lexer": "ipython3",
   "version": "3.10.4"
  }
 },
 "nbformat": 4,
 "nbformat_minor": 5
}
