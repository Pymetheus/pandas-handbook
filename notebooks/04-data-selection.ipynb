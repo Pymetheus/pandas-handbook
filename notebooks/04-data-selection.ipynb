{
 "cells": [
  {
   "cell_type": "markdown",
   "id": "c3aa02e9-b1f6-4ad1-a02e-e3e1ff92e9dd",
   "metadata": {},
   "source": [
    "# 🐼 Pandas Handbook\n",
    "\n",
    "## 04 - Data Selection\n",
    "\n",
    "Check out the official [Pandas documentation](https://pandas.pydata.org/pandas-docs/stable/)  \n",
    "\n",
    "This notebook uses the [Ramen Ratings dataset](https://www.kaggle.com/datasets/residentmario/ramen-ratings/data) from Kaggle to demonstrate how to select the data with pandas."
   ]
  },
  {
   "cell_type": "markdown",
   "id": "f6d33943-1fb4-4c5a-843b-35e6f87bd550",
   "metadata": {},
   "source": [
    "## 📚 Table of Contents  \n",
    "---  \n",
    "\n",
    "🔢 **Set & Reset Index**  \n",
    "🎯 **Select Data by Label or Position**  \n",
    "🎯 **Select a Single Value**  \n",
    "🎯 **Select Multiple Rows & Columns**  \n",
    "✂️ **Slice the DataFrame**  \n",
    "🔢 **Slice by Row Position or Column Name**  \n",
    "🏷️ **Slice by Label with df.loc[]**  \n",
    "🔍 **Select with Conditions**  \n",
    "🧠 **Logical Operators in Pandas**  \n",
    "🔍 **Select with Query**  \n",
    "🔍 **Select with Regex**  \n",
    "👉 **Next Topic: Data Cleaning**  \n",
    "\n",
    "---"
   ]
  },
  {
   "cell_type": "code",
   "execution_count": 1,
   "id": "90296774-692f-44e7-a791-a5e673e81d05",
   "metadata": {},
   "outputs": [],
   "source": [
    "import pandas as pd\n",
    "import os"
   ]
  },
  {
   "cell_type": "code",
   "execution_count": 2,
   "id": "85078e55-4721-4b85-bdad-e87a6d448a91",
   "metadata": {},
   "outputs": [],
   "source": [
    "data_raw = \"../data/raw/\"\n",
    "csv_file = \"ramen-ratings.csv\"\n",
    "import_path = os.path.join(data_raw, csv_file)\n",
    "df = pd.read_csv(import_path)"
   ]
  },
  {
   "cell_type": "markdown",
   "id": "9fe46c6e-101f-4a07-a525-45624aa451ec",
   "metadata": {},
   "source": [
    "### 🔢 Set & Reset Index"
   ]
  },
  {
   "cell_type": "markdown",
   "id": "88f7771b-dcd2-4bec-bcbc-89855a04a2ff",
   "metadata": {},
   "source": [
    "`df.set_index('COLUMN', inplace=True)` – Sets the specified `'COLUMN'` as the DataFrame’s new index.  \n",
    "`df.reset_index(inplace=True)` – Resets the index to default integers and moves the current index back to a column."
   ]
  },
  {
   "cell_type": "code",
   "execution_count": 3,
   "id": "e7791dbb-9883-4a6a-93b1-94db05bd0d3f",
   "metadata": {},
   "outputs": [],
   "source": [
    "df.set_index('Review #', inplace=True)"
   ]
  },
  {
   "cell_type": "code",
   "execution_count": 4,
   "id": "fe603ba8-53fc-4f70-8c2d-3b806d0327aa",
   "metadata": {},
   "outputs": [
    {
     "data": {
      "text/html": [
       "<div>\n",
       "<style scoped>\n",
       "    .dataframe tbody tr th:only-of-type {\n",
       "        vertical-align: middle;\n",
       "    }\n",
       "\n",
       "    .dataframe tbody tr th {\n",
       "        vertical-align: top;\n",
       "    }\n",
       "\n",
       "    .dataframe thead th {\n",
       "        text-align: right;\n",
       "    }\n",
       "</style>\n",
       "<table border=\"1\" class=\"dataframe\">\n",
       "  <thead>\n",
       "    <tr style=\"text-align: right;\">\n",
       "      <th></th>\n",
       "      <th>Review #</th>\n",
       "      <th>Brand</th>\n",
       "      <th>Variety</th>\n",
       "      <th>Style</th>\n",
       "      <th>Country</th>\n",
       "      <th>Stars</th>\n",
       "      <th>Top Ten</th>\n",
       "    </tr>\n",
       "  </thead>\n",
       "  <tbody>\n",
       "    <tr>\n",
       "      <th>0</th>\n",
       "      <td>2580</td>\n",
       "      <td>New Touch</td>\n",
       "      <td>T's Restaurant Tantanmen</td>\n",
       "      <td>Cup</td>\n",
       "      <td>Japan</td>\n",
       "      <td>3.75</td>\n",
       "      <td>NaN</td>\n",
       "    </tr>\n",
       "    <tr>\n",
       "      <th>1</th>\n",
       "      <td>2579</td>\n",
       "      <td>Just Way</td>\n",
       "      <td>Noodles Spicy Hot Sesame Spicy Hot Sesame Guan...</td>\n",
       "      <td>Pack</td>\n",
       "      <td>Taiwan</td>\n",
       "      <td>1</td>\n",
       "      <td>NaN</td>\n",
       "    </tr>\n",
       "    <tr>\n",
       "      <th>2</th>\n",
       "      <td>2578</td>\n",
       "      <td>Nissin</td>\n",
       "      <td>Cup Noodles Chicken Vegetable</td>\n",
       "      <td>Cup</td>\n",
       "      <td>USA</td>\n",
       "      <td>2.25</td>\n",
       "      <td>NaN</td>\n",
       "    </tr>\n",
       "    <tr>\n",
       "      <th>3</th>\n",
       "      <td>2577</td>\n",
       "      <td>Wei Lih</td>\n",
       "      <td>GGE Ramen Snack Tomato Flavor</td>\n",
       "      <td>Pack</td>\n",
       "      <td>Taiwan</td>\n",
       "      <td>2.75</td>\n",
       "      <td>NaN</td>\n",
       "    </tr>\n",
       "    <tr>\n",
       "      <th>4</th>\n",
       "      <td>2576</td>\n",
       "      <td>Ching's Secret</td>\n",
       "      <td>Singapore Curry</td>\n",
       "      <td>Pack</td>\n",
       "      <td>India</td>\n",
       "      <td>3.75</td>\n",
       "      <td>NaN</td>\n",
       "    </tr>\n",
       "  </tbody>\n",
       "</table>\n",
       "</div>"
      ],
      "text/plain": [
       "   Review #           Brand  \\\n",
       "0      2580       New Touch   \n",
       "1      2579        Just Way   \n",
       "2      2578          Nissin   \n",
       "3      2577         Wei Lih   \n",
       "4      2576  Ching's Secret   \n",
       "\n",
       "                                             Variety Style Country Stars  \\\n",
       "0                          T's Restaurant Tantanmen    Cup   Japan  3.75   \n",
       "1  Noodles Spicy Hot Sesame Spicy Hot Sesame Guan...  Pack  Taiwan     1   \n",
       "2                      Cup Noodles Chicken Vegetable   Cup     USA  2.25   \n",
       "3                      GGE Ramen Snack Tomato Flavor  Pack  Taiwan  2.75   \n",
       "4                                    Singapore Curry  Pack   India  3.75   \n",
       "\n",
       "  Top Ten  \n",
       "0     NaN  \n",
       "1     NaN  \n",
       "2     NaN  \n",
       "3     NaN  \n",
       "4     NaN  "
      ]
     },
     "execution_count": 4,
     "metadata": {},
     "output_type": "execute_result"
    }
   ],
   "source": [
    "df.reset_index(inplace=False).head()"
   ]
  },
  {
   "cell_type": "code",
   "execution_count": 5,
   "id": "2c65c05d-88e5-490b-a456-54601c1eb083",
   "metadata": {},
   "outputs": [
    {
     "data": {
      "text/html": [
       "<div>\n",
       "<style scoped>\n",
       "    .dataframe tbody tr th:only-of-type {\n",
       "        vertical-align: middle;\n",
       "    }\n",
       "\n",
       "    .dataframe tbody tr th {\n",
       "        vertical-align: top;\n",
       "    }\n",
       "\n",
       "    .dataframe thead th {\n",
       "        text-align: right;\n",
       "    }\n",
       "</style>\n",
       "<table border=\"1\" class=\"dataframe\">\n",
       "  <thead>\n",
       "    <tr style=\"text-align: right;\">\n",
       "      <th></th>\n",
       "      <th>Brand</th>\n",
       "      <th>Variety</th>\n",
       "      <th>Style</th>\n",
       "      <th>Country</th>\n",
       "      <th>Stars</th>\n",
       "      <th>Top Ten</th>\n",
       "    </tr>\n",
       "    <tr>\n",
       "      <th>Review #</th>\n",
       "      <th></th>\n",
       "      <th></th>\n",
       "      <th></th>\n",
       "      <th></th>\n",
       "      <th></th>\n",
       "      <th></th>\n",
       "    </tr>\n",
       "  </thead>\n",
       "  <tbody>\n",
       "    <tr>\n",
       "      <th>2580</th>\n",
       "      <td>New Touch</td>\n",
       "      <td>T's Restaurant Tantanmen</td>\n",
       "      <td>Cup</td>\n",
       "      <td>Japan</td>\n",
       "      <td>3.75</td>\n",
       "      <td>NaN</td>\n",
       "    </tr>\n",
       "    <tr>\n",
       "      <th>2579</th>\n",
       "      <td>Just Way</td>\n",
       "      <td>Noodles Spicy Hot Sesame Spicy Hot Sesame Guan...</td>\n",
       "      <td>Pack</td>\n",
       "      <td>Taiwan</td>\n",
       "      <td>1</td>\n",
       "      <td>NaN</td>\n",
       "    </tr>\n",
       "    <tr>\n",
       "      <th>2578</th>\n",
       "      <td>Nissin</td>\n",
       "      <td>Cup Noodles Chicken Vegetable</td>\n",
       "      <td>Cup</td>\n",
       "      <td>USA</td>\n",
       "      <td>2.25</td>\n",
       "      <td>NaN</td>\n",
       "    </tr>\n",
       "    <tr>\n",
       "      <th>2577</th>\n",
       "      <td>Wei Lih</td>\n",
       "      <td>GGE Ramen Snack Tomato Flavor</td>\n",
       "      <td>Pack</td>\n",
       "      <td>Taiwan</td>\n",
       "      <td>2.75</td>\n",
       "      <td>NaN</td>\n",
       "    </tr>\n",
       "    <tr>\n",
       "      <th>2576</th>\n",
       "      <td>Ching's Secret</td>\n",
       "      <td>Singapore Curry</td>\n",
       "      <td>Pack</td>\n",
       "      <td>India</td>\n",
       "      <td>3.75</td>\n",
       "      <td>NaN</td>\n",
       "    </tr>\n",
       "  </tbody>\n",
       "</table>\n",
       "</div>"
      ],
      "text/plain": [
       "                   Brand                                            Variety  \\\n",
       "Review #                                                                      \n",
       "2580           New Touch                          T's Restaurant Tantanmen    \n",
       "2579            Just Way  Noodles Spicy Hot Sesame Spicy Hot Sesame Guan...   \n",
       "2578              Nissin                      Cup Noodles Chicken Vegetable   \n",
       "2577             Wei Lih                      GGE Ramen Snack Tomato Flavor   \n",
       "2576      Ching's Secret                                    Singapore Curry   \n",
       "\n",
       "         Style Country Stars Top Ten  \n",
       "Review #                              \n",
       "2580       Cup   Japan  3.75     NaN  \n",
       "2579      Pack  Taiwan     1     NaN  \n",
       "2578       Cup     USA  2.25     NaN  \n",
       "2577      Pack  Taiwan  2.75     NaN  \n",
       "2576      Pack   India  3.75     NaN  "
      ]
     },
     "execution_count": 5,
     "metadata": {},
     "output_type": "execute_result"
    }
   ],
   "source": [
    "df.head()"
   ]
  },
  {
   "cell_type": "markdown",
   "id": "7a04bf86-44c5-443b-ac74-9c740ef79382",
   "metadata": {},
   "source": [
    "### 🎯 Select Data by Label or Position"
   ]
  },
  {
   "cell_type": "markdown",
   "id": "033e3833-9874-415c-87f5-f25078eab39c",
   "metadata": {},
   "source": [
    "`df.iloc[row_index, column_index]` – Selects data by **integer position** for rows and columns.  \n",
    "`df.iat[row_index, column_index]` – Accesses a **single value** by position.  \n",
    "`df.loc[index_label, column_label]` – Selects data by **label** for index and columns.  \n",
    "`df.at[index_label, column_label]` – Accesses a **single value** by label.  "
   ]
  },
  {
   "cell_type": "markdown",
   "id": "c25f96a2-37de-4127-920b-5f07442e1eee",
   "metadata": {},
   "source": [
    "Use `df.loc[]` and `df.iloc[]` to select rows and columns by label or position.  \n",
    "Use `df.at[]` and `df.iat[]` for fast access to a single value.  "
   ]
  },
  {
   "cell_type": "markdown",
   "id": "6da6bd54-2f7f-4417-bae9-8e7f8056f98b",
   "metadata": {},
   "source": [
    "`df.iloc[[row1, row2], [col1, col2]]` – Selects specific rows and columns by **position**.  \n",
    "`df.loc[[index_label1, index_label2], ['col1', 'col2']]` – Selects specific index and columns by **label**."
   ]
  },
  {
   "cell_type": "markdown",
   "id": "b70206f2-55d7-4bb1-a3b5-07f5b1d3f6fc",
   "metadata": {},
   "source": [
    "#### 🎯 Select a Single Value"
   ]
  },
  {
   "cell_type": "markdown",
   "id": "696ce027-dfb1-4c47-879b-3bf88cf8ad7d",
   "metadata": {},
   "source": [
    "Locating data by integer position `[row, column]`"
   ]
  },
  {
   "cell_type": "code",
   "execution_count": 6,
   "id": "fce43e28-7452-41cb-a4a9-7d1673f36ce0",
   "metadata": {},
   "outputs": [
    {
     "data": {
      "text/plain": [
       "'New Touch'"
      ]
     },
     "execution_count": 6,
     "metadata": {},
     "output_type": "execute_result"
    }
   ],
   "source": [
    "df.iloc[0, 0]"
   ]
  },
  {
   "cell_type": "code",
   "execution_count": 7,
   "id": "ddac875a-7dc6-41c0-8337-56cb4bbd7323",
   "metadata": {},
   "outputs": [
    {
     "data": {
      "text/plain": [
       "'New Touch'"
      ]
     },
     "execution_count": 7,
     "metadata": {},
     "output_type": "execute_result"
    }
   ],
   "source": [
    "df.iat[0, 0]"
   ]
  },
  {
   "cell_type": "markdown",
   "id": "ab2d5573-131c-4474-b05d-bb080c1c4c89",
   "metadata": {},
   "source": [
    "Locating data by index and column name `[index, column_name]`"
   ]
  },
  {
   "cell_type": "code",
   "execution_count": 8,
   "id": "53fbe782-79dd-4df0-ac1b-893f42d8ef7b",
   "metadata": {},
   "outputs": [
    {
     "data": {
      "text/plain": [
       "\"T's Restaurant Tantanmen \""
      ]
     },
     "execution_count": 8,
     "metadata": {},
     "output_type": "execute_result"
    }
   ],
   "source": [
    "df.loc[2580, 'Variety']"
   ]
  },
  {
   "cell_type": "code",
   "execution_count": 9,
   "id": "ed4ab98a-5587-4039-8602-4bc7c9392ef5",
   "metadata": {},
   "outputs": [
    {
     "data": {
      "text/plain": [
       "\"T's Restaurant Tantanmen \""
      ]
     },
     "execution_count": 9,
     "metadata": {},
     "output_type": "execute_result"
    }
   ],
   "source": [
    "df.at[2580, 'Variety']"
   ]
  },
  {
   "cell_type": "markdown",
   "id": "a228a17e-bb40-4249-b114-9e38c80f7b04",
   "metadata": {},
   "source": [
    "#### 🎯 Select Multiple Rows & Columns"
   ]
  },
  {
   "cell_type": "markdown",
   "id": "b6e6af19-1719-4438-b511-44080dfe668e",
   "metadata": {},
   "source": [
    "Select multiple rows and columns using index lists with `.iloc[]` or `.loc[]`."
   ]
  },
  {
   "cell_type": "code",
   "execution_count": 10,
   "id": "4c0970fd-4f1b-4295-b6da-28c6375d4e9a",
   "metadata": {},
   "outputs": [
    {
     "data": {
      "text/html": [
       "<div>\n",
       "<style scoped>\n",
       "    .dataframe tbody tr th:only-of-type {\n",
       "        vertical-align: middle;\n",
       "    }\n",
       "\n",
       "    .dataframe tbody tr th {\n",
       "        vertical-align: top;\n",
       "    }\n",
       "\n",
       "    .dataframe thead th {\n",
       "        text-align: right;\n",
       "    }\n",
       "</style>\n",
       "<table border=\"1\" class=\"dataframe\">\n",
       "  <thead>\n",
       "    <tr style=\"text-align: right;\">\n",
       "      <th></th>\n",
       "      <th>Brand</th>\n",
       "      <th>Variety</th>\n",
       "      <th>Style</th>\n",
       "    </tr>\n",
       "    <tr>\n",
       "      <th>Review #</th>\n",
       "      <th></th>\n",
       "      <th></th>\n",
       "      <th></th>\n",
       "    </tr>\n",
       "  </thead>\n",
       "  <tbody>\n",
       "    <tr>\n",
       "      <th>2580</th>\n",
       "      <td>New Touch</td>\n",
       "      <td>T's Restaurant Tantanmen</td>\n",
       "      <td>Cup</td>\n",
       "    </tr>\n",
       "    <tr>\n",
       "      <th>2579</th>\n",
       "      <td>Just Way</td>\n",
       "      <td>Noodles Spicy Hot Sesame Spicy Hot Sesame Guan...</td>\n",
       "      <td>Pack</td>\n",
       "    </tr>\n",
       "  </tbody>\n",
       "</table>\n",
       "</div>"
      ],
      "text/plain": [
       "              Brand                                            Variety Style\n",
       "Review #                                                                    \n",
       "2580      New Touch                          T's Restaurant Tantanmen    Cup\n",
       "2579       Just Way  Noodles Spicy Hot Sesame Spicy Hot Sesame Guan...  Pack"
      ]
     },
     "execution_count": 10,
     "metadata": {},
     "output_type": "execute_result"
    }
   ],
   "source": [
    "df.iloc[[0, 1], [0,1,2]]"
   ]
  },
  {
   "cell_type": "code",
   "execution_count": 11,
   "id": "1bb89986-aa75-42a6-8a0c-a22339e7ede3",
   "metadata": {},
   "outputs": [
    {
     "data": {
      "text/html": [
       "<div>\n",
       "<style scoped>\n",
       "    .dataframe tbody tr th:only-of-type {\n",
       "        vertical-align: middle;\n",
       "    }\n",
       "\n",
       "    .dataframe tbody tr th {\n",
       "        vertical-align: top;\n",
       "    }\n",
       "\n",
       "    .dataframe thead th {\n",
       "        text-align: right;\n",
       "    }\n",
       "</style>\n",
       "<table border=\"1\" class=\"dataframe\">\n",
       "  <thead>\n",
       "    <tr style=\"text-align: right;\">\n",
       "      <th></th>\n",
       "      <th>Brand</th>\n",
       "      <th>Variety</th>\n",
       "      <th>Style</th>\n",
       "    </tr>\n",
       "    <tr>\n",
       "      <th>Review #</th>\n",
       "      <th></th>\n",
       "      <th></th>\n",
       "      <th></th>\n",
       "    </tr>\n",
       "  </thead>\n",
       "  <tbody>\n",
       "    <tr>\n",
       "      <th>2580</th>\n",
       "      <td>New Touch</td>\n",
       "      <td>T's Restaurant Tantanmen</td>\n",
       "      <td>Cup</td>\n",
       "    </tr>\n",
       "    <tr>\n",
       "      <th>2579</th>\n",
       "      <td>Just Way</td>\n",
       "      <td>Noodles Spicy Hot Sesame Spicy Hot Sesame Guan...</td>\n",
       "      <td>Pack</td>\n",
       "    </tr>\n",
       "  </tbody>\n",
       "</table>\n",
       "</div>"
      ],
      "text/plain": [
       "              Brand                                            Variety Style\n",
       "Review #                                                                    \n",
       "2580      New Touch                          T's Restaurant Tantanmen    Cup\n",
       "2579       Just Way  Noodles Spicy Hot Sesame Spicy Hot Sesame Guan...  Pack"
      ]
     },
     "execution_count": 11,
     "metadata": {},
     "output_type": "execute_result"
    }
   ],
   "source": [
    "df.loc[[2580, 2579], ['Brand', 'Variety', 'Style']]"
   ]
  },
  {
   "cell_type": "markdown",
   "id": "9ca62a1d-5b61-4748-8630-2af72c8c03ab",
   "metadata": {},
   "source": [
    "### ✂️ Slice the DataFrame"
   ]
  },
  {
   "cell_type": "markdown",
   "id": "51979ad3-bda8-4925-809c-6d4715c76383",
   "metadata": {},
   "source": [
    "#### 🔢 Slice by Row Position or Column Name\n",
    "Use Python slicing syntax to select ranges of rows or columns."
   ]
  },
  {
   "cell_type": "markdown",
   "id": "9a787d17-9bd6-443a-a4e7-d99c5206041a",
   "metadata": {},
   "source": [
    "`df[start:stop]` – Slices rows by position (stop is exclusive).  \n",
    "`df['COLUMN']` – Selects a single column by name (returns a Series).  \n",
    "`df[['COLUMN_1', 'COLUMN_2']]` – Selects multiple columns by name.  \n",
    "`df.get(['COLUMN_1', 'COLUMN_1'])` – Selects safely multiple columns by name.  \n",
    "`df.COLUMN` – Dot notation for selecting a column (if name is a valid Python identifier)."
   ]
  },
  {
   "cell_type": "code",
   "execution_count": 12,
   "id": "b3196fa4-4348-42ad-8896-7065c87c3e74",
   "metadata": {},
   "outputs": [
    {
     "data": {
      "text/html": [
       "<div>\n",
       "<style scoped>\n",
       "    .dataframe tbody tr th:only-of-type {\n",
       "        vertical-align: middle;\n",
       "    }\n",
       "\n",
       "    .dataframe tbody tr th {\n",
       "        vertical-align: top;\n",
       "    }\n",
       "\n",
       "    .dataframe thead th {\n",
       "        text-align: right;\n",
       "    }\n",
       "</style>\n",
       "<table border=\"1\" class=\"dataframe\">\n",
       "  <thead>\n",
       "    <tr style=\"text-align: right;\">\n",
       "      <th></th>\n",
       "      <th>Brand</th>\n",
       "      <th>Variety</th>\n",
       "      <th>Style</th>\n",
       "      <th>Country</th>\n",
       "      <th>Stars</th>\n",
       "      <th>Top Ten</th>\n",
       "    </tr>\n",
       "    <tr>\n",
       "      <th>Review #</th>\n",
       "      <th></th>\n",
       "      <th></th>\n",
       "      <th></th>\n",
       "      <th></th>\n",
       "      <th></th>\n",
       "      <th></th>\n",
       "    </tr>\n",
       "  </thead>\n",
       "  <tbody>\n",
       "    <tr>\n",
       "      <th>2570</th>\n",
       "      <td>Tao Kae Noi</td>\n",
       "      <td>Creamy tom Yum Kung Flavour</td>\n",
       "      <td>Pack</td>\n",
       "      <td>Thailand</td>\n",
       "      <td>5</td>\n",
       "      <td>NaN</td>\n",
       "    </tr>\n",
       "    <tr>\n",
       "      <th>2569</th>\n",
       "      <td>Yamachan</td>\n",
       "      <td>Yokohama Tonkotsu Shoyu</td>\n",
       "      <td>Pack</td>\n",
       "      <td>USA</td>\n",
       "      <td>5</td>\n",
       "      <td>NaN</td>\n",
       "    </tr>\n",
       "    <tr>\n",
       "      <th>2568</th>\n",
       "      <td>Nongshim</td>\n",
       "      <td>Mr. Bibim Stir-Fried Kimchi Flavor</td>\n",
       "      <td>Pack</td>\n",
       "      <td>South Korea</td>\n",
       "      <td>4.25</td>\n",
       "      <td>NaN</td>\n",
       "    </tr>\n",
       "  </tbody>\n",
       "</table>\n",
       "</div>"
      ],
      "text/plain": [
       "                Brand                             Variety Style      Country  \\\n",
       "Review #                                                                       \n",
       "2570      Tao Kae Noi         Creamy tom Yum Kung Flavour  Pack     Thailand   \n",
       "2569         Yamachan             Yokohama Tonkotsu Shoyu  Pack          USA   \n",
       "2568         Nongshim  Mr. Bibim Stir-Fried Kimchi Flavor  Pack  South Korea   \n",
       "\n",
       "         Stars Top Ten  \n",
       "Review #                \n",
       "2570         5     NaN  \n",
       "2569         5     NaN  \n",
       "2568      4.25     NaN  "
      ]
     },
     "execution_count": 12,
     "metadata": {},
     "output_type": "execute_result"
    }
   ],
   "source": [
    "df[10:13]"
   ]
  },
  {
   "cell_type": "code",
   "execution_count": 13,
   "id": "15920eff-f276-4c8f-a822-5e7b6a593512",
   "metadata": {},
   "outputs": [
    {
     "data": {
      "text/plain": [
       "Review #\n",
       "2580     Japan\n",
       "2579    Taiwan\n",
       "2578       USA\n",
       "2577    Taiwan\n",
       "2576     India\n",
       "Name: Country, dtype: object"
      ]
     },
     "execution_count": 13,
     "metadata": {},
     "output_type": "execute_result"
    }
   ],
   "source": [
    "df['Country'].head()"
   ]
  },
  {
   "cell_type": "code",
   "execution_count": 14,
   "id": "4e7dca9b-f8ad-49d7-9439-bee9ac984e4d",
   "metadata": {},
   "outputs": [
    {
     "data": {
      "text/html": [
       "<div>\n",
       "<style scoped>\n",
       "    .dataframe tbody tr th:only-of-type {\n",
       "        vertical-align: middle;\n",
       "    }\n",
       "\n",
       "    .dataframe tbody tr th {\n",
       "        vertical-align: top;\n",
       "    }\n",
       "\n",
       "    .dataframe thead th {\n",
       "        text-align: right;\n",
       "    }\n",
       "</style>\n",
       "<table border=\"1\" class=\"dataframe\">\n",
       "  <thead>\n",
       "    <tr style=\"text-align: right;\">\n",
       "      <th></th>\n",
       "      <th>Brand</th>\n",
       "      <th>Variety</th>\n",
       "      <th>Style</th>\n",
       "    </tr>\n",
       "    <tr>\n",
       "      <th>Review #</th>\n",
       "      <th></th>\n",
       "      <th></th>\n",
       "      <th></th>\n",
       "    </tr>\n",
       "  </thead>\n",
       "  <tbody>\n",
       "    <tr>\n",
       "      <th>2580</th>\n",
       "      <td>New Touch</td>\n",
       "      <td>T's Restaurant Tantanmen</td>\n",
       "      <td>Cup</td>\n",
       "    </tr>\n",
       "    <tr>\n",
       "      <th>2579</th>\n",
       "      <td>Just Way</td>\n",
       "      <td>Noodles Spicy Hot Sesame Spicy Hot Sesame Guan...</td>\n",
       "      <td>Pack</td>\n",
       "    </tr>\n",
       "    <tr>\n",
       "      <th>2578</th>\n",
       "      <td>Nissin</td>\n",
       "      <td>Cup Noodles Chicken Vegetable</td>\n",
       "      <td>Cup</td>\n",
       "    </tr>\n",
       "    <tr>\n",
       "      <th>2577</th>\n",
       "      <td>Wei Lih</td>\n",
       "      <td>GGE Ramen Snack Tomato Flavor</td>\n",
       "      <td>Pack</td>\n",
       "    </tr>\n",
       "    <tr>\n",
       "      <th>2576</th>\n",
       "      <td>Ching's Secret</td>\n",
       "      <td>Singapore Curry</td>\n",
       "      <td>Pack</td>\n",
       "    </tr>\n",
       "  </tbody>\n",
       "</table>\n",
       "</div>"
      ],
      "text/plain": [
       "                   Brand                                            Variety  \\\n",
       "Review #                                                                      \n",
       "2580           New Touch                          T's Restaurant Tantanmen    \n",
       "2579            Just Way  Noodles Spicy Hot Sesame Spicy Hot Sesame Guan...   \n",
       "2578              Nissin                      Cup Noodles Chicken Vegetable   \n",
       "2577             Wei Lih                      GGE Ramen Snack Tomato Flavor   \n",
       "2576      Ching's Secret                                    Singapore Curry   \n",
       "\n",
       "         Style  \n",
       "Review #        \n",
       "2580       Cup  \n",
       "2579      Pack  \n",
       "2578       Cup  \n",
       "2577      Pack  \n",
       "2576      Pack  "
      ]
     },
     "execution_count": 14,
     "metadata": {},
     "output_type": "execute_result"
    }
   ],
   "source": [
    "df[['Brand', 'Variety', 'Style']].head()"
   ]
  },
  {
   "cell_type": "code",
   "execution_count": 15,
   "id": "936cd0f1-bee4-4b76-a29a-4db8dc3bd47f",
   "metadata": {},
   "outputs": [
    {
     "data": {
      "text/html": [
       "<div>\n",
       "<style scoped>\n",
       "    .dataframe tbody tr th:only-of-type {\n",
       "        vertical-align: middle;\n",
       "    }\n",
       "\n",
       "    .dataframe tbody tr th {\n",
       "        vertical-align: top;\n",
       "    }\n",
       "\n",
       "    .dataframe thead th {\n",
       "        text-align: right;\n",
       "    }\n",
       "</style>\n",
       "<table border=\"1\" class=\"dataframe\">\n",
       "  <thead>\n",
       "    <tr style=\"text-align: right;\">\n",
       "      <th></th>\n",
       "      <th>Brand</th>\n",
       "      <th>Variety</th>\n",
       "      <th>Style</th>\n",
       "    </tr>\n",
       "    <tr>\n",
       "      <th>Review #</th>\n",
       "      <th></th>\n",
       "      <th></th>\n",
       "      <th></th>\n",
       "    </tr>\n",
       "  </thead>\n",
       "  <tbody>\n",
       "    <tr>\n",
       "      <th>2580</th>\n",
       "      <td>New Touch</td>\n",
       "      <td>T's Restaurant Tantanmen</td>\n",
       "      <td>Cup</td>\n",
       "    </tr>\n",
       "    <tr>\n",
       "      <th>2579</th>\n",
       "      <td>Just Way</td>\n",
       "      <td>Noodles Spicy Hot Sesame Spicy Hot Sesame Guan...</td>\n",
       "      <td>Pack</td>\n",
       "    </tr>\n",
       "    <tr>\n",
       "      <th>2578</th>\n",
       "      <td>Nissin</td>\n",
       "      <td>Cup Noodles Chicken Vegetable</td>\n",
       "      <td>Cup</td>\n",
       "    </tr>\n",
       "    <tr>\n",
       "      <th>2577</th>\n",
       "      <td>Wei Lih</td>\n",
       "      <td>GGE Ramen Snack Tomato Flavor</td>\n",
       "      <td>Pack</td>\n",
       "    </tr>\n",
       "    <tr>\n",
       "      <th>2576</th>\n",
       "      <td>Ching's Secret</td>\n",
       "      <td>Singapore Curry</td>\n",
       "      <td>Pack</td>\n",
       "    </tr>\n",
       "  </tbody>\n",
       "</table>\n",
       "</div>"
      ],
      "text/plain": [
       "                   Brand                                            Variety  \\\n",
       "Review #                                                                      \n",
       "2580           New Touch                          T's Restaurant Tantanmen    \n",
       "2579            Just Way  Noodles Spicy Hot Sesame Spicy Hot Sesame Guan...   \n",
       "2578              Nissin                      Cup Noodles Chicken Vegetable   \n",
       "2577             Wei Lih                      GGE Ramen Snack Tomato Flavor   \n",
       "2576      Ching's Secret                                    Singapore Curry   \n",
       "\n",
       "         Style  \n",
       "Review #        \n",
       "2580       Cup  \n",
       "2579      Pack  \n",
       "2578       Cup  \n",
       "2577      Pack  \n",
       "2576      Pack  "
      ]
     },
     "execution_count": 15,
     "metadata": {},
     "output_type": "execute_result"
    }
   ],
   "source": [
    "df.get(['Brand', 'Variety', 'Style']).head()"
   ]
  },
  {
   "cell_type": "code",
   "execution_count": 16,
   "id": "816b1ff0-a579-4c72-a781-578652182eef",
   "metadata": {},
   "outputs": [
    {
     "data": {
      "text/plain": [
       "Review #\n",
       "2580     Japan\n",
       "2579    Taiwan\n",
       "2578       USA\n",
       "2577    Taiwan\n",
       "2576     India\n",
       "Name: Country, dtype: object"
      ]
     },
     "execution_count": 16,
     "metadata": {},
     "output_type": "execute_result"
    }
   ],
   "source": [
    "df.Country.head()"
   ]
  },
  {
   "cell_type": "markdown",
   "id": "9640cc30-a205-4d80-b2b4-286929147ba9",
   "metadata": {},
   "source": [
    "#### 🏷️ Slice by Label with `df.loc[]`\n",
    "Use `.loc[]` with labels to slice rows or columns. **Note: The end index is inclusive.**"
   ]
  },
  {
   "cell_type": "markdown",
   "id": "b1ffcc7b-2538-4d0b-b448-6eaab38f42e1",
   "metadata": {},
   "source": [
    "`df.loc[start_label:end_label, 'COLUMN_1':'COLUMN_3']` – Slices rows and columns by label.  \n",
    "`df.loc[:, ['COLUMN_1', 'COLUMN_2']]` – Selects all rows, and specific columns by name."
   ]
  },
  {
   "cell_type": "code",
   "execution_count": 17,
   "id": "a2b75201-5286-4bbd-b6c6-581c586074f6",
   "metadata": {},
   "outputs": [
    {
     "data": {
      "text/html": [
       "<div>\n",
       "<style scoped>\n",
       "    .dataframe tbody tr th:only-of-type {\n",
       "        vertical-align: middle;\n",
       "    }\n",
       "\n",
       "    .dataframe tbody tr th {\n",
       "        vertical-align: top;\n",
       "    }\n",
       "\n",
       "    .dataframe thead th {\n",
       "        text-align: right;\n",
       "    }\n",
       "</style>\n",
       "<table border=\"1\" class=\"dataframe\">\n",
       "  <thead>\n",
       "    <tr style=\"text-align: right;\">\n",
       "      <th></th>\n",
       "      <th>Brand</th>\n",
       "      <th>Variety</th>\n",
       "      <th>Style</th>\n",
       "    </tr>\n",
       "    <tr>\n",
       "      <th>Review #</th>\n",
       "      <th></th>\n",
       "      <th></th>\n",
       "      <th></th>\n",
       "    </tr>\n",
       "  </thead>\n",
       "  <tbody>\n",
       "    <tr>\n",
       "      <th>2580</th>\n",
       "      <td>New Touch</td>\n",
       "      <td>T's Restaurant Tantanmen</td>\n",
       "      <td>Cup</td>\n",
       "    </tr>\n",
       "    <tr>\n",
       "      <th>2579</th>\n",
       "      <td>Just Way</td>\n",
       "      <td>Noodles Spicy Hot Sesame Spicy Hot Sesame Guan...</td>\n",
       "      <td>Pack</td>\n",
       "    </tr>\n",
       "  </tbody>\n",
       "</table>\n",
       "</div>"
      ],
      "text/plain": [
       "              Brand                                            Variety Style\n",
       "Review #                                                                    \n",
       "2580      New Touch                          T's Restaurant Tantanmen    Cup\n",
       "2579       Just Way  Noodles Spicy Hot Sesame Spicy Hot Sesame Guan...  Pack"
      ]
     },
     "execution_count": 17,
     "metadata": {},
     "output_type": "execute_result"
    }
   ],
   "source": [
    "df.loc[2580:2579, 'Brand': 'Style']"
   ]
  },
  {
   "cell_type": "code",
   "execution_count": 18,
   "id": "55adef47-7588-4d9f-ac38-f19bbb87c457",
   "metadata": {},
   "outputs": [
    {
     "data": {
      "text/html": [
       "<div>\n",
       "<style scoped>\n",
       "    .dataframe tbody tr th:only-of-type {\n",
       "        vertical-align: middle;\n",
       "    }\n",
       "\n",
       "    .dataframe tbody tr th {\n",
       "        vertical-align: top;\n",
       "    }\n",
       "\n",
       "    .dataframe thead th {\n",
       "        text-align: right;\n",
       "    }\n",
       "</style>\n",
       "<table border=\"1\" class=\"dataframe\">\n",
       "  <thead>\n",
       "    <tr style=\"text-align: right;\">\n",
       "      <th></th>\n",
       "      <th>Brand</th>\n",
       "      <th>Variety</th>\n",
       "      <th>Style</th>\n",
       "    </tr>\n",
       "    <tr>\n",
       "      <th>Review #</th>\n",
       "      <th></th>\n",
       "      <th></th>\n",
       "      <th></th>\n",
       "    </tr>\n",
       "  </thead>\n",
       "  <tbody>\n",
       "    <tr>\n",
       "      <th>2580</th>\n",
       "      <td>New Touch</td>\n",
       "      <td>T's Restaurant Tantanmen</td>\n",
       "      <td>Cup</td>\n",
       "    </tr>\n",
       "    <tr>\n",
       "      <th>2579</th>\n",
       "      <td>Just Way</td>\n",
       "      <td>Noodles Spicy Hot Sesame Spicy Hot Sesame Guan...</td>\n",
       "      <td>Pack</td>\n",
       "    </tr>\n",
       "    <tr>\n",
       "      <th>2578</th>\n",
       "      <td>Nissin</td>\n",
       "      <td>Cup Noodles Chicken Vegetable</td>\n",
       "      <td>Cup</td>\n",
       "    </tr>\n",
       "  </tbody>\n",
       "</table>\n",
       "</div>"
      ],
      "text/plain": [
       "              Brand                                            Variety Style\n",
       "Review #                                                                    \n",
       "2580      New Touch                          T's Restaurant Tantanmen    Cup\n",
       "2579       Just Way  Noodles Spicy Hot Sesame Spicy Hot Sesame Guan...  Pack\n",
       "2578         Nissin                      Cup Noodles Chicken Vegetable   Cup"
      ]
     },
     "execution_count": 18,
     "metadata": {},
     "output_type": "execute_result"
    }
   ],
   "source": [
    "df.loc[:, ['Brand', 'Variety', 'Style']].head(3)"
   ]
  },
  {
   "cell_type": "markdown",
   "id": "a225d6fd-ffc8-47f0-8965-73235d8ac7c2",
   "metadata": {},
   "source": [
    "### 🔍 Select with Conditions"
   ]
  },
  {
   "cell_type": "markdown",
   "id": "aa367aaf-9e1b-49a2-9551-5f42a9fe4a8c",
   "metadata": {},
   "source": [
    "`df.loc[:, df.columns.str.contains('pattern')]` – Selects all columns whose name matches the regex `'pattern'`.  \n",
    "`df[df['COLUMN'].isin(['VALUE_1', 'VALUE_2'])]` – Filters rows where the column value is in the given list.   \n",
    "`df[df['COLUMN'] == 'VALUE']` – Selects rows where the specified column matches the condition.    \n",
    "`df[df['COLUMN'] > NUM]` – Filters rows based on numeric comparison.    "
   ]
  },
  {
   "cell_type": "code",
   "execution_count": 19,
   "id": "4a645c5a-5e66-452f-9073-8fc2551a0a68",
   "metadata": {},
   "outputs": [
    {
     "data": {
      "text/html": [
       "<div>\n",
       "<style scoped>\n",
       "    .dataframe tbody tr th:only-of-type {\n",
       "        vertical-align: middle;\n",
       "    }\n",
       "\n",
       "    .dataframe tbody tr th {\n",
       "        vertical-align: top;\n",
       "    }\n",
       "\n",
       "    .dataframe thead th {\n",
       "        text-align: right;\n",
       "    }\n",
       "</style>\n",
       "<table border=\"1\" class=\"dataframe\">\n",
       "  <thead>\n",
       "    <tr style=\"text-align: right;\">\n",
       "      <th></th>\n",
       "      <th>Variety</th>\n",
       "      <th>Style</th>\n",
       "      <th>Country</th>\n",
       "    </tr>\n",
       "    <tr>\n",
       "      <th>Review #</th>\n",
       "      <th></th>\n",
       "      <th></th>\n",
       "      <th></th>\n",
       "    </tr>\n",
       "  </thead>\n",
       "  <tbody>\n",
       "    <tr>\n",
       "      <th>2580</th>\n",
       "      <td>T's Restaurant Tantanmen</td>\n",
       "      <td>Cup</td>\n",
       "      <td>Japan</td>\n",
       "    </tr>\n",
       "    <tr>\n",
       "      <th>2579</th>\n",
       "      <td>Noodles Spicy Hot Sesame Spicy Hot Sesame Guan...</td>\n",
       "      <td>Pack</td>\n",
       "      <td>Taiwan</td>\n",
       "    </tr>\n",
       "    <tr>\n",
       "      <th>2578</th>\n",
       "      <td>Cup Noodles Chicken Vegetable</td>\n",
       "      <td>Cup</td>\n",
       "      <td>USA</td>\n",
       "    </tr>\n",
       "    <tr>\n",
       "      <th>2577</th>\n",
       "      <td>GGE Ramen Snack Tomato Flavor</td>\n",
       "      <td>Pack</td>\n",
       "      <td>Taiwan</td>\n",
       "    </tr>\n",
       "    <tr>\n",
       "      <th>2576</th>\n",
       "      <td>Singapore Curry</td>\n",
       "      <td>Pack</td>\n",
       "      <td>India</td>\n",
       "    </tr>\n",
       "  </tbody>\n",
       "</table>\n",
       "</div>"
      ],
      "text/plain": [
       "                                                    Variety Style Country\n",
       "Review #                                                                 \n",
       "2580                              T's Restaurant Tantanmen    Cup   Japan\n",
       "2579      Noodles Spicy Hot Sesame Spicy Hot Sesame Guan...  Pack  Taiwan\n",
       "2578                          Cup Noodles Chicken Vegetable   Cup     USA\n",
       "2577                          GGE Ramen Snack Tomato Flavor  Pack  Taiwan\n",
       "2576                                        Singapore Curry  Pack   India"
      ]
     },
     "execution_count": 19,
     "metadata": {},
     "output_type": "execute_result"
    }
   ],
   "source": [
    "df.loc[:, df.columns.str.contains('y')].head()"
   ]
  },
  {
   "cell_type": "code",
   "execution_count": 20,
   "id": "966d303b-9343-4285-bbda-ff219dc1f677",
   "metadata": {},
   "outputs": [
    {
     "data": {
      "text/html": [
       "<div>\n",
       "<style scoped>\n",
       "    .dataframe tbody tr th:only-of-type {\n",
       "        vertical-align: middle;\n",
       "    }\n",
       "\n",
       "    .dataframe tbody tr th {\n",
       "        vertical-align: top;\n",
       "    }\n",
       "\n",
       "    .dataframe thead th {\n",
       "        text-align: right;\n",
       "    }\n",
       "</style>\n",
       "<table border=\"1\" class=\"dataframe\">\n",
       "  <thead>\n",
       "    <tr style=\"text-align: right;\">\n",
       "      <th></th>\n",
       "      <th>Brand</th>\n",
       "      <th>Variety</th>\n",
       "      <th>Style</th>\n",
       "      <th>Country</th>\n",
       "      <th>Stars</th>\n",
       "      <th>Top Ten</th>\n",
       "    </tr>\n",
       "    <tr>\n",
       "      <th>Review #</th>\n",
       "      <th></th>\n",
       "      <th></th>\n",
       "      <th></th>\n",
       "      <th></th>\n",
       "      <th></th>\n",
       "      <th></th>\n",
       "    </tr>\n",
       "  </thead>\n",
       "  <tbody>\n",
       "    <tr>\n",
       "      <th>2580</th>\n",
       "      <td>New Touch</td>\n",
       "      <td>T's Restaurant Tantanmen</td>\n",
       "      <td>Cup</td>\n",
       "      <td>Japan</td>\n",
       "      <td>3.75</td>\n",
       "      <td>NaN</td>\n",
       "    </tr>\n",
       "    <tr>\n",
       "      <th>2575</th>\n",
       "      <td>Samyang Foods</td>\n",
       "      <td>Kimchi song Song Ramen</td>\n",
       "      <td>Pack</td>\n",
       "      <td>South Korea</td>\n",
       "      <td>4.75</td>\n",
       "      <td>NaN</td>\n",
       "    </tr>\n",
       "    <tr>\n",
       "      <th>2574</th>\n",
       "      <td>Acecook</td>\n",
       "      <td>Spice Deli Tantan Men With Cilantro</td>\n",
       "      <td>Cup</td>\n",
       "      <td>Japan</td>\n",
       "      <td>4</td>\n",
       "      <td>NaN</td>\n",
       "    </tr>\n",
       "    <tr>\n",
       "      <th>2573</th>\n",
       "      <td>Ikeda Shoku</td>\n",
       "      <td>Nabeyaki Kitsune Udon</td>\n",
       "      <td>Tray</td>\n",
       "      <td>Japan</td>\n",
       "      <td>3.75</td>\n",
       "      <td>NaN</td>\n",
       "    </tr>\n",
       "    <tr>\n",
       "      <th>2572</th>\n",
       "      <td>Ripe'n'Dry</td>\n",
       "      <td>Hokkaido Soy Sauce Ramen</td>\n",
       "      <td>Pack</td>\n",
       "      <td>Japan</td>\n",
       "      <td>0.25</td>\n",
       "      <td>NaN</td>\n",
       "    </tr>\n",
       "  </tbody>\n",
       "</table>\n",
       "</div>"
      ],
      "text/plain": [
       "                  Brand                              Variety Style  \\\n",
       "Review #                                                             \n",
       "2580          New Touch            T's Restaurant Tantanmen    Cup   \n",
       "2575      Samyang Foods               Kimchi song Song Ramen  Pack   \n",
       "2574            Acecook  Spice Deli Tantan Men With Cilantro   Cup   \n",
       "2573        Ikeda Shoku                Nabeyaki Kitsune Udon  Tray   \n",
       "2572         Ripe'n'Dry             Hokkaido Soy Sauce Ramen  Pack   \n",
       "\n",
       "              Country Stars Top Ten  \n",
       "Review #                             \n",
       "2580            Japan  3.75     NaN  \n",
       "2575      South Korea  4.75     NaN  \n",
       "2574            Japan     4     NaN  \n",
       "2573            Japan  3.75     NaN  \n",
       "2572            Japan  0.25     NaN  "
      ]
     },
     "execution_count": 20,
     "metadata": {},
     "output_type": "execute_result"
    }
   ],
   "source": [
    "df[df['Country'].isin(['Japan', 'South Korea'])].head()"
   ]
  },
  {
   "cell_type": "code",
   "execution_count": 21,
   "id": "790079c7-57eb-455b-be73-a831c7c9548f",
   "metadata": {},
   "outputs": [
    {
     "data": {
      "text/html": [
       "<div>\n",
       "<style scoped>\n",
       "    .dataframe tbody tr th:only-of-type {\n",
       "        vertical-align: middle;\n",
       "    }\n",
       "\n",
       "    .dataframe tbody tr th {\n",
       "        vertical-align: top;\n",
       "    }\n",
       "\n",
       "    .dataframe thead th {\n",
       "        text-align: right;\n",
       "    }\n",
       "</style>\n",
       "<table border=\"1\" class=\"dataframe\">\n",
       "  <thead>\n",
       "    <tr style=\"text-align: right;\">\n",
       "      <th></th>\n",
       "      <th>Brand</th>\n",
       "      <th>Variety</th>\n",
       "      <th>Style</th>\n",
       "      <th>Country</th>\n",
       "      <th>Stars</th>\n",
       "      <th>Top Ten</th>\n",
       "    </tr>\n",
       "    <tr>\n",
       "      <th>Review #</th>\n",
       "      <th></th>\n",
       "      <th></th>\n",
       "      <th></th>\n",
       "      <th></th>\n",
       "      <th></th>\n",
       "      <th></th>\n",
       "    </tr>\n",
       "  </thead>\n",
       "  <tbody>\n",
       "    <tr>\n",
       "      <th>2569</th>\n",
       "      <td>Yamachan</td>\n",
       "      <td>Yokohama Tonkotsu Shoyu</td>\n",
       "      <td>Pack</td>\n",
       "      <td>USA</td>\n",
       "      <td>5</td>\n",
       "      <td>NaN</td>\n",
       "    </tr>\n",
       "    <tr>\n",
       "      <th>2563</th>\n",
       "      <td>Yamachan</td>\n",
       "      <td>Tokyo Shoyu Ramen</td>\n",
       "      <td>Pack</td>\n",
       "      <td>USA</td>\n",
       "      <td>5</td>\n",
       "      <td>NaN</td>\n",
       "    </tr>\n",
       "    <tr>\n",
       "      <th>2557</th>\n",
       "      <td>Yamachan</td>\n",
       "      <td>Sapporo Miso Ramen</td>\n",
       "      <td>Pack</td>\n",
       "      <td>USA</td>\n",
       "      <td>4.75</td>\n",
       "      <td>NaN</td>\n",
       "    </tr>\n",
       "    <tr>\n",
       "      <th>936</th>\n",
       "      <td>Yamachan</td>\n",
       "      <td>Mild Tonkotsu</td>\n",
       "      <td>Pack</td>\n",
       "      <td>USA</td>\n",
       "      <td>5</td>\n",
       "      <td>NaN</td>\n",
       "    </tr>\n",
       "    <tr>\n",
       "      <th>889</th>\n",
       "      <td>Yamachan</td>\n",
       "      <td>Rich Shoyu Ramen</td>\n",
       "      <td>Pack</td>\n",
       "      <td>USA</td>\n",
       "      <td>4</td>\n",
       "      <td>NaN</td>\n",
       "    </tr>\n",
       "  </tbody>\n",
       "</table>\n",
       "</div>"
      ],
      "text/plain": [
       "             Brand                  Variety Style Country Stars Top Ten\n",
       "Review #                                                               \n",
       "2569      Yamachan  Yokohama Tonkotsu Shoyu  Pack     USA     5     NaN\n",
       "2563      Yamachan        Tokyo Shoyu Ramen  Pack     USA     5     NaN\n",
       "2557      Yamachan       Sapporo Miso Ramen  Pack     USA  4.75     NaN\n",
       "936       Yamachan            Mild Tonkotsu  Pack     USA     5     NaN\n",
       "889       Yamachan         Rich Shoyu Ramen  Pack     USA     4     NaN"
      ]
     },
     "execution_count": 21,
     "metadata": {},
     "output_type": "execute_result"
    }
   ],
   "source": [
    "brand_yamachan = df[df['Brand'] == 'Yamachan']\n",
    "brand_yamachan.head()"
   ]
  },
  {
   "cell_type": "code",
   "execution_count": 22,
   "id": "79fde26e-200a-45f6-9d49-55d98a42fef3",
   "metadata": {},
   "outputs": [
    {
     "data": {
      "text/html": [
       "<div>\n",
       "<style scoped>\n",
       "    .dataframe tbody tr th:only-of-type {\n",
       "        vertical-align: middle;\n",
       "    }\n",
       "\n",
       "    .dataframe tbody tr th {\n",
       "        vertical-align: top;\n",
       "    }\n",
       "\n",
       "    .dataframe thead th {\n",
       "        text-align: right;\n",
       "    }\n",
       "</style>\n",
       "<table border=\"1\" class=\"dataframe\">\n",
       "  <thead>\n",
       "    <tr style=\"text-align: right;\">\n",
       "      <th></th>\n",
       "      <th>Brand</th>\n",
       "      <th>Variety</th>\n",
       "      <th>Style</th>\n",
       "      <th>Country</th>\n",
       "      <th>Stars</th>\n",
       "      <th>Top Ten</th>\n",
       "    </tr>\n",
       "    <tr>\n",
       "      <th>Review #</th>\n",
       "      <th></th>\n",
       "      <th></th>\n",
       "      <th></th>\n",
       "      <th></th>\n",
       "      <th></th>\n",
       "      <th></th>\n",
       "    </tr>\n",
       "  </thead>\n",
       "  <tbody>\n",
       "    <tr>\n",
       "      <th>2569</th>\n",
       "      <td>Yamachan</td>\n",
       "      <td>Yokohama Tonkotsu Shoyu</td>\n",
       "      <td>Pack</td>\n",
       "      <td>USA</td>\n",
       "      <td>5</td>\n",
       "      <td>NaN</td>\n",
       "    </tr>\n",
       "    <tr>\n",
       "      <th>2563</th>\n",
       "      <td>Yamachan</td>\n",
       "      <td>Tokyo Shoyu Ramen</td>\n",
       "      <td>Pack</td>\n",
       "      <td>USA</td>\n",
       "      <td>5</td>\n",
       "      <td>NaN</td>\n",
       "    </tr>\n",
       "    <tr>\n",
       "      <th>2557</th>\n",
       "      <td>Yamachan</td>\n",
       "      <td>Sapporo Miso Ramen</td>\n",
       "      <td>Pack</td>\n",
       "      <td>USA</td>\n",
       "      <td>4.75</td>\n",
       "      <td>NaN</td>\n",
       "    </tr>\n",
       "    <tr>\n",
       "      <th>936</th>\n",
       "      <td>Yamachan</td>\n",
       "      <td>Mild Tonkotsu</td>\n",
       "      <td>Pack</td>\n",
       "      <td>USA</td>\n",
       "      <td>5</td>\n",
       "      <td>NaN</td>\n",
       "    </tr>\n",
       "    <tr>\n",
       "      <th>886</th>\n",
       "      <td>Yamachan</td>\n",
       "      <td>Tonkotsu-Shoyu Rich Pork Flavor Ramen</td>\n",
       "      <td>Pack</td>\n",
       "      <td>USA</td>\n",
       "      <td>4.75</td>\n",
       "      <td>NaN</td>\n",
       "    </tr>\n",
       "    <tr>\n",
       "      <th>885</th>\n",
       "      <td>Yamachan</td>\n",
       "      <td>Miso Ramen Rich Sapporo Miso</td>\n",
       "      <td>Pack</td>\n",
       "      <td>USA</td>\n",
       "      <td>5</td>\n",
       "      <td>NaN</td>\n",
       "    </tr>\n",
       "  </tbody>\n",
       "</table>\n",
       "</div>"
      ],
      "text/plain": [
       "             Brand                                Variety Style Country Stars  \\\n",
       "Review #                                                                        \n",
       "2569      Yamachan                Yokohama Tonkotsu Shoyu  Pack     USA     5   \n",
       "2563      Yamachan                      Tokyo Shoyu Ramen  Pack     USA     5   \n",
       "2557      Yamachan                     Sapporo Miso Ramen  Pack     USA  4.75   \n",
       "936       Yamachan                          Mild Tonkotsu  Pack     USA     5   \n",
       "886       Yamachan  Tonkotsu-Shoyu Rich Pork Flavor Ramen  Pack     USA  4.75   \n",
       "885       Yamachan           Miso Ramen Rich Sapporo Miso  Pack     USA     5   \n",
       "\n",
       "         Top Ten  \n",
       "Review #          \n",
       "2569         NaN  \n",
       "2563         NaN  \n",
       "2557         NaN  \n",
       "936          NaN  \n",
       "886          NaN  \n",
       "885          NaN  "
      ]
     },
     "execution_count": 22,
     "metadata": {},
     "output_type": "execute_result"
    }
   ],
   "source": [
    "brand_yamachan[brand_yamachan['Stars'].astype(float) > 4.5]"
   ]
  },
  {
   "cell_type": "markdown",
   "id": "1fcb6796-b02e-46bc-b84a-d550a1774b9c",
   "metadata": {},
   "source": [
    "### 🧠 Logical Operators in Pandas\n",
    "Use these operators in combination with boolean masks or inside `.query()`."
   ]
  },
  {
   "cell_type": "markdown",
   "id": "d9c087ae-8d89-4f79-b872-6209a1b51a1f",
   "metadata": {},
   "source": [
    "`<` – Less than  \n",
    "`>` – Greater than  \n",
    "`==` – Equals  \n",
    "`<=` – Less than or equals  \n",
    "`>=` – Greater than or equals  \n",
    "`!=` – Not equal to  \n",
    "`&` – And  \n",
    "`|` – Or  \n",
    "`~` – Not  "
   ]
  },
  {
   "cell_type": "markdown",
   "id": "53a7be39-5d66-4592-9814-ca77415e8228",
   "metadata": {},
   "source": [
    "### 🔍 Select with Query"
   ]
  },
  {
   "cell_type": "markdown",
   "id": "480fe734-cea1-4393-a7b0-ebe5d3cc2491",
   "metadata": {},
   "source": [
    "`df.query(\"COLUMN == 'VALUE' and COLUMN > num\")` – Filters rows using a SQL-like expression with improved readability.  \n",
    "`df.query(\"COLUMN in ['VALUE_1', 'VALUE_2']\")` – Filters rows where the column matches a list of values.  "
   ]
  },
  {
   "cell_type": "code",
   "execution_count": 23,
   "id": "4a4d6f84-3729-41b7-843b-30a21f912dd5",
   "metadata": {},
   "outputs": [],
   "source": [
    "query_df = df.copy()\n",
    "query_df['Stars'] = query_df['Stars'].replace('Unrated', 0).astype(float)"
   ]
  },
  {
   "cell_type": "code",
   "execution_count": 24,
   "id": "ebc92558-1752-4cb5-90a5-929a6a150bc4",
   "metadata": {},
   "outputs": [
    {
     "data": {
      "text/html": [
       "<div>\n",
       "<style scoped>\n",
       "    .dataframe tbody tr th:only-of-type {\n",
       "        vertical-align: middle;\n",
       "    }\n",
       "\n",
       "    .dataframe tbody tr th {\n",
       "        vertical-align: top;\n",
       "    }\n",
       "\n",
       "    .dataframe thead th {\n",
       "        text-align: right;\n",
       "    }\n",
       "</style>\n",
       "<table border=\"1\" class=\"dataframe\">\n",
       "  <thead>\n",
       "    <tr style=\"text-align: right;\">\n",
       "      <th></th>\n",
       "      <th>Brand</th>\n",
       "      <th>Variety</th>\n",
       "      <th>Style</th>\n",
       "      <th>Country</th>\n",
       "      <th>Stars</th>\n",
       "      <th>Top Ten</th>\n",
       "    </tr>\n",
       "    <tr>\n",
       "      <th>Review #</th>\n",
       "      <th></th>\n",
       "      <th></th>\n",
       "      <th></th>\n",
       "      <th></th>\n",
       "      <th></th>\n",
       "      <th></th>\n",
       "    </tr>\n",
       "  </thead>\n",
       "  <tbody>\n",
       "    <tr>\n",
       "      <th>2567</th>\n",
       "      <td>Nissin</td>\n",
       "      <td>Deka Buto Kimchi Pork Flavor</td>\n",
       "      <td>Bowl</td>\n",
       "      <td>Japan</td>\n",
       "      <td>4.50</td>\n",
       "      <td>NaN</td>\n",
       "    </tr>\n",
       "    <tr>\n",
       "      <th>2553</th>\n",
       "      <td>Nissin</td>\n",
       "      <td>Hakata Ramen Noodle White Tonkotsu</td>\n",
       "      <td>Bowl</td>\n",
       "      <td>Japan</td>\n",
       "      <td>4.75</td>\n",
       "      <td>NaN</td>\n",
       "    </tr>\n",
       "    <tr>\n",
       "      <th>2532</th>\n",
       "      <td>Nissin</td>\n",
       "      <td>Nippon Onomichi Ramen</td>\n",
       "      <td>Bowl</td>\n",
       "      <td>Japan</td>\n",
       "      <td>4.75</td>\n",
       "      <td>NaN</td>\n",
       "    </tr>\n",
       "    <tr>\n",
       "      <th>2529</th>\n",
       "      <td>Maruchan</td>\n",
       "      <td>Gotsumori Chanpon Ramen</td>\n",
       "      <td>Bowl</td>\n",
       "      <td>Japan</td>\n",
       "      <td>4.50</td>\n",
       "      <td>NaN</td>\n",
       "    </tr>\n",
       "    <tr>\n",
       "      <th>2522</th>\n",
       "      <td>Takamori</td>\n",
       "      <td>Hearty Japanese Style Curry Udon</td>\n",
       "      <td>Pack</td>\n",
       "      <td>Japan</td>\n",
       "      <td>5.00</td>\n",
       "      <td>NaN</td>\n",
       "    </tr>\n",
       "  </tbody>\n",
       "</table>\n",
       "</div>"
      ],
      "text/plain": [
       "             Brand                             Variety Style Country  Stars  \\\n",
       "Review #                                                                      \n",
       "2567        Nissin        Deka Buto Kimchi Pork Flavor  Bowl   Japan   4.50   \n",
       "2553        Nissin  Hakata Ramen Noodle White Tonkotsu  Bowl   Japan   4.75   \n",
       "2532        Nissin               Nippon Onomichi Ramen  Bowl   Japan   4.75   \n",
       "2529      Maruchan             Gotsumori Chanpon Ramen  Bowl   Japan   4.50   \n",
       "2522      Takamori    Hearty Japanese Style Curry Udon  Pack   Japan   5.00   \n",
       "\n",
       "         Top Ten  \n",
       "Review #          \n",
       "2567         NaN  \n",
       "2553         NaN  \n",
       "2532         NaN  \n",
       "2529         NaN  \n",
       "2522         NaN  "
      ]
     },
     "execution_count": 24,
     "metadata": {},
     "output_type": "execute_result"
    }
   ],
   "source": [
    "query_df.query(\"Country == 'Japan' and Stars >= 4.5\").head()"
   ]
  },
  {
   "cell_type": "code",
   "execution_count": 25,
   "id": "f8508692-3af2-423a-9b88-5e709fe06721",
   "metadata": {},
   "outputs": [
    {
     "data": {
      "text/html": [
       "<div>\n",
       "<style scoped>\n",
       "    .dataframe tbody tr th:only-of-type {\n",
       "        vertical-align: middle;\n",
       "    }\n",
       "\n",
       "    .dataframe tbody tr th {\n",
       "        vertical-align: top;\n",
       "    }\n",
       "\n",
       "    .dataframe thead th {\n",
       "        text-align: right;\n",
       "    }\n",
       "</style>\n",
       "<table border=\"1\" class=\"dataframe\">\n",
       "  <thead>\n",
       "    <tr style=\"text-align: right;\">\n",
       "      <th></th>\n",
       "      <th>Brand</th>\n",
       "      <th>Variety</th>\n",
       "      <th>Style</th>\n",
       "      <th>Country</th>\n",
       "      <th>Stars</th>\n",
       "      <th>Top Ten</th>\n",
       "    </tr>\n",
       "    <tr>\n",
       "      <th>Review #</th>\n",
       "      <th></th>\n",
       "      <th></th>\n",
       "      <th></th>\n",
       "      <th></th>\n",
       "      <th></th>\n",
       "      <th></th>\n",
       "    </tr>\n",
       "  </thead>\n",
       "  <tbody>\n",
       "    <tr>\n",
       "      <th>2580</th>\n",
       "      <td>New Touch</td>\n",
       "      <td>T's Restaurant Tantanmen</td>\n",
       "      <td>Cup</td>\n",
       "      <td>Japan</td>\n",
       "      <td>3.75</td>\n",
       "      <td>NaN</td>\n",
       "    </tr>\n",
       "    <tr>\n",
       "      <th>2579</th>\n",
       "      <td>Just Way</td>\n",
       "      <td>Noodles Spicy Hot Sesame Spicy Hot Sesame Guan...</td>\n",
       "      <td>Pack</td>\n",
       "      <td>Taiwan</td>\n",
       "      <td>1.00</td>\n",
       "      <td>NaN</td>\n",
       "    </tr>\n",
       "    <tr>\n",
       "      <th>2577</th>\n",
       "      <td>Wei Lih</td>\n",
       "      <td>GGE Ramen Snack Tomato Flavor</td>\n",
       "      <td>Pack</td>\n",
       "      <td>Taiwan</td>\n",
       "      <td>2.75</td>\n",
       "      <td>NaN</td>\n",
       "    </tr>\n",
       "    <tr>\n",
       "      <th>2574</th>\n",
       "      <td>Acecook</td>\n",
       "      <td>Spice Deli Tantan Men With Cilantro</td>\n",
       "      <td>Cup</td>\n",
       "      <td>Japan</td>\n",
       "      <td>4.00</td>\n",
       "      <td>NaN</td>\n",
       "    </tr>\n",
       "    <tr>\n",
       "      <th>2573</th>\n",
       "      <td>Ikeda Shoku</td>\n",
       "      <td>Nabeyaki Kitsune Udon</td>\n",
       "      <td>Tray</td>\n",
       "      <td>Japan</td>\n",
       "      <td>3.75</td>\n",
       "      <td>NaN</td>\n",
       "    </tr>\n",
       "  </tbody>\n",
       "</table>\n",
       "</div>"
      ],
      "text/plain": [
       "                Brand                                            Variety  \\\n",
       "Review #                                                                   \n",
       "2580        New Touch                          T's Restaurant Tantanmen    \n",
       "2579         Just Way  Noodles Spicy Hot Sesame Spicy Hot Sesame Guan...   \n",
       "2577          Wei Lih                      GGE Ramen Snack Tomato Flavor   \n",
       "2574          Acecook                Spice Deli Tantan Men With Cilantro   \n",
       "2573      Ikeda Shoku                              Nabeyaki Kitsune Udon   \n",
       "\n",
       "         Style Country  Stars Top Ten  \n",
       "Review #                               \n",
       "2580       Cup   Japan   3.75     NaN  \n",
       "2579      Pack  Taiwan   1.00     NaN  \n",
       "2577      Pack  Taiwan   2.75     NaN  \n",
       "2574       Cup   Japan   4.00     NaN  \n",
       "2573      Tray   Japan   3.75     NaN  "
      ]
     },
     "execution_count": 25,
     "metadata": {},
     "output_type": "execute_result"
    }
   ],
   "source": [
    "query_df.query(\"Country in ['Japan', 'Taiwan']\").head()"
   ]
  },
  {
   "cell_type": "markdown",
   "id": "8b79efa5-b543-48be-bd62-2217f5a94bee",
   "metadata": {},
   "source": [
    "### 🔍 Select with Regex"
   ]
  },
  {
   "cell_type": "markdown",
   "id": "9b8ed65e-3e64-4217-94ee-291e8712bca4",
   "metadata": {},
   "source": [
    "`df.filter(regex='pattern')` – Selects columns whose names match the given regular expression."
   ]
  },
  {
   "cell_type": "code",
   "execution_count": 26,
   "id": "ec5d0203-c61b-4eef-9f50-3ff019354609",
   "metadata": {},
   "outputs": [
    {
     "data": {
      "text/html": [
       "<div>\n",
       "<style scoped>\n",
       "    .dataframe tbody tr th:only-of-type {\n",
       "        vertical-align: middle;\n",
       "    }\n",
       "\n",
       "    .dataframe tbody tr th {\n",
       "        vertical-align: top;\n",
       "    }\n",
       "\n",
       "    .dataframe thead th {\n",
       "        text-align: right;\n",
       "    }\n",
       "</style>\n",
       "<table border=\"1\" class=\"dataframe\">\n",
       "  <thead>\n",
       "    <tr style=\"text-align: right;\">\n",
       "      <th></th>\n",
       "      <th>Country</th>\n",
       "    </tr>\n",
       "    <tr>\n",
       "      <th>Review #</th>\n",
       "      <th></th>\n",
       "    </tr>\n",
       "  </thead>\n",
       "  <tbody>\n",
       "    <tr>\n",
       "      <th>2580</th>\n",
       "      <td>Japan</td>\n",
       "    </tr>\n",
       "    <tr>\n",
       "      <th>2579</th>\n",
       "      <td>Taiwan</td>\n",
       "    </tr>\n",
       "    <tr>\n",
       "      <th>2578</th>\n",
       "      <td>USA</td>\n",
       "    </tr>\n",
       "    <tr>\n",
       "      <th>2577</th>\n",
       "      <td>Taiwan</td>\n",
       "    </tr>\n",
       "    <tr>\n",
       "      <th>2576</th>\n",
       "      <td>India</td>\n",
       "    </tr>\n",
       "  </tbody>\n",
       "</table>\n",
       "</div>"
      ],
      "text/plain": [
       "         Country\n",
       "Review #        \n",
       "2580       Japan\n",
       "2579      Taiwan\n",
       "2578         USA\n",
       "2577      Taiwan\n",
       "2576       India"
      ]
     },
     "execution_count": 26,
     "metadata": {},
     "output_type": "execute_result"
    }
   ],
   "source": [
    "df.filter(regex='C').head()"
   ]
  },
  {
   "cell_type": "markdown",
   "id": "91174bc6-5450-44f1-9254-ea63fafcca7a",
   "metadata": {},
   "source": [
    "### 👉 Next Topic: [Data Cleaning](./05-data-cleaning.ipynb)\n",
    "\n",
    "Learn how to clean data with pandas."
   ]
  }
 ],
 "metadata": {
  "kernelspec": {
   "display_name": "Python 3 (ipykernel)",
   "language": "python",
   "name": "python3"
  },
  "language_info": {
   "codemirror_mode": {
    "name": "ipython",
    "version": 3
   },
   "file_extension": ".py",
   "mimetype": "text/x-python",
   "name": "python",
   "nbconvert_exporter": "python",
   "pygments_lexer": "ipython3",
   "version": "3.10.4"
  }
 },
 "nbformat": 4,
 "nbformat_minor": 5
}
