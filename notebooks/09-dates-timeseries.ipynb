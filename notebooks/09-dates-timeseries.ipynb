{
 "cells": [
  {
   "cell_type": "markdown",
   "id": "01c2d4d7-cfb6-4e6b-8882-b2b1b04d2405",
   "metadata": {},
   "source": [
    "# 🐼 Pandas Handbook\n",
    "\n",
    "## 09 - Dates and Time Series\n",
    "\n",
    "Check out the official [Pandas documentation](https://pandas.pydata.org/pandas-docs/stable/)  \n",
    "\n",
    "This notebook uses the [Weather Prediction dataset](https://www.kaggle.com/datasets/ananthr1/weather-prediction/data) from Kaggle to demonstrate how to work with dates, times and time-based operations in pandas."
   ]
  },
  {
   "cell_type": "markdown",
   "id": "1716d8ad-bfd3-4c85-902e-b37a22ca7a25",
   "metadata": {},
   "source": [
    "## 📚 Table of Contents\n",
    "\n",
    "---\n",
    "\n",
    "📅 **Datetime Conversion**  \n",
    "🕰️ **Creating Date Ranges**  \n",
    "🕓 **Accessing Time Components**  \n",
    "🕓 **Accessing Time with .dt**  \n",
    "🕓 **Accessing Date Properties**  \n",
    "🕓 **Time Differences with Timedelta**  \n",
    "📆 **Working with Periods and Offsets**    \n",
    "🌍 **Timezones and Localization**    \n",
    "🔍 **Filtering and Slicing Dates**  \n",
    "📊 **Frequency Conversion, Resampling and Rolling**  \n",
    "🔧 **Handling Missing Data with .interpolate()**  \n",
    "📈 **Calculating Lagged Values and Differences**  \n",
    "\n",
    "---\n"
   ]
  },
  {
   "cell_type": "code",
   "execution_count": 1,
   "id": "dfa47d0c-dd62-4caa-812e-26347f8d92e7",
   "metadata": {},
   "outputs": [],
   "source": [
    "import pandas as pd\n",
    "import os"
   ]
  },
  {
   "cell_type": "code",
   "execution_count": 2,
   "id": "b81d48d3-7ea1-4703-aa8d-8f95713977f9",
   "metadata": {},
   "outputs": [
    {
     "data": {
      "text/html": [
       "<div>\n",
       "<style scoped>\n",
       "    .dataframe tbody tr th:only-of-type {\n",
       "        vertical-align: middle;\n",
       "    }\n",
       "\n",
       "    .dataframe tbody tr th {\n",
       "        vertical-align: top;\n",
       "    }\n",
       "\n",
       "    .dataframe thead th {\n",
       "        text-align: right;\n",
       "    }\n",
       "</style>\n",
       "<table border=\"1\" class=\"dataframe\">\n",
       "  <thead>\n",
       "    <tr style=\"text-align: right;\">\n",
       "      <th></th>\n",
       "      <th>date</th>\n",
       "      <th>precipitation</th>\n",
       "      <th>temp_max</th>\n",
       "      <th>temp_min</th>\n",
       "      <th>wind</th>\n",
       "      <th>weather</th>\n",
       "    </tr>\n",
       "  </thead>\n",
       "  <tbody>\n",
       "    <tr>\n",
       "      <th>0</th>\n",
       "      <td>2012-01-01</td>\n",
       "      <td>0.0</td>\n",
       "      <td>12.8</td>\n",
       "      <td>5.0</td>\n",
       "      <td>4.7</td>\n",
       "      <td>drizzle</td>\n",
       "    </tr>\n",
       "    <tr>\n",
       "      <th>1</th>\n",
       "      <td>2012-01-02</td>\n",
       "      <td>10.9</td>\n",
       "      <td>10.6</td>\n",
       "      <td>2.8</td>\n",
       "      <td>4.5</td>\n",
       "      <td>rain</td>\n",
       "    </tr>\n",
       "    <tr>\n",
       "      <th>2</th>\n",
       "      <td>2012-01-03</td>\n",
       "      <td>0.8</td>\n",
       "      <td>11.7</td>\n",
       "      <td>7.2</td>\n",
       "      <td>2.3</td>\n",
       "      <td>rain</td>\n",
       "    </tr>\n",
       "    <tr>\n",
       "      <th>3</th>\n",
       "      <td>2012-01-04</td>\n",
       "      <td>20.3</td>\n",
       "      <td>12.2</td>\n",
       "      <td>5.6</td>\n",
       "      <td>4.7</td>\n",
       "      <td>rain</td>\n",
       "    </tr>\n",
       "    <tr>\n",
       "      <th>4</th>\n",
       "      <td>2012-01-05</td>\n",
       "      <td>1.3</td>\n",
       "      <td>8.9</td>\n",
       "      <td>2.8</td>\n",
       "      <td>6.1</td>\n",
       "      <td>rain</td>\n",
       "    </tr>\n",
       "  </tbody>\n",
       "</table>\n",
       "</div>"
      ],
      "text/plain": [
       "         date  precipitation  temp_max  temp_min  wind  weather\n",
       "0  2012-01-01            0.0      12.8       5.0   4.7  drizzle\n",
       "1  2012-01-02           10.9      10.6       2.8   4.5     rain\n",
       "2  2012-01-03            0.8      11.7       7.2   2.3     rain\n",
       "3  2012-01-04           20.3      12.2       5.6   4.7     rain\n",
       "4  2012-01-05            1.3       8.9       2.8   6.1     rain"
      ]
     },
     "execution_count": 2,
     "metadata": {},
     "output_type": "execute_result"
    }
   ],
   "source": [
    "data_raw = \"../data/raw/\"\n",
    "csv_file = \"weather.csv\"\n",
    "import_path = os.path.join(data_raw, csv_file)\n",
    "df = pd.read_csv(import_path)\n",
    "df.head()"
   ]
  },
  {
   "cell_type": "code",
   "execution_count": 3,
   "id": "e19113cf-cccf-4b8d-b4eb-a8e85d7b4749",
   "metadata": {},
   "outputs": [
    {
     "data": {
      "text/plain": [
       "date              object\n",
       "precipitation    float64\n",
       "temp_max         float64\n",
       "temp_min         float64\n",
       "wind             float64\n",
       "weather           object\n",
       "dtype: object"
      ]
     },
     "execution_count": 3,
     "metadata": {},
     "output_type": "execute_result"
    }
   ],
   "source": [
    "df.dtypes"
   ]
  },
  {
   "cell_type": "markdown",
   "id": "b4da0e3d-5206-426b-b21f-b99ede6904ab",
   "metadata": {},
   "source": [
    "### 📅 Datetime Conversion"
   ]
  },
  {
   "cell_type": "markdown",
   "id": "cc7c77da-88f6-49db-8c82-4222efc0ce25",
   "metadata": {},
   "source": [
    "```pd.read_csv(PATH, parse_dates=['COLUMN'], date_format='FORMAT')``` – Reads CSV and parses specified column as datetime.  \n",
    "```pd.to_datetime(df['COLUMN'], format='FORMAT')``` – Converts string-formatted date column to datetime.  "
   ]
  },
  {
   "cell_type": "code",
   "execution_count": 4,
   "id": "68500583-a42a-47f2-84bf-9cca1544961c",
   "metadata": {},
   "outputs": [
    {
     "data": {
      "text/plain": [
       "date             datetime64[ns]\n",
       "precipitation           float64\n",
       "temp_max                float64\n",
       "temp_min                float64\n",
       "wind                    float64\n",
       "weather                  object\n",
       "dtype: object"
      ]
     },
     "execution_count": 4,
     "metadata": {},
     "output_type": "execute_result"
    }
   ],
   "source": [
    "df = pd.read_csv(import_path, parse_dates=['date'], date_format='%Y-%m-%d')\n",
    "df.dtypes"
   ]
  },
  {
   "cell_type": "code",
   "execution_count": 5,
   "id": "05741a51-10ec-43e4-9fc8-5091feb23da8",
   "metadata": {},
   "outputs": [
    {
     "data": {
      "text/plain": [
       "pandas._libs.tslibs.timestamps.Timestamp"
      ]
     },
     "execution_count": 5,
     "metadata": {},
     "output_type": "execute_result"
    }
   ],
   "source": [
    "type(df.loc[0, 'date'])"
   ]
  },
  {
   "cell_type": "code",
   "execution_count": 6,
   "id": "ebfa6cb9-670e-482b-a9e5-824ddc2cc8bc",
   "metadata": {},
   "outputs": [
    {
     "data": {
      "text/plain": [
       "date             datetime64[ns]\n",
       "precipitation           float64\n",
       "temp_max                float64\n",
       "temp_min                float64\n",
       "wind                    float64\n",
       "weather                  object\n",
       "dtype: object"
      ]
     },
     "execution_count": 6,
     "metadata": {},
     "output_type": "execute_result"
    }
   ],
   "source": [
    "df = pd.read_csv(import_path)\n",
    "df['date'] = pd.to_datetime(df['date'], format='%Y-%m-%d')\n",
    "df.dtypes"
   ]
  },
  {
   "cell_type": "code",
   "execution_count": 7,
   "id": "1fd026b3-6535-4b8c-a432-b60ded56c61f",
   "metadata": {},
   "outputs": [
    {
     "data": {
      "text/plain": [
       "pandas._libs.tslibs.timestamps.Timestamp"
      ]
     },
     "execution_count": 7,
     "metadata": {},
     "output_type": "execute_result"
    }
   ],
   "source": [
    "type(df.loc[0, 'date'])"
   ]
  },
  {
   "cell_type": "markdown",
   "id": "85c84b5f-ebbc-4688-b4ca-cce61586f4e0",
   "metadata": {},
   "source": [
    "### 🕰️ Creating Date Ranges"
   ]
  },
  {
   "cell_type": "markdown",
   "id": "92729b43-3daf-4bac-8c40-a09601cbdd40",
   "metadata": {},
   "source": [
    "```pd.date_range(START_DATE, periods=NUM, freq='FREQ')``` – Generates a sequence of dates with a specified frequency.  \n",
    "```pd.DataFrame(data=SEQUENCE, columns=['COLUMN'])``` – Creates a DataFrame from a date sequence.  "
   ]
  },
  {
   "cell_type": "code",
   "execution_count": 8,
   "id": "564dbe70-96dc-4760-86c2-d8a4ceea9e38",
   "metadata": {},
   "outputs": [
    {
     "data": {
      "text/html": [
       "<div>\n",
       "<style scoped>\n",
       "    .dataframe tbody tr th:only-of-type {\n",
       "        vertical-align: middle;\n",
       "    }\n",
       "\n",
       "    .dataframe tbody tr th {\n",
       "        vertical-align: top;\n",
       "    }\n",
       "\n",
       "    .dataframe thead th {\n",
       "        text-align: right;\n",
       "    }\n",
       "</style>\n",
       "<table border=\"1\" class=\"dataframe\">\n",
       "  <thead>\n",
       "    <tr style=\"text-align: right;\">\n",
       "      <th></th>\n",
       "    </tr>\n",
       "    <tr>\n",
       "      <th>date</th>\n",
       "    </tr>\n",
       "  </thead>\n",
       "  <tbody>\n",
       "    <tr>\n",
       "      <th>2012-01-01</th>\n",
       "    </tr>\n",
       "    <tr>\n",
       "      <th>2012-01-02</th>\n",
       "    </tr>\n",
       "    <tr>\n",
       "      <th>2012-01-03</th>\n",
       "    </tr>\n",
       "    <tr>\n",
       "      <th>2012-01-04</th>\n",
       "    </tr>\n",
       "    <tr>\n",
       "      <th>2012-01-05</th>\n",
       "    </tr>\n",
       "  </tbody>\n",
       "</table>\n",
       "</div>"
      ],
      "text/plain": [
       "Empty DataFrame\n",
       "Columns: []\n",
       "Index: [2012-01-01 00:00:00, 2012-01-02 00:00:00, 2012-01-03 00:00:00, 2012-01-04 00:00:00, 2012-01-05 00:00:00]"
      ]
     },
     "execution_count": 8,
     "metadata": {},
     "output_type": "execute_result"
    }
   ],
   "source": [
    "time_range = pd.date_range('1/1/2012', periods=30, freq='d')\n",
    "time_range_df = pd.DataFrame(data=time_range, columns=['date'])\n",
    "time_range_df.set_index('date', inplace=True)\n",
    "time_range_df.head()"
   ]
  },
  {
   "cell_type": "code",
   "execution_count": 9,
   "id": "d8148f60-2a2b-45a7-ad49-06315b9bb0f0",
   "metadata": {},
   "outputs": [
    {
     "data": {
      "text/html": [
       "<div>\n",
       "<style scoped>\n",
       "    .dataframe tbody tr th:only-of-type {\n",
       "        vertical-align: middle;\n",
       "    }\n",
       "\n",
       "    .dataframe tbody tr th {\n",
       "        vertical-align: top;\n",
       "    }\n",
       "\n",
       "    .dataframe thead th {\n",
       "        text-align: right;\n",
       "    }\n",
       "</style>\n",
       "<table border=\"1\" class=\"dataframe\">\n",
       "  <thead>\n",
       "    <tr style=\"text-align: right;\">\n",
       "      <th></th>\n",
       "    </tr>\n",
       "    <tr>\n",
       "      <th>date</th>\n",
       "    </tr>\n",
       "  </thead>\n",
       "  <tbody>\n",
       "    <tr>\n",
       "      <th>2012-01-01 00:00:00</th>\n",
       "    </tr>\n",
       "    <tr>\n",
       "      <th>2012-01-01 01:00:00</th>\n",
       "    </tr>\n",
       "    <tr>\n",
       "      <th>2012-01-01 02:00:00</th>\n",
       "    </tr>\n",
       "    <tr>\n",
       "      <th>2012-01-01 03:00:00</th>\n",
       "    </tr>\n",
       "    <tr>\n",
       "      <th>2012-01-01 04:00:00</th>\n",
       "    </tr>\n",
       "  </tbody>\n",
       "</table>\n",
       "</div>"
      ],
      "text/plain": [
       "Empty DataFrame\n",
       "Columns: []\n",
       "Index: [2012-01-01 00:00:00, 2012-01-01 01:00:00, 2012-01-01 02:00:00, 2012-01-01 03:00:00, 2012-01-01 04:00:00]"
      ]
     },
     "execution_count": 9,
     "metadata": {},
     "output_type": "execute_result"
    }
   ],
   "source": [
    "time_range = pd.date_range('1/1/2012', periods=100, freq='h')\n",
    "time_range_df = pd.DataFrame(data=time_range, columns=['date'])\n",
    "time_range_df.set_index('date', inplace=True)\n",
    "time_range_df.head()"
   ]
  },
  {
   "cell_type": "markdown",
   "id": "62fb76bf-1252-4dac-b815-34521bf78a65",
   "metadata": {},
   "source": [
    "### 🕓 Accessing Time Components"
   ]
  },
  {
   "cell_type": "markdown",
   "id": "50fa7e7a-ad99-42e3-a05a-d11286ca8d54",
   "metadata": {},
   "source": [
    "```df.at_time('HH:MM')``` – Filters data for a specific time of day.  \n",
    "```df.between_time('START', 'END')``` – Filters data between two times of day."
   ]
  },
  {
   "cell_type": "code",
   "execution_count": 10,
   "id": "8429aa1c-1ba0-4537-90f8-f5c20647ed0f",
   "metadata": {},
   "outputs": [
    {
     "data": {
      "text/html": [
       "<div>\n",
       "<style scoped>\n",
       "    .dataframe tbody tr th:only-of-type {\n",
       "        vertical-align: middle;\n",
       "    }\n",
       "\n",
       "    .dataframe tbody tr th {\n",
       "        vertical-align: top;\n",
       "    }\n",
       "\n",
       "    .dataframe thead th {\n",
       "        text-align: right;\n",
       "    }\n",
       "</style>\n",
       "<table border=\"1\" class=\"dataframe\">\n",
       "  <thead>\n",
       "    <tr style=\"text-align: right;\">\n",
       "      <th></th>\n",
       "    </tr>\n",
       "    <tr>\n",
       "      <th>date</th>\n",
       "    </tr>\n",
       "  </thead>\n",
       "  <tbody>\n",
       "    <tr>\n",
       "      <th>2012-01-01 09:00:00</th>\n",
       "    </tr>\n",
       "    <tr>\n",
       "      <th>2012-01-02 09:00:00</th>\n",
       "    </tr>\n",
       "    <tr>\n",
       "      <th>2012-01-03 09:00:00</th>\n",
       "    </tr>\n",
       "    <tr>\n",
       "      <th>2012-01-04 09:00:00</th>\n",
       "    </tr>\n",
       "  </tbody>\n",
       "</table>\n",
       "</div>"
      ],
      "text/plain": [
       "Empty DataFrame\n",
       "Columns: []\n",
       "Index: [2012-01-01 09:00:00, 2012-01-02 09:00:00, 2012-01-03 09:00:00, 2012-01-04 09:00:00]"
      ]
     },
     "execution_count": 10,
     "metadata": {},
     "output_type": "execute_result"
    }
   ],
   "source": [
    "time_range_df.at_time('09:00')"
   ]
  },
  {
   "cell_type": "code",
   "execution_count": 11,
   "id": "7a9f4f9b-4a27-4383-b421-757d800ca6d2",
   "metadata": {},
   "outputs": [
    {
     "data": {
      "text/html": [
       "<div>\n",
       "<style scoped>\n",
       "    .dataframe tbody tr th:only-of-type {\n",
       "        vertical-align: middle;\n",
       "    }\n",
       "\n",
       "    .dataframe tbody tr th {\n",
       "        vertical-align: top;\n",
       "    }\n",
       "\n",
       "    .dataframe thead th {\n",
       "        text-align: right;\n",
       "    }\n",
       "</style>\n",
       "<table border=\"1\" class=\"dataframe\">\n",
       "  <thead>\n",
       "    <tr style=\"text-align: right;\">\n",
       "      <th></th>\n",
       "    </tr>\n",
       "    <tr>\n",
       "      <th>date</th>\n",
       "    </tr>\n",
       "  </thead>\n",
       "  <tbody>\n",
       "    <tr>\n",
       "      <th>2012-01-01 00:00:00</th>\n",
       "    </tr>\n",
       "    <tr>\n",
       "      <th>2012-01-01 01:00:00</th>\n",
       "    </tr>\n",
       "    <tr>\n",
       "      <th>2012-01-01 02:00:00</th>\n",
       "    </tr>\n",
       "    <tr>\n",
       "      <th>2012-01-02 00:00:00</th>\n",
       "    </tr>\n",
       "    <tr>\n",
       "      <th>2012-01-02 01:00:00</th>\n",
       "    </tr>\n",
       "    <tr>\n",
       "      <th>2012-01-02 02:00:00</th>\n",
       "    </tr>\n",
       "    <tr>\n",
       "      <th>2012-01-03 00:00:00</th>\n",
       "    </tr>\n",
       "    <tr>\n",
       "      <th>2012-01-03 01:00:00</th>\n",
       "    </tr>\n",
       "    <tr>\n",
       "      <th>2012-01-03 02:00:00</th>\n",
       "    </tr>\n",
       "    <tr>\n",
       "      <th>2012-01-04 00:00:00</th>\n",
       "    </tr>\n",
       "    <tr>\n",
       "      <th>2012-01-04 01:00:00</th>\n",
       "    </tr>\n",
       "    <tr>\n",
       "      <th>2012-01-04 02:00:00</th>\n",
       "    </tr>\n",
       "    <tr>\n",
       "      <th>2012-01-05 00:00:00</th>\n",
       "    </tr>\n",
       "    <tr>\n",
       "      <th>2012-01-05 01:00:00</th>\n",
       "    </tr>\n",
       "    <tr>\n",
       "      <th>2012-01-05 02:00:00</th>\n",
       "    </tr>\n",
       "  </tbody>\n",
       "</table>\n",
       "</div>"
      ],
      "text/plain": [
       "Empty DataFrame\n",
       "Columns: []\n",
       "Index: [2012-01-01 00:00:00, 2012-01-01 01:00:00, 2012-01-01 02:00:00, 2012-01-02 00:00:00, 2012-01-02 01:00:00, 2012-01-02 02:00:00, 2012-01-03 00:00:00, 2012-01-03 01:00:00, 2012-01-03 02:00:00, 2012-01-04 00:00:00, 2012-01-04 01:00:00, 2012-01-04 02:00:00, 2012-01-05 00:00:00, 2012-01-05 01:00:00, 2012-01-05 02:00:00]"
      ]
     },
     "execution_count": 11,
     "metadata": {},
     "output_type": "execute_result"
    }
   ],
   "source": [
    "time_range_df.between_time('00:00','02:00')"
   ]
  },
  {
   "cell_type": "markdown",
   "id": "ed79e6e9-aefb-43d0-a029-2a0f13ba0d9a",
   "metadata": {},
   "source": [
    "### 🕓 Accessing Time with .dt"
   ]
  },
  {
   "cell_type": "markdown",
   "id": "a28f3e46-7f2a-4164-a06c-d7bd1bd63113",
   "metadata": {},
   "source": [
    "```df['COLUMN'].dt.year``` – Extracts the year from datetime.  \n",
    "```df['COLUMN'].dt.month``` – Extracts the month from datetime.  \n",
    "```df['COLUMN'].dt.quarter``` – Extracts the quarter of the year.  \n",
    "```df['COLUMN'].dt.day``` – Extracts the day of the month.  \n",
    "```df['COLUMN'].dt.hour``` – Extracts the hour.  \n",
    "```df['COLUMN'].dt.minute``` – Extracts the minute.  \n",
    "```df['COLUMN'].dt.second``` – Extracts the second.  \n",
    "```df['COLUMN'].dt.day_name()``` – Gets the day name (e.g., Monday)."
   ]
  },
  {
   "cell_type": "code",
   "execution_count": 12,
   "id": "c8f051a3-9440-40ab-9036-77843ed2142d",
   "metadata": {},
   "outputs": [
    {
     "data": {
      "text/plain": [
       "0       2012\n",
       "1       2012\n",
       "2       2012\n",
       "3       2012\n",
       "4       2012\n",
       "        ... \n",
       "1456    2015\n",
       "1457    2015\n",
       "1458    2015\n",
       "1459    2015\n",
       "1460    2015\n",
       "Name: date, Length: 1461, dtype: int32"
      ]
     },
     "execution_count": 12,
     "metadata": {},
     "output_type": "execute_result"
    }
   ],
   "source": [
    "df['date'].dt.year"
   ]
  },
  {
   "cell_type": "code",
   "execution_count": 13,
   "id": "ee29715e-6bec-4f91-ba00-920a802c247a",
   "metadata": {},
   "outputs": [
    {
     "data": {
      "text/plain": [
       "0        1\n",
       "1        1\n",
       "2        1\n",
       "3        1\n",
       "4        1\n",
       "        ..\n",
       "1456    12\n",
       "1457    12\n",
       "1458    12\n",
       "1459    12\n",
       "1460    12\n",
       "Name: date, Length: 1461, dtype: int32"
      ]
     },
     "execution_count": 13,
     "metadata": {},
     "output_type": "execute_result"
    }
   ],
   "source": [
    "df['date'].dt.month"
   ]
  },
  {
   "cell_type": "code",
   "execution_count": 14,
   "id": "8a4f19c3-da83-42f9-86e2-e8cbea3240ef",
   "metadata": {},
   "outputs": [
    {
     "data": {
      "text/plain": [
       "0       1\n",
       "1       1\n",
       "2       1\n",
       "3       1\n",
       "4       1\n",
       "       ..\n",
       "1456    4\n",
       "1457    4\n",
       "1458    4\n",
       "1459    4\n",
       "1460    4\n",
       "Name: date, Length: 1461, dtype: int32"
      ]
     },
     "execution_count": 14,
     "metadata": {},
     "output_type": "execute_result"
    }
   ],
   "source": [
    "df['date'].dt.quarter"
   ]
  },
  {
   "cell_type": "code",
   "execution_count": 15,
   "id": "98b914f7-7590-4a50-8c2e-392b2c2e66f0",
   "metadata": {},
   "outputs": [
    {
     "data": {
      "text/plain": [
       "0        1\n",
       "1        2\n",
       "2        3\n",
       "3        4\n",
       "4        5\n",
       "        ..\n",
       "1456    27\n",
       "1457    28\n",
       "1458    29\n",
       "1459    30\n",
       "1460    31\n",
       "Name: date, Length: 1461, dtype: int32"
      ]
     },
     "execution_count": 15,
     "metadata": {},
     "output_type": "execute_result"
    }
   ],
   "source": [
    "df['date'].dt.day"
   ]
  },
  {
   "cell_type": "code",
   "execution_count": 16,
   "id": "364984aa-d815-4918-b93e-3333f97e0b37",
   "metadata": {},
   "outputs": [
    {
     "data": {
      "text/plain": [
       "0       0\n",
       "1       0\n",
       "2       0\n",
       "3       0\n",
       "4       0\n",
       "       ..\n",
       "1456    0\n",
       "1457    0\n",
       "1458    0\n",
       "1459    0\n",
       "1460    0\n",
       "Name: date, Length: 1461, dtype: int32"
      ]
     },
     "execution_count": 16,
     "metadata": {},
     "output_type": "execute_result"
    }
   ],
   "source": [
    "df['date'].dt.hour"
   ]
  },
  {
   "cell_type": "code",
   "execution_count": 17,
   "id": "045056f5-019b-4108-a267-b18e1c398dd9",
   "metadata": {},
   "outputs": [
    {
     "data": {
      "text/plain": [
       "0       0\n",
       "1       0\n",
       "2       0\n",
       "3       0\n",
       "4       0\n",
       "       ..\n",
       "1456    0\n",
       "1457    0\n",
       "1458    0\n",
       "1459    0\n",
       "1460    0\n",
       "Name: date, Length: 1461, dtype: int32"
      ]
     },
     "execution_count": 17,
     "metadata": {},
     "output_type": "execute_result"
    }
   ],
   "source": [
    "df['date'].dt.minute"
   ]
  },
  {
   "cell_type": "code",
   "execution_count": 18,
   "id": "bdda922c-df58-42a1-a092-ad85b7c64449",
   "metadata": {},
   "outputs": [
    {
     "data": {
      "text/plain": [
       "0       0\n",
       "1       0\n",
       "2       0\n",
       "3       0\n",
       "4       0\n",
       "       ..\n",
       "1456    0\n",
       "1457    0\n",
       "1458    0\n",
       "1459    0\n",
       "1460    0\n",
       "Name: date, Length: 1461, dtype: int32"
      ]
     },
     "execution_count": 18,
     "metadata": {},
     "output_type": "execute_result"
    }
   ],
   "source": [
    "df['date'].dt.second"
   ]
  },
  {
   "cell_type": "code",
   "execution_count": 19,
   "id": "434fd6ac-4e30-49cc-9611-44e05f2724b8",
   "metadata": {},
   "outputs": [
    {
     "data": {
      "text/plain": [
       "0          Sunday\n",
       "1          Monday\n",
       "2         Tuesday\n",
       "3       Wednesday\n",
       "4        Thursday\n",
       "          ...    \n",
       "1456       Sunday\n",
       "1457       Monday\n",
       "1458      Tuesday\n",
       "1459    Wednesday\n",
       "1460     Thursday\n",
       "Name: date, Length: 1461, dtype: object"
      ]
     },
     "execution_count": 19,
     "metadata": {},
     "output_type": "execute_result"
    }
   ],
   "source": [
    "df['date'].dt.day_name()"
   ]
  },
  {
   "cell_type": "markdown",
   "id": "181ada0a-9b3d-49d0-b120-6c2924523af8",
   "metadata": {},
   "source": [
    "### 🕓 Accessing Date Properties"
   ]
  },
  {
   "cell_type": "markdown",
   "id": "837a10c0-06dd-42b6-8252-9db56ae3fbad",
   "metadata": {},
   "source": [
    "```df.loc[ROW, 'COLUMN'].date()``` – Extracts date part (no time).  \n",
    "```df.loc[ROW, 'COLUMN'].day_name()``` – Gets name of the weekday.  \n",
    "```df.loc[ROW, 'COLUMN'].month_name()``` – Gets name of the month.  \n",
    "```df.loc[ROW, 'COLUMN'].day``` – Extracts day.  \n",
    "```df.loc[ROW, 'COLUMN'].week``` – Extracts week number of the year.  \n",
    "```df.loc[ROW, 'COLUMN'].dayofweek``` – Extracts day of week as integer.  \n",
    "```df.loc[ROW, 'COLUMN'].month``` – Extracts numeric month.  \n",
    "```df.loc[ROW, 'COLUMN'].year``` – Extracts year."
   ]
  },
  {
   "cell_type": "code",
   "execution_count": 20,
   "id": "9f00cd18-2d51-49e0-9604-cf9f0c73ef2c",
   "metadata": {},
   "outputs": [
    {
     "data": {
      "text/plain": [
       "Timestamp('2012-01-09 00:00:00')"
      ]
     },
     "execution_count": 20,
     "metadata": {},
     "output_type": "execute_result"
    }
   ],
   "source": [
    "df.loc[8, 'date']"
   ]
  },
  {
   "cell_type": "code",
   "execution_count": 21,
   "id": "26d136b4-83cb-47ac-ba9c-384e473e864e",
   "metadata": {},
   "outputs": [
    {
     "data": {
      "text/plain": [
       "datetime.date(2012, 1, 9)"
      ]
     },
     "execution_count": 21,
     "metadata": {},
     "output_type": "execute_result"
    }
   ],
   "source": [
    "df.loc[8, 'date'].date()"
   ]
  },
  {
   "cell_type": "code",
   "execution_count": 22,
   "id": "9776f919-d2a6-4416-ad27-e93df590cc1b",
   "metadata": {},
   "outputs": [
    {
     "data": {
      "text/plain": [
       "'Monday'"
      ]
     },
     "execution_count": 22,
     "metadata": {},
     "output_type": "execute_result"
    }
   ],
   "source": [
    "df.loc[8, 'date'].day_name()"
   ]
  },
  {
   "cell_type": "code",
   "execution_count": 23,
   "id": "e71ce242-820e-4bb6-bca6-9b5633dd06b0",
   "metadata": {},
   "outputs": [
    {
     "data": {
      "text/plain": [
       "'January'"
      ]
     },
     "execution_count": 23,
     "metadata": {},
     "output_type": "execute_result"
    }
   ],
   "source": [
    "df.loc[8, 'date'].month_name()"
   ]
  },
  {
   "cell_type": "code",
   "execution_count": 24,
   "id": "399f9731-4ee6-4e4c-82cb-4c80f8cc4353",
   "metadata": {},
   "outputs": [
    {
     "data": {
      "text/plain": [
       "9"
      ]
     },
     "execution_count": 24,
     "metadata": {},
     "output_type": "execute_result"
    }
   ],
   "source": [
    "df.loc[8, 'date'].day"
   ]
  },
  {
   "cell_type": "code",
   "execution_count": 25,
   "id": "1034e0ea-06f5-4210-9e6d-6bddd02770f0",
   "metadata": {},
   "outputs": [
    {
     "data": {
      "text/plain": [
       "2"
      ]
     },
     "execution_count": 25,
     "metadata": {},
     "output_type": "execute_result"
    }
   ],
   "source": [
    "df.loc[8, 'date'].week"
   ]
  },
  {
   "cell_type": "code",
   "execution_count": 26,
   "id": "e9f9b9cd-8095-45e3-bf2e-7e148381c504",
   "metadata": {},
   "outputs": [
    {
     "data": {
      "text/plain": [
       "0"
      ]
     },
     "execution_count": 26,
     "metadata": {},
     "output_type": "execute_result"
    }
   ],
   "source": [
    "df.loc[8, 'date'].dayofweek"
   ]
  },
  {
   "cell_type": "code",
   "execution_count": 27,
   "id": "82e9af9a-d724-4511-8843-15f6448ca4c1",
   "metadata": {},
   "outputs": [
    {
     "data": {
      "text/plain": [
       "1"
      ]
     },
     "execution_count": 27,
     "metadata": {},
     "output_type": "execute_result"
    }
   ],
   "source": [
    "df.loc[0, 'date'].month"
   ]
  },
  {
   "cell_type": "code",
   "execution_count": 28,
   "id": "4d514c49-1910-488d-94be-6e5e7336c268",
   "metadata": {},
   "outputs": [
    {
     "data": {
      "text/plain": [
       "2012"
      ]
     },
     "execution_count": 28,
     "metadata": {},
     "output_type": "execute_result"
    }
   ],
   "source": [
    "df.loc[0, 'date'].year"
   ]
  },
  {
   "cell_type": "markdown",
   "id": "0d1824f1-5772-48fc-991d-9b0955102885",
   "metadata": {},
   "source": [
    "### 🕓 Time Differences with Timedelta"
   ]
  },
  {
   "cell_type": "markdown",
   "id": "719176a2-5705-4541-be57-30fb363f159e",
   "metadata": {},
   "source": [
    "```df['COLUMN'].min()``` – Finds earliest datetime.  \n",
    "```df['COLUMN'].max()``` – Finds latest datetime.  \n",
    "```df['COLUMN'].max() - df['COLUMN'].min()``` – Computes timedelta between two dates."
   ]
  },
  {
   "cell_type": "code",
   "execution_count": 29,
   "id": "2a818362-3a4b-4e70-bc67-51d091eb22be",
   "metadata": {},
   "outputs": [
    {
     "data": {
      "text/plain": [
       "Timestamp('2012-01-01 00:00:00')"
      ]
     },
     "execution_count": 29,
     "metadata": {},
     "output_type": "execute_result"
    }
   ],
   "source": [
    "df['date'].min()"
   ]
  },
  {
   "cell_type": "code",
   "execution_count": 30,
   "id": "71b0963b-55fa-45dc-b203-019658df06d0",
   "metadata": {},
   "outputs": [
    {
     "data": {
      "text/plain": [
       "Timestamp('2015-12-31 00:00:00')"
      ]
     },
     "execution_count": 30,
     "metadata": {},
     "output_type": "execute_result"
    }
   ],
   "source": [
    "df['date'].max()"
   ]
  },
  {
   "cell_type": "code",
   "execution_count": 31,
   "id": "3b2296d4-4c8e-4364-8973-58144faacde9",
   "metadata": {},
   "outputs": [
    {
     "data": {
      "text/plain": [
       "Timedelta('1460 days 00:00:00')"
      ]
     },
     "execution_count": 31,
     "metadata": {},
     "output_type": "execute_result"
    }
   ],
   "source": [
    "timedelta = df['date'].max() - df['date'].min()\n",
    "timedelta"
   ]
  },
  {
   "cell_type": "markdown",
   "id": "a1305e3a-72c5-450b-a127-ea1fc6fd2f80",
   "metadata": {},
   "source": [
    "### 📆 Working with Period and Offsets"
   ]
  },
  {
   "cell_type": "markdown",
   "id": "f92781be-5c87-408c-aa09-235243261eed",
   "metadata": {},
   "source": [
    "```pd.Period('VALUE')``` – Creates a period object (e.g., year, month).  \n",
    "```period.start_time``` – Returns start time of the period.  \n",
    "```period.end_time``` – Returns end time of the period.  \n",
    "```period += pd.offsets.FREQ(AMOUNT)``` – Offsets a period forward or backward in time.  "
   ]
  },
  {
   "cell_type": "code",
   "execution_count": 32,
   "id": "acc44c65-b329-4d58-9ad2-a95b3d09f8af",
   "metadata": {},
   "outputs": [
    {
     "data": {
      "text/plain": [
       "Timestamp('2021-01-01 00:00:00')"
      ]
     },
     "execution_count": 32,
     "metadata": {},
     "output_type": "execute_result"
    }
   ],
   "source": [
    "year = pd.Period('2021')\n",
    "year.start_time"
   ]
  },
  {
   "cell_type": "code",
   "execution_count": 33,
   "id": "06ae737e-f01c-4cf6-9430-25a5a867278c",
   "metadata": {},
   "outputs": [
    {
     "data": {
      "text/plain": [
       "Timestamp('2021-12-31 23:59:59.999999999')"
      ]
     },
     "execution_count": 33,
     "metadata": {},
     "output_type": "execute_result"
    }
   ],
   "source": [
    "year.end_time"
   ]
  },
  {
   "cell_type": "code",
   "execution_count": 34,
   "id": "078d0c8c-d474-4d34-8681-f23d9b29c89e",
   "metadata": {},
   "outputs": [
    {
     "data": {
      "text/plain": [
       "Period('2022-02-09 16:00', 'h')"
      ]
     },
     "execution_count": 34,
     "metadata": {},
     "output_type": "execute_result"
    }
   ],
   "source": [
    "month = pd.Period('2022-01')\n",
    "day = pd.Period('2022-01', freq='d')\n",
    "hour = pd.Period('2022-02-09 16:00:00', freq='h')\n",
    "hour"
   ]
  },
  {
   "cell_type": "code",
   "execution_count": 35,
   "id": "1fafbe5a-480b-46b5-a1e1-0250e2d640ab",
   "metadata": {},
   "outputs": [
    {
     "data": {
      "text/plain": [
       "Period('2022-02-09 18:00', 'h')"
      ]
     },
     "execution_count": 35,
     "metadata": {},
     "output_type": "execute_result"
    }
   ],
   "source": [
    "hour += pd.offsets.Hour(+2)\n",
    "hour"
   ]
  },
  {
   "cell_type": "code",
   "execution_count": 36,
   "id": "136f9a0a-4c91-4fe7-b6a2-00885f85fa2b",
   "metadata": {},
   "outputs": [
    {
     "name": "stdout",
     "output_type": "stream",
     "text": [
      "0-Monday\t2022-02-07\n",
      "1-Tuesday\t2022-02-08\n",
      "2-Wednesday\t2022-02-09\n",
      "3-Thursday\t2022-02-10\n",
      "4-Friday\t2022-02-11\n",
      "5-Saturday\t2022-02-12\n",
      "6-Sunday\t2022-02-13\n"
     ]
    }
   ],
   "source": [
    "week = pd.date_range('2022-2-7', periods=7)\n",
    "for day in week:\n",
    "    print(f'{day.day_of_week}-{day.day_name()}\\t{day.date()}')"
   ]
  },
  {
   "cell_type": "markdown",
   "id": "4f5b94d5-c12d-4229-8485-43686391912b",
   "metadata": {},
   "source": [
    "### 🌍 Timezones and Localization"
   ]
  },
  {
   "cell_type": "markdown",
   "id": "862e1112-94ed-45b5-a967-a5da6e84c145",
   "metadata": {},
   "source": [
    "```df['COLUMN'].dt.tz_localize('TIMEZONE')``` – Localizes datetime column to a timezone.  \n",
    "```df['COLUMN'].dt.tz_convert('TIMEZONE')``` – Converts timezone of a datetime column."
   ]
  },
  {
   "cell_type": "code",
   "execution_count": 37,
   "id": "566c26ff-c44e-4d58-ae3c-f571f0c81b09",
   "metadata": {},
   "outputs": [
    {
     "data": {
      "text/plain": [
       "0   2012-01-01 00:00:00+00:00\n",
       "1   2012-01-02 00:00:00+00:00\n",
       "2   2012-01-03 00:00:00+00:00\n",
       "3   2012-01-04 00:00:00+00:00\n",
       "4   2012-01-05 00:00:00+00:00\n",
       "Name: date_utc, dtype: datetime64[ns, UTC]"
      ]
     },
     "execution_count": 37,
     "metadata": {},
     "output_type": "execute_result"
    }
   ],
   "source": [
    "timezone_df =  df.copy()\n",
    "timezone_df['date_utc'] = timezone_df['date'].dt.tz_localize('UTC')\n",
    "timezone_df['date_utc'].head()"
   ]
  },
  {
   "cell_type": "code",
   "execution_count": 38,
   "id": "664d6006-2d37-488c-b4a3-bfd9652eb586",
   "metadata": {},
   "outputs": [
    {
     "data": {
      "text/html": [
       "<div>\n",
       "<style scoped>\n",
       "    .dataframe tbody tr th:only-of-type {\n",
       "        vertical-align: middle;\n",
       "    }\n",
       "\n",
       "    .dataframe tbody tr th {\n",
       "        vertical-align: top;\n",
       "    }\n",
       "\n",
       "    .dataframe thead th {\n",
       "        text-align: right;\n",
       "    }\n",
       "</style>\n",
       "<table border=\"1\" class=\"dataframe\">\n",
       "  <thead>\n",
       "    <tr style=\"text-align: right;\">\n",
       "      <th></th>\n",
       "      <th>date_utc</th>\n",
       "      <th>date_pacific</th>\n",
       "    </tr>\n",
       "  </thead>\n",
       "  <tbody>\n",
       "    <tr>\n",
       "      <th>0</th>\n",
       "      <td>2012-01-01 00:00:00+00:00</td>\n",
       "      <td>2011-12-31 16:00:00-08:00</td>\n",
       "    </tr>\n",
       "    <tr>\n",
       "      <th>1</th>\n",
       "      <td>2012-01-02 00:00:00+00:00</td>\n",
       "      <td>2012-01-01 16:00:00-08:00</td>\n",
       "    </tr>\n",
       "    <tr>\n",
       "      <th>2</th>\n",
       "      <td>2012-01-03 00:00:00+00:00</td>\n",
       "      <td>2012-01-02 16:00:00-08:00</td>\n",
       "    </tr>\n",
       "    <tr>\n",
       "      <th>3</th>\n",
       "      <td>2012-01-04 00:00:00+00:00</td>\n",
       "      <td>2012-01-03 16:00:00-08:00</td>\n",
       "    </tr>\n",
       "    <tr>\n",
       "      <th>4</th>\n",
       "      <td>2012-01-05 00:00:00+00:00</td>\n",
       "      <td>2012-01-04 16:00:00-08:00</td>\n",
       "    </tr>\n",
       "  </tbody>\n",
       "</table>\n",
       "</div>"
      ],
      "text/plain": [
       "                   date_utc              date_pacific\n",
       "0 2012-01-01 00:00:00+00:00 2011-12-31 16:00:00-08:00\n",
       "1 2012-01-02 00:00:00+00:00 2012-01-01 16:00:00-08:00\n",
       "2 2012-01-03 00:00:00+00:00 2012-01-02 16:00:00-08:00\n",
       "3 2012-01-04 00:00:00+00:00 2012-01-03 16:00:00-08:00\n",
       "4 2012-01-05 00:00:00+00:00 2012-01-04 16:00:00-08:00"
      ]
     },
     "execution_count": 38,
     "metadata": {},
     "output_type": "execute_result"
    }
   ],
   "source": [
    "timezone_df['date_pacific'] = timezone_df['date_utc'].dt.tz_convert('US/Pacific')\n",
    "timezone_df[['date_utc', 'date_pacific']].head()"
   ]
  },
  {
   "cell_type": "markdown",
   "id": "c3ab750c-d30c-4118-971e-2dc5d618746c",
   "metadata": {},
   "source": [
    "### 🔍 Filtering and Slicing Dates"
   ]
  },
  {
   "cell_type": "markdown",
   "id": "1072d67c-337b-4ecc-90ed-499e5c1359c7",
   "metadata": {},
   "source": [
    "```df['COLUMN'] > pd.to_datetime('DATE')``` – Filters rows on a datetime condition.  \n",
    "```df.index > pd.Timestamp('DATE')``` – Filters rows on a Timestamp condition.  \n",
    "```df.loc['YEAR']``` – Slices all rows for a specific year.  \n",
    "```df.loc['START_DATE' : 'END_DATE']``` – Slices rows between two dates."
   ]
  },
  {
   "cell_type": "code",
   "execution_count": 39,
   "id": "726c5f7f-a0ab-48c1-ab65-531730ac6650",
   "metadata": {},
   "outputs": [
    {
     "data": {
      "text/html": [
       "<div>\n",
       "<style scoped>\n",
       "    .dataframe tbody tr th:only-of-type {\n",
       "        vertical-align: middle;\n",
       "    }\n",
       "\n",
       "    .dataframe tbody tr th {\n",
       "        vertical-align: top;\n",
       "    }\n",
       "\n",
       "    .dataframe thead th {\n",
       "        text-align: right;\n",
       "    }\n",
       "</style>\n",
       "<table border=\"1\" class=\"dataframe\">\n",
       "  <thead>\n",
       "    <tr style=\"text-align: right;\">\n",
       "      <th></th>\n",
       "      <th>date</th>\n",
       "      <th>precipitation</th>\n",
       "      <th>temp_max</th>\n",
       "      <th>temp_min</th>\n",
       "      <th>wind</th>\n",
       "      <th>weather</th>\n",
       "    </tr>\n",
       "  </thead>\n",
       "  <tbody>\n",
       "    <tr>\n",
       "      <th>367</th>\n",
       "      <td>2013-01-02</td>\n",
       "      <td>0.0</td>\n",
       "      <td>6.1</td>\n",
       "      <td>-1.1</td>\n",
       "      <td>3.2</td>\n",
       "      <td>sun</td>\n",
       "    </tr>\n",
       "    <tr>\n",
       "      <th>368</th>\n",
       "      <td>2013-01-03</td>\n",
       "      <td>4.1</td>\n",
       "      <td>6.7</td>\n",
       "      <td>-1.7</td>\n",
       "      <td>3.0</td>\n",
       "      <td>rain</td>\n",
       "    </tr>\n",
       "    <tr>\n",
       "      <th>369</th>\n",
       "      <td>2013-01-04</td>\n",
       "      <td>2.5</td>\n",
       "      <td>10.0</td>\n",
       "      <td>2.2</td>\n",
       "      <td>2.8</td>\n",
       "      <td>rain</td>\n",
       "    </tr>\n",
       "    <tr>\n",
       "      <th>370</th>\n",
       "      <td>2013-01-05</td>\n",
       "      <td>3.0</td>\n",
       "      <td>6.7</td>\n",
       "      <td>4.4</td>\n",
       "      <td>3.1</td>\n",
       "      <td>rain</td>\n",
       "    </tr>\n",
       "    <tr>\n",
       "      <th>371</th>\n",
       "      <td>2013-01-06</td>\n",
       "      <td>2.0</td>\n",
       "      <td>7.2</td>\n",
       "      <td>2.8</td>\n",
       "      <td>3.0</td>\n",
       "      <td>rain</td>\n",
       "    </tr>\n",
       "  </tbody>\n",
       "</table>\n",
       "</div>"
      ],
      "text/plain": [
       "          date  precipitation  temp_max  temp_min  wind weather\n",
       "367 2013-01-02            0.0       6.1      -1.1   3.2     sun\n",
       "368 2013-01-03            4.1       6.7      -1.7   3.0    rain\n",
       "369 2013-01-04            2.5      10.0       2.2   2.8    rain\n",
       "370 2013-01-05            3.0       6.7       4.4   3.1    rain\n",
       "371 2013-01-06            2.0       7.2       2.8   3.0    rain"
      ]
     },
     "execution_count": 39,
     "metadata": {},
     "output_type": "execute_result"
    }
   ],
   "source": [
    "time_filter = (df['date'] > pd.to_datetime('2013'))\n",
    "df.loc[time_filter].head()"
   ]
  },
  {
   "cell_type": "code",
   "execution_count": 40,
   "id": "df84ec93-2168-4e83-a671-d985564d66ab",
   "metadata": {},
   "outputs": [
    {
     "data": {
      "text/html": [
       "<div>\n",
       "<style scoped>\n",
       "    .dataframe tbody tr th:only-of-type {\n",
       "        vertical-align: middle;\n",
       "    }\n",
       "\n",
       "    .dataframe tbody tr th {\n",
       "        vertical-align: top;\n",
       "    }\n",
       "\n",
       "    .dataframe thead th {\n",
       "        text-align: right;\n",
       "    }\n",
       "</style>\n",
       "<table border=\"1\" class=\"dataframe\">\n",
       "  <thead>\n",
       "    <tr style=\"text-align: right;\">\n",
       "      <th></th>\n",
       "      <th>precipitation</th>\n",
       "      <th>temp_max</th>\n",
       "      <th>temp_min</th>\n",
       "      <th>wind</th>\n",
       "      <th>weather</th>\n",
       "    </tr>\n",
       "    <tr>\n",
       "      <th>date</th>\n",
       "      <th></th>\n",
       "      <th></th>\n",
       "      <th></th>\n",
       "      <th></th>\n",
       "      <th></th>\n",
       "    </tr>\n",
       "  </thead>\n",
       "  <tbody>\n",
       "    <tr>\n",
       "      <th>2013-01-02</th>\n",
       "      <td>0.0</td>\n",
       "      <td>6.1</td>\n",
       "      <td>-1.1</td>\n",
       "      <td>3.2</td>\n",
       "      <td>sun</td>\n",
       "    </tr>\n",
       "    <tr>\n",
       "      <th>2013-01-03</th>\n",
       "      <td>4.1</td>\n",
       "      <td>6.7</td>\n",
       "      <td>-1.7</td>\n",
       "      <td>3.0</td>\n",
       "      <td>rain</td>\n",
       "    </tr>\n",
       "    <tr>\n",
       "      <th>2013-01-04</th>\n",
       "      <td>2.5</td>\n",
       "      <td>10.0</td>\n",
       "      <td>2.2</td>\n",
       "      <td>2.8</td>\n",
       "      <td>rain</td>\n",
       "    </tr>\n",
       "    <tr>\n",
       "      <th>2013-01-05</th>\n",
       "      <td>3.0</td>\n",
       "      <td>6.7</td>\n",
       "      <td>4.4</td>\n",
       "      <td>3.1</td>\n",
       "      <td>rain</td>\n",
       "    </tr>\n",
       "    <tr>\n",
       "      <th>2013-01-06</th>\n",
       "      <td>2.0</td>\n",
       "      <td>7.2</td>\n",
       "      <td>2.8</td>\n",
       "      <td>3.0</td>\n",
       "      <td>rain</td>\n",
       "    </tr>\n",
       "  </tbody>\n",
       "</table>\n",
       "</div>"
      ],
      "text/plain": [
       "            precipitation  temp_max  temp_min  wind weather\n",
       "date                                                       \n",
       "2013-01-02            0.0       6.1      -1.1   3.2     sun\n",
       "2013-01-03            4.1       6.7      -1.7   3.0    rain\n",
       "2013-01-04            2.5      10.0       2.2   2.8    rain\n",
       "2013-01-05            3.0       6.7       4.4   3.1    rain\n",
       "2013-01-06            2.0       7.2       2.8   3.0    rain"
      ]
     },
     "execution_count": 40,
     "metadata": {},
     "output_type": "execute_result"
    }
   ],
   "source": [
    "filter_df = df.copy()\n",
    "filter_df.set_index('date', inplace=True)\n",
    "filter_df.sort_index(inplace=True)\n",
    "\n",
    "period_filter = (filter_df.index >= pd.Timestamp('2013-01-02')) & (filter_df.index < pd.Timestamp('2013-01-07'))\n",
    "filter_df.loc[period_filter].head()"
   ]
  },
  {
   "cell_type": "code",
   "execution_count": 41,
   "id": "996504f8-2d2f-424a-9f84-c90fd86a579e",
   "metadata": {},
   "outputs": [
    {
     "data": {
      "text/html": [
       "<div>\n",
       "<style scoped>\n",
       "    .dataframe tbody tr th:only-of-type {\n",
       "        vertical-align: middle;\n",
       "    }\n",
       "\n",
       "    .dataframe tbody tr th {\n",
       "        vertical-align: top;\n",
       "    }\n",
       "\n",
       "    .dataframe thead th {\n",
       "        text-align: right;\n",
       "    }\n",
       "</style>\n",
       "<table border=\"1\" class=\"dataframe\">\n",
       "  <thead>\n",
       "    <tr style=\"text-align: right;\">\n",
       "      <th></th>\n",
       "      <th>precipitation</th>\n",
       "      <th>temp_max</th>\n",
       "      <th>temp_min</th>\n",
       "      <th>wind</th>\n",
       "      <th>weather</th>\n",
       "    </tr>\n",
       "    <tr>\n",
       "      <th>date</th>\n",
       "      <th></th>\n",
       "      <th></th>\n",
       "      <th></th>\n",
       "      <th></th>\n",
       "      <th></th>\n",
       "    </tr>\n",
       "  </thead>\n",
       "  <tbody>\n",
       "    <tr>\n",
       "      <th>2013-01-01</th>\n",
       "      <td>0.0</td>\n",
       "      <td>5.0</td>\n",
       "      <td>-2.8</td>\n",
       "      <td>2.7</td>\n",
       "      <td>sun</td>\n",
       "    </tr>\n",
       "    <tr>\n",
       "      <th>2013-01-02</th>\n",
       "      <td>0.0</td>\n",
       "      <td>6.1</td>\n",
       "      <td>-1.1</td>\n",
       "      <td>3.2</td>\n",
       "      <td>sun</td>\n",
       "    </tr>\n",
       "    <tr>\n",
       "      <th>2013-01-03</th>\n",
       "      <td>4.1</td>\n",
       "      <td>6.7</td>\n",
       "      <td>-1.7</td>\n",
       "      <td>3.0</td>\n",
       "      <td>rain</td>\n",
       "    </tr>\n",
       "    <tr>\n",
       "      <th>2013-01-04</th>\n",
       "      <td>2.5</td>\n",
       "      <td>10.0</td>\n",
       "      <td>2.2</td>\n",
       "      <td>2.8</td>\n",
       "      <td>rain</td>\n",
       "    </tr>\n",
       "    <tr>\n",
       "      <th>2013-01-05</th>\n",
       "      <td>3.0</td>\n",
       "      <td>6.7</td>\n",
       "      <td>4.4</td>\n",
       "      <td>3.1</td>\n",
       "      <td>rain</td>\n",
       "    </tr>\n",
       "  </tbody>\n",
       "</table>\n",
       "</div>"
      ],
      "text/plain": [
       "            precipitation  temp_max  temp_min  wind weather\n",
       "date                                                       \n",
       "2013-01-01            0.0       5.0      -2.8   2.7     sun\n",
       "2013-01-02            0.0       6.1      -1.1   3.2     sun\n",
       "2013-01-03            4.1       6.7      -1.7   3.0    rain\n",
       "2013-01-04            2.5      10.0       2.2   2.8    rain\n",
       "2013-01-05            3.0       6.7       4.4   3.1    rain"
      ]
     },
     "execution_count": 41,
     "metadata": {},
     "output_type": "execute_result"
    }
   ],
   "source": [
    "slice_df = df.copy()\n",
    "slice_df.set_index('date', inplace=True)\n",
    "slice_df.sort_index(inplace=True)\n",
    "slice_df.loc['2013'].head()"
   ]
  },
  {
   "cell_type": "code",
   "execution_count": 42,
   "id": "fa0142eb-202e-4478-89b2-4e21e30e1922",
   "metadata": {},
   "outputs": [
    {
     "data": {
      "text/html": [
       "<div>\n",
       "<style scoped>\n",
       "    .dataframe tbody tr th:only-of-type {\n",
       "        vertical-align: middle;\n",
       "    }\n",
       "\n",
       "    .dataframe tbody tr th {\n",
       "        vertical-align: top;\n",
       "    }\n",
       "\n",
       "    .dataframe thead th {\n",
       "        text-align: right;\n",
       "    }\n",
       "</style>\n",
       "<table border=\"1\" class=\"dataframe\">\n",
       "  <thead>\n",
       "    <tr style=\"text-align: right;\">\n",
       "      <th></th>\n",
       "      <th>precipitation</th>\n",
       "      <th>temp_max</th>\n",
       "      <th>temp_min</th>\n",
       "      <th>wind</th>\n",
       "      <th>weather</th>\n",
       "    </tr>\n",
       "    <tr>\n",
       "      <th>date</th>\n",
       "      <th></th>\n",
       "      <th></th>\n",
       "      <th></th>\n",
       "      <th></th>\n",
       "      <th></th>\n",
       "    </tr>\n",
       "  </thead>\n",
       "  <tbody>\n",
       "    <tr>\n",
       "      <th>2013-01-02</th>\n",
       "      <td>0.0</td>\n",
       "      <td>6.1</td>\n",
       "      <td>-1.1</td>\n",
       "      <td>3.2</td>\n",
       "      <td>sun</td>\n",
       "    </tr>\n",
       "    <tr>\n",
       "      <th>2013-01-03</th>\n",
       "      <td>4.1</td>\n",
       "      <td>6.7</td>\n",
       "      <td>-1.7</td>\n",
       "      <td>3.0</td>\n",
       "      <td>rain</td>\n",
       "    </tr>\n",
       "    <tr>\n",
       "      <th>2013-01-04</th>\n",
       "      <td>2.5</td>\n",
       "      <td>10.0</td>\n",
       "      <td>2.2</td>\n",
       "      <td>2.8</td>\n",
       "      <td>rain</td>\n",
       "    </tr>\n",
       "    <tr>\n",
       "      <th>2013-01-05</th>\n",
       "      <td>3.0</td>\n",
       "      <td>6.7</td>\n",
       "      <td>4.4</td>\n",
       "      <td>3.1</td>\n",
       "      <td>rain</td>\n",
       "    </tr>\n",
       "    <tr>\n",
       "      <th>2013-01-06</th>\n",
       "      <td>2.0</td>\n",
       "      <td>7.2</td>\n",
       "      <td>2.8</td>\n",
       "      <td>3.0</td>\n",
       "      <td>rain</td>\n",
       "    </tr>\n",
       "    <tr>\n",
       "      <th>2013-01-07</th>\n",
       "      <td>2.3</td>\n",
       "      <td>10.0</td>\n",
       "      <td>4.4</td>\n",
       "      <td>7.3</td>\n",
       "      <td>rain</td>\n",
       "    </tr>\n",
       "    <tr>\n",
       "      <th>2013-01-08</th>\n",
       "      <td>16.3</td>\n",
       "      <td>11.7</td>\n",
       "      <td>5.6</td>\n",
       "      <td>6.3</td>\n",
       "      <td>rain</td>\n",
       "    </tr>\n",
       "    <tr>\n",
       "      <th>2013-01-09</th>\n",
       "      <td>38.4</td>\n",
       "      <td>10.0</td>\n",
       "      <td>1.7</td>\n",
       "      <td>5.1</td>\n",
       "      <td>rain</td>\n",
       "    </tr>\n",
       "  </tbody>\n",
       "</table>\n",
       "</div>"
      ],
      "text/plain": [
       "            precipitation  temp_max  temp_min  wind weather\n",
       "date                                                       \n",
       "2013-01-02            0.0       6.1      -1.1   3.2     sun\n",
       "2013-01-03            4.1       6.7      -1.7   3.0    rain\n",
       "2013-01-04            2.5      10.0       2.2   2.8    rain\n",
       "2013-01-05            3.0       6.7       4.4   3.1    rain\n",
       "2013-01-06            2.0       7.2       2.8   3.0    rain\n",
       "2013-01-07            2.3      10.0       4.4   7.3    rain\n",
       "2013-01-08           16.3      11.7       5.6   6.3    rain\n",
       "2013-01-09           38.4      10.0       1.7   5.1    rain"
      ]
     },
     "execution_count": 42,
     "metadata": {},
     "output_type": "execute_result"
    }
   ],
   "source": [
    "slice_df.loc['2013-01-02' : '2013-01-09']"
   ]
  },
  {
   "cell_type": "markdown",
   "id": "cc4c3490-d665-48c5-ae8c-d161ee2e2172",
   "metadata": {},
   "source": [
    "### 📊 Frequency Conversion, Resampling and Rolling"
   ]
  },
  {
   "cell_type": "markdown",
   "id": "f44191b7-0acd-48cd-9f2b-a9100091a415",
   "metadata": {},
   "source": [
    "```df.asfreq('FREQ')``` – Changes frequency without aggregation.  \n",
    "```df.resample('FREQ')['COLUMN'].mean()``` – Resamples data and calculates mean.  \n",
    "```df['COLUMN'].rolling(window=N).mean()``` – Computes rolling mean over a window."
   ]
  },
  {
   "cell_type": "code",
   "execution_count": 43,
   "id": "981a3f36-4f90-4719-86e5-c81ee833be41",
   "metadata": {},
   "outputs": [
    {
     "data": {
      "text/html": [
       "<div>\n",
       "<style scoped>\n",
       "    .dataframe tbody tr th:only-of-type {\n",
       "        vertical-align: middle;\n",
       "    }\n",
       "\n",
       "    .dataframe tbody tr th {\n",
       "        vertical-align: top;\n",
       "    }\n",
       "\n",
       "    .dataframe thead th {\n",
       "        text-align: right;\n",
       "    }\n",
       "</style>\n",
       "<table border=\"1\" class=\"dataframe\">\n",
       "  <thead>\n",
       "    <tr style=\"text-align: right;\">\n",
       "      <th></th>\n",
       "      <th>precipitation</th>\n",
       "      <th>temp_max</th>\n",
       "      <th>temp_min</th>\n",
       "      <th>wind</th>\n",
       "      <th>weather</th>\n",
       "    </tr>\n",
       "    <tr>\n",
       "      <th>date</th>\n",
       "      <th></th>\n",
       "      <th></th>\n",
       "      <th></th>\n",
       "      <th></th>\n",
       "      <th></th>\n",
       "    </tr>\n",
       "  </thead>\n",
       "  <tbody>\n",
       "    <tr>\n",
       "      <th>2012-01-01</th>\n",
       "      <td>0.0</td>\n",
       "      <td>12.8</td>\n",
       "      <td>5.0</td>\n",
       "      <td>4.7</td>\n",
       "      <td>drizzle</td>\n",
       "    </tr>\n",
       "    <tr>\n",
       "      <th>2012-01-08</th>\n",
       "      <td>0.0</td>\n",
       "      <td>10.0</td>\n",
       "      <td>2.8</td>\n",
       "      <td>2.0</td>\n",
       "      <td>sun</td>\n",
       "    </tr>\n",
       "    <tr>\n",
       "      <th>2012-01-15</th>\n",
       "      <td>5.3</td>\n",
       "      <td>1.1</td>\n",
       "      <td>-3.3</td>\n",
       "      <td>3.2</td>\n",
       "      <td>snow</td>\n",
       "    </tr>\n",
       "    <tr>\n",
       "      <th>2012-01-22</th>\n",
       "      <td>6.1</td>\n",
       "      <td>6.7</td>\n",
       "      <td>2.2</td>\n",
       "      <td>4.8</td>\n",
       "      <td>rain</td>\n",
       "    </tr>\n",
       "    <tr>\n",
       "      <th>2012-01-29</th>\n",
       "      <td>27.7</td>\n",
       "      <td>9.4</td>\n",
       "      <td>3.9</td>\n",
       "      <td>4.5</td>\n",
       "      <td>rain</td>\n",
       "    </tr>\n",
       "  </tbody>\n",
       "</table>\n",
       "</div>"
      ],
      "text/plain": [
       "            precipitation  temp_max  temp_min  wind  weather\n",
       "date                                                        \n",
       "2012-01-01            0.0      12.8       5.0   4.7  drizzle\n",
       "2012-01-08            0.0      10.0       2.8   2.0      sun\n",
       "2012-01-15            5.3       1.1      -3.3   3.2     snow\n",
       "2012-01-22            6.1       6.7       2.2   4.8     rain\n",
       "2012-01-29           27.7       9.4       3.9   4.5     rain"
      ]
     },
     "execution_count": 43,
     "metadata": {},
     "output_type": "execute_result"
    }
   ],
   "source": [
    "weekly_df = df.copy()\n",
    "weekly_df.set_index('date', inplace=True)\n",
    "weekly_df.sort_index(inplace=True)\n",
    "\n",
    "weekly_df.asfreq('W').head()"
   ]
  },
  {
   "cell_type": "code",
   "execution_count": 44,
   "id": "703ec73c-9fa5-445a-8261-0200c9857c6b",
   "metadata": {},
   "outputs": [
    {
     "data": {
      "text/plain": [
       "date\n",
       "2012-01-31     7.054839\n",
       "2012-02-29     9.275862\n",
       "2012-03-31     9.554839\n",
       "2012-04-30    14.873333\n",
       "2012-05-31    17.661290\n",
       "Freq: ME, Name: temp_max, dtype: float64"
      ]
     },
     "execution_count": 44,
     "metadata": {},
     "output_type": "execute_result"
    }
   ],
   "source": [
    "resample_df = df.copy()\n",
    "resample_df.set_index('date', inplace=True)\n",
    "resample_df.sort_index(inplace=True)\n",
    "\n",
    "monthly_temp = resample_df.resample('ME')['temp_max'].mean()\n",
    "monthly_temp.head()"
   ]
  },
  {
   "cell_type": "code",
   "execution_count": 45,
   "id": "91bf6c13-49f5-47f2-90b9-a67227d53385",
   "metadata": {},
   "outputs": [
    {
     "data": {
      "text/plain": [
       "date\n",
       "2012-12-31    7.289617\n",
       "2013-12-31    8.153973\n",
       "2014-12-31    8.662466\n",
       "2015-12-31    8.835616\n",
       "Freq: YE-DEC, Name: temp_min, dtype: float64"
      ]
     },
     "execution_count": 45,
     "metadata": {},
     "output_type": "execute_result"
    }
   ],
   "source": [
    "resample_df = df.copy()\n",
    "resample_df.set_index('date', inplace=True)\n",
    "resample_df.sort_index(inplace=True)\n",
    "\n",
    "monthly_temp = resample_df.resample('YE')['temp_min'].mean()\n",
    "monthly_temp.head()"
   ]
  },
  {
   "cell_type": "code",
   "execution_count": 46,
   "id": "45dec559-13b8-4e50-a27b-c617935c4948",
   "metadata": {},
   "outputs": [
    {
     "data": {
      "text/plain": [
       "date\n",
       "2012-01-01          NaN\n",
       "2012-01-02          NaN\n",
       "2012-01-03    11.700000\n",
       "2012-01-04    11.500000\n",
       "2012-01-05    10.933333\n",
       "Name: temp_max, dtype: float64"
      ]
     },
     "execution_count": 46,
     "metadata": {},
     "output_type": "execute_result"
    }
   ],
   "source": [
    "rolling_df = df.copy()\n",
    "rolling_df.set_index('date', inplace=True)\n",
    "rolling_df.sort_index(inplace=True)\n",
    "\n",
    "rolling_df['temp_max'] = rolling_df['temp_max'].rolling(window=3).mean()\n",
    "rolling_df['temp_max'].head()"
   ]
  },
  {
   "cell_type": "markdown",
   "id": "6d3b34bd-35f6-45be-8616-fb7bd482a513",
   "metadata": {},
   "source": [
    "### 🔧 Handling Missing Data with .interpolate()"
   ]
  },
  {
   "cell_type": "markdown",
   "id": "d22ae91d-d4c9-4031-ae1c-b1fe48a9c049",
   "metadata": {},
   "source": [
    "```df['COLUMN'].interpolate(limit_direction='both')``` – Fills missing values using interpolation."
   ]
  },
  {
   "cell_type": "code",
   "execution_count": 47,
   "id": "36cb28e8-9c6c-4b68-9f4b-b0f9ab9e2013",
   "metadata": {},
   "outputs": [
    {
     "data": {
      "text/plain": [
       "np.int64(2)"
      ]
     },
     "execution_count": 47,
     "metadata": {},
     "output_type": "execute_result"
    }
   ],
   "source": [
    "interpolate_df = rolling_df.copy()\n",
    "interpolate_df['temp_max'].isna().sum()"
   ]
  },
  {
   "cell_type": "code",
   "execution_count": 48,
   "id": "ae669f6e-932b-4a11-bb09-7f741486eb58",
   "metadata": {},
   "outputs": [
    {
     "data": {
      "text/html": [
       "<div>\n",
       "<style scoped>\n",
       "    .dataframe tbody tr th:only-of-type {\n",
       "        vertical-align: middle;\n",
       "    }\n",
       "\n",
       "    .dataframe tbody tr th {\n",
       "        vertical-align: top;\n",
       "    }\n",
       "\n",
       "    .dataframe thead th {\n",
       "        text-align: right;\n",
       "    }\n",
       "</style>\n",
       "<table border=\"1\" class=\"dataframe\">\n",
       "  <thead>\n",
       "    <tr style=\"text-align: right;\">\n",
       "      <th></th>\n",
       "      <th>precipitation</th>\n",
       "      <th>temp_max</th>\n",
       "      <th>temp_min</th>\n",
       "      <th>wind</th>\n",
       "      <th>weather</th>\n",
       "    </tr>\n",
       "    <tr>\n",
       "      <th>date</th>\n",
       "      <th></th>\n",
       "      <th></th>\n",
       "      <th></th>\n",
       "      <th></th>\n",
       "      <th></th>\n",
       "    </tr>\n",
       "  </thead>\n",
       "  <tbody>\n",
       "    <tr>\n",
       "      <th>2012-01-01</th>\n",
       "      <td>0.0</td>\n",
       "      <td>11.700000</td>\n",
       "      <td>5.0</td>\n",
       "      <td>4.7</td>\n",
       "      <td>drizzle</td>\n",
       "    </tr>\n",
       "    <tr>\n",
       "      <th>2012-01-02</th>\n",
       "      <td>10.9</td>\n",
       "      <td>11.700000</td>\n",
       "      <td>2.8</td>\n",
       "      <td>4.5</td>\n",
       "      <td>rain</td>\n",
       "    </tr>\n",
       "    <tr>\n",
       "      <th>2012-01-03</th>\n",
       "      <td>0.8</td>\n",
       "      <td>11.700000</td>\n",
       "      <td>7.2</td>\n",
       "      <td>2.3</td>\n",
       "      <td>rain</td>\n",
       "    </tr>\n",
       "    <tr>\n",
       "      <th>2012-01-04</th>\n",
       "      <td>20.3</td>\n",
       "      <td>11.500000</td>\n",
       "      <td>5.6</td>\n",
       "      <td>4.7</td>\n",
       "      <td>rain</td>\n",
       "    </tr>\n",
       "    <tr>\n",
       "      <th>2012-01-05</th>\n",
       "      <td>1.3</td>\n",
       "      <td>10.933333</td>\n",
       "      <td>2.8</td>\n",
       "      <td>6.1</td>\n",
       "      <td>rain</td>\n",
       "    </tr>\n",
       "  </tbody>\n",
       "</table>\n",
       "</div>"
      ],
      "text/plain": [
       "            precipitation   temp_max  temp_min  wind  weather\n",
       "date                                                         \n",
       "2012-01-01            0.0  11.700000       5.0   4.7  drizzle\n",
       "2012-01-02           10.9  11.700000       2.8   4.5     rain\n",
       "2012-01-03            0.8  11.700000       7.2   2.3     rain\n",
       "2012-01-04           20.3  11.500000       5.6   4.7     rain\n",
       "2012-01-05            1.3  10.933333       2.8   6.1     rain"
      ]
     },
     "execution_count": 48,
     "metadata": {},
     "output_type": "execute_result"
    }
   ],
   "source": [
    "interpolate_df['temp_max'] = interpolate_df['temp_max'].interpolate(limit_direction='both')\n",
    "interpolate_df.head()"
   ]
  },
  {
   "cell_type": "markdown",
   "id": "659b1628-d36b-44f1-93ec-6b1593af73a4",
   "metadata": {},
   "source": [
    "### 📈 Calculating Lagged Values and Differences"
   ]
  },
  {
   "cell_type": "markdown",
   "id": "ea1262ee-93b5-4edc-8c22-780f784263ef",
   "metadata": {},
   "source": [
    "```df['COLUMN'].shift(N)``` – Shifts values by N periods (e.g., previous day's value).  \n",
    "```df['COLUMN'].diff()``` – Calculates the difference between current and previous value.  \n",
    "```df['COLUMN'].pct_change()``` – Calculates percentage change from previous value."
   ]
  },
  {
   "cell_type": "code",
   "execution_count": 49,
   "id": "ebf63b37-0c10-4215-a4de-7cbe7d53071e",
   "metadata": {},
   "outputs": [
    {
     "data": {
      "text/html": [
       "<div>\n",
       "<style scoped>\n",
       "    .dataframe tbody tr th:only-of-type {\n",
       "        vertical-align: middle;\n",
       "    }\n",
       "\n",
       "    .dataframe tbody tr th {\n",
       "        vertical-align: top;\n",
       "    }\n",
       "\n",
       "    .dataframe thead th {\n",
       "        text-align: right;\n",
       "    }\n",
       "</style>\n",
       "<table border=\"1\" class=\"dataframe\">\n",
       "  <thead>\n",
       "    <tr style=\"text-align: right;\">\n",
       "      <th></th>\n",
       "      <th>temp_max</th>\n",
       "      <th>temp_max_prev_day</th>\n",
       "    </tr>\n",
       "    <tr>\n",
       "      <th>date</th>\n",
       "      <th></th>\n",
       "      <th></th>\n",
       "    </tr>\n",
       "  </thead>\n",
       "  <tbody>\n",
       "    <tr>\n",
       "      <th>2012-01-01</th>\n",
       "      <td>12.8</td>\n",
       "      <td>NaN</td>\n",
       "    </tr>\n",
       "    <tr>\n",
       "      <th>2012-01-02</th>\n",
       "      <td>10.6</td>\n",
       "      <td>12.8</td>\n",
       "    </tr>\n",
       "    <tr>\n",
       "      <th>2012-01-03</th>\n",
       "      <td>11.7</td>\n",
       "      <td>10.6</td>\n",
       "    </tr>\n",
       "    <tr>\n",
       "      <th>2012-01-04</th>\n",
       "      <td>12.2</td>\n",
       "      <td>11.7</td>\n",
       "    </tr>\n",
       "    <tr>\n",
       "      <th>2012-01-05</th>\n",
       "      <td>8.9</td>\n",
       "      <td>12.2</td>\n",
       "    </tr>\n",
       "  </tbody>\n",
       "</table>\n",
       "</div>"
      ],
      "text/plain": [
       "            temp_max  temp_max_prev_day\n",
       "date                                   \n",
       "2012-01-01      12.8                NaN\n",
       "2012-01-02      10.6               12.8\n",
       "2012-01-03      11.7               10.6\n",
       "2012-01-04      12.2               11.7\n",
       "2012-01-05       8.9               12.2"
      ]
     },
     "execution_count": 49,
     "metadata": {},
     "output_type": "execute_result"
    }
   ],
   "source": [
    "shift_df = df.copy()\n",
    "shift_df.set_index('date', inplace=True)\n",
    "shift_df.sort_index(inplace=True)\n",
    "\n",
    "shift_df['temp_max_prev_day'] = shift_df['temp_max'].shift(1)\n",
    "shift_df[['temp_max', 'temp_max_prev_day']].head()"
   ]
  },
  {
   "cell_type": "code",
   "execution_count": 50,
   "id": "c84ffb02-91b8-496b-bae8-81b6871c8524",
   "metadata": {},
   "outputs": [
    {
     "data": {
      "text/html": [
       "<div>\n",
       "<style scoped>\n",
       "    .dataframe tbody tr th:only-of-type {\n",
       "        vertical-align: middle;\n",
       "    }\n",
       "\n",
       "    .dataframe tbody tr th {\n",
       "        vertical-align: top;\n",
       "    }\n",
       "\n",
       "    .dataframe thead th {\n",
       "        text-align: right;\n",
       "    }\n",
       "</style>\n",
       "<table border=\"1\" class=\"dataframe\">\n",
       "  <thead>\n",
       "    <tr style=\"text-align: right;\">\n",
       "      <th></th>\n",
       "      <th>temp_max</th>\n",
       "      <th>temp_max_diff</th>\n",
       "    </tr>\n",
       "    <tr>\n",
       "      <th>date</th>\n",
       "      <th></th>\n",
       "      <th></th>\n",
       "    </tr>\n",
       "  </thead>\n",
       "  <tbody>\n",
       "    <tr>\n",
       "      <th>2012-01-01</th>\n",
       "      <td>12.8</td>\n",
       "      <td>NaN</td>\n",
       "    </tr>\n",
       "    <tr>\n",
       "      <th>2012-01-02</th>\n",
       "      <td>10.6</td>\n",
       "      <td>-2.2</td>\n",
       "    </tr>\n",
       "    <tr>\n",
       "      <th>2012-01-03</th>\n",
       "      <td>11.7</td>\n",
       "      <td>1.1</td>\n",
       "    </tr>\n",
       "  </tbody>\n",
       "</table>\n",
       "</div>"
      ],
      "text/plain": [
       "            temp_max  temp_max_diff\n",
       "date                               \n",
       "2012-01-01      12.8            NaN\n",
       "2012-01-02      10.6           -2.2\n",
       "2012-01-03      11.7            1.1"
      ]
     },
     "execution_count": 50,
     "metadata": {},
     "output_type": "execute_result"
    }
   ],
   "source": [
    "diff_df = df.copy()\n",
    "diff_df.set_index('date', inplace=True)\n",
    "diff_df.sort_index(inplace=True)\n",
    "\n",
    "diff_df['temp_max_diff'] = diff_df['temp_max'].diff()\n",
    "diff_df[['temp_max', 'temp_max_diff']].head(3)"
   ]
  },
  {
   "cell_type": "code",
   "execution_count": 51,
   "id": "c2260caf-5423-4707-a482-222c62993122",
   "metadata": {},
   "outputs": [
    {
     "data": {
      "text/html": [
       "<div>\n",
       "<style scoped>\n",
       "    .dataframe tbody tr th:only-of-type {\n",
       "        vertical-align: middle;\n",
       "    }\n",
       "\n",
       "    .dataframe tbody tr th {\n",
       "        vertical-align: top;\n",
       "    }\n",
       "\n",
       "    .dataframe thead th {\n",
       "        text-align: right;\n",
       "    }\n",
       "</style>\n",
       "<table border=\"1\" class=\"dataframe\">\n",
       "  <thead>\n",
       "    <tr style=\"text-align: right;\">\n",
       "      <th></th>\n",
       "      <th>temp_max</th>\n",
       "      <th>temp_max_diff_pct</th>\n",
       "    </tr>\n",
       "    <tr>\n",
       "      <th>date</th>\n",
       "      <th></th>\n",
       "      <th></th>\n",
       "    </tr>\n",
       "  </thead>\n",
       "  <tbody>\n",
       "    <tr>\n",
       "      <th>2012-01-01</th>\n",
       "      <td>12.8</td>\n",
       "      <td>NaN</td>\n",
       "    </tr>\n",
       "    <tr>\n",
       "      <th>2012-01-02</th>\n",
       "      <td>10.6</td>\n",
       "      <td>-0.171875</td>\n",
       "    </tr>\n",
       "    <tr>\n",
       "      <th>2012-01-03</th>\n",
       "      <td>11.7</td>\n",
       "      <td>0.103774</td>\n",
       "    </tr>\n",
       "    <tr>\n",
       "      <th>2012-01-04</th>\n",
       "      <td>12.2</td>\n",
       "      <td>0.042735</td>\n",
       "    </tr>\n",
       "    <tr>\n",
       "      <th>2012-01-05</th>\n",
       "      <td>8.9</td>\n",
       "      <td>-0.270492</td>\n",
       "    </tr>\n",
       "  </tbody>\n",
       "</table>\n",
       "</div>"
      ],
      "text/plain": [
       "            temp_max  temp_max_diff_pct\n",
       "date                                   \n",
       "2012-01-01      12.8                NaN\n",
       "2012-01-02      10.6          -0.171875\n",
       "2012-01-03      11.7           0.103774\n",
       "2012-01-04      12.2           0.042735\n",
       "2012-01-05       8.9          -0.270492"
      ]
     },
     "execution_count": 51,
     "metadata": {},
     "output_type": "execute_result"
    }
   ],
   "source": [
    "pctchange_df = df.copy()\n",
    "pctchange_df.set_index('date', inplace=True)\n",
    "pctchange_df.sort_index(inplace=True)\n",
    "\n",
    "pctchange_df['temp_max_diff_pct'] = diff_df['temp_max'].pct_change()\n",
    "pctchange_df[['temp_max', 'temp_max_diff_pct']].head()"
   ]
  },
  {
   "cell_type": "markdown",
   "id": "da8d43f9-4260-4c1b-a02a-2678a8c25701",
   "metadata": {},
   "source": [
    "### 👉 Next Topic: [Plotting](./10-plotting-visualization.ipynb)\n",
    "\n",
    "Learn how to visualize DataFrames in pandas."
   ]
  }
 ],
 "metadata": {
  "kernelspec": {
   "display_name": "Python 3 (ipykernel)",
   "language": "python",
   "name": "python3"
  },
  "language_info": {
   "codemirror_mode": {
    "name": "ipython",
    "version": 3
   },
   "file_extension": ".py",
   "mimetype": "text/x-python",
   "name": "python",
   "nbconvert_exporter": "python",
   "pygments_lexer": "ipython3",
   "version": "3.10.4"
  }
 },
 "nbformat": 4,
 "nbformat_minor": 5
}
