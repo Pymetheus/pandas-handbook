{
 "cells": [
  {
   "cell_type": "markdown",
   "id": "b31621c4-f1bb-468f-a48f-3d3fd7dd2f14",
   "metadata": {},
   "source": [
    "# 🐼 Pandas Handbook\n",
    "\n",
    "## 02 - Importing & Exporting Data\n",
    "\n",
    "Check out the official [Pandas documentation](https://pandas.pydata.org/pandas-docs/stable/)  \n",
    "\n",
    "This notebook uses the [Ramen Ratings dataset](https://www.kaggle.com/datasets/residentmario/ramen-ratings/data) from Kaggle to demonstrate how to import and export data using various file formats with pandas."
   ]
  },
  {
   "cell_type": "markdown",
   "id": "6a970857-e122-498f-aa38-c4b9a61eb272",
   "metadata": {},
   "source": [
    "## 📚 Table of Contents  \n",
    "---  \n",
    "  \n",
    "📄 **From and To CSV**  \n",
    "📄 **From and To Excel**  \n",
    "📄 **From and To JSON**  \n",
    "📄 **From and To HTML**  \n",
    "📄 **From and To SQL**  \n",
    "📄 **From and To Parquet**  \n",
    "📄 **From and To Feather**  \n",
    "📄 **From and To HDF**  \n",
    "📦 **Comparing File Sizes**  \n",
    "👉 **Next Topic: Data Inspection**\n",
    "\n",
    "---  "
   ]
  },
  {
   "cell_type": "markdown",
   "id": "0961547a-7f66-4016-a5a5-e18252ab9974",
   "metadata": {},
   "source": [
    "Import core libraries: pandas for data handling, and os/sys for file path management."
   ]
  },
  {
   "cell_type": "code",
   "execution_count": 1,
   "id": "4c810fe7-3622-4e24-83c1-25d80eca43b4",
   "metadata": {},
   "outputs": [],
   "source": [
    "import pandas as pd\n",
    "import sys\n",
    "import os"
   ]
  },
  {
   "cell_type": "markdown",
   "id": "55b68a72-1f6d-46fe-9889-666fcbc97621",
   "metadata": {},
   "source": [
    "Define paths and filenames for all supported data formats (CSV, Excel, JSON, HTML, SQL, Parquet, Feather, HDF5)."
   ]
  },
  {
   "cell_type": "code",
   "execution_count": 2,
   "id": "5c01d93b-4ca2-4bcb-a058-2271a9a4d695",
   "metadata": {},
   "outputs": [],
   "source": [
    "sys.path.append(os.path.abspath(\"..\"))\n",
    "\n",
    "data_raw = \"../data/raw/\"\n",
    "data_processed = \"../data/processed/\"\n",
    "\n",
    "csv_file = \"ramen-ratings.csv\"\n",
    "tsv_file = \"ramen-ratings.tsv\"\n",
    "excel_file = \"ramen-ratings.xlsx\"  # Requires the openpyxl library installed\n",
    "json_file = \"ramen-ratings.json\"\n",
    "html_file = \"ramen-ratings.html\"  # Requires the lxml library installed\n",
    "\n",
    "database = \"sqlite:///../data/sample_database.db\"  # Requires the SQLAlchemy library installed\n",
    "sql_table = \"sample_table\"\n",
    "\n",
    "parquet_file = \"ramen-ratings.parquet\"  # Requires the pyarrow library installed\n",
    "feather_file = \"ramen-ratings.feather\"  # Requires the pyarrow library installed\n",
    "hdf_file = \"ramen-ratings.h5\"  # Requires the pytables library installed"
   ]
  },
  {
   "cell_type": "markdown",
   "id": "1c104c07-6f6b-4d6c-9929-7040ca1d7cc0",
   "metadata": {},
   "source": [
    "### 📄 From and to CSV"
   ]
  },
  {
   "cell_type": "markdown",
   "id": "b9c08977-7e44-4d03-a3f6-d201a48554b0",
   "metadata": {},
   "source": [
    "🔽 Load CSV into a DataFrame  \n",
    "Read a CSV file and display the first 5 rows"
   ]
  },
  {
   "cell_type": "code",
   "execution_count": 3,
   "id": "c29a3435-512a-46b2-9ccf-ea39b54d975f",
   "metadata": {},
   "outputs": [
    {
     "data": {
      "text/html": [
       "<div>\n",
       "<style scoped>\n",
       "    .dataframe tbody tr th:only-of-type {\n",
       "        vertical-align: middle;\n",
       "    }\n",
       "\n",
       "    .dataframe tbody tr th {\n",
       "        vertical-align: top;\n",
       "    }\n",
       "\n",
       "    .dataframe thead th {\n",
       "        text-align: right;\n",
       "    }\n",
       "</style>\n",
       "<table border=\"1\" class=\"dataframe\">\n",
       "  <thead>\n",
       "    <tr style=\"text-align: right;\">\n",
       "      <th></th>\n",
       "      <th>Review #</th>\n",
       "      <th>Brand</th>\n",
       "      <th>Variety</th>\n",
       "      <th>Style</th>\n",
       "      <th>Country</th>\n",
       "      <th>Stars</th>\n",
       "      <th>Top Ten</th>\n",
       "    </tr>\n",
       "  </thead>\n",
       "  <tbody>\n",
       "    <tr>\n",
       "      <th>0</th>\n",
       "      <td>2580</td>\n",
       "      <td>New Touch</td>\n",
       "      <td>T's Restaurant Tantanmen</td>\n",
       "      <td>Cup</td>\n",
       "      <td>Japan</td>\n",
       "      <td>3.75</td>\n",
       "      <td>NaN</td>\n",
       "    </tr>\n",
       "    <tr>\n",
       "      <th>1</th>\n",
       "      <td>2579</td>\n",
       "      <td>Just Way</td>\n",
       "      <td>Noodles Spicy Hot Sesame Spicy Hot Sesame Guan...</td>\n",
       "      <td>Pack</td>\n",
       "      <td>Taiwan</td>\n",
       "      <td>1</td>\n",
       "      <td>NaN</td>\n",
       "    </tr>\n",
       "    <tr>\n",
       "      <th>2</th>\n",
       "      <td>2578</td>\n",
       "      <td>Nissin</td>\n",
       "      <td>Cup Noodles Chicken Vegetable</td>\n",
       "      <td>Cup</td>\n",
       "      <td>USA</td>\n",
       "      <td>2.25</td>\n",
       "      <td>NaN</td>\n",
       "    </tr>\n",
       "    <tr>\n",
       "      <th>3</th>\n",
       "      <td>2577</td>\n",
       "      <td>Wei Lih</td>\n",
       "      <td>GGE Ramen Snack Tomato Flavor</td>\n",
       "      <td>Pack</td>\n",
       "      <td>Taiwan</td>\n",
       "      <td>2.75</td>\n",
       "      <td>NaN</td>\n",
       "    </tr>\n",
       "    <tr>\n",
       "      <th>4</th>\n",
       "      <td>2576</td>\n",
       "      <td>Ching's Secret</td>\n",
       "      <td>Singapore Curry</td>\n",
       "      <td>Pack</td>\n",
       "      <td>India</td>\n",
       "      <td>3.75</td>\n",
       "      <td>NaN</td>\n",
       "    </tr>\n",
       "  </tbody>\n",
       "</table>\n",
       "</div>"
      ],
      "text/plain": [
       "   Review #           Brand  \\\n",
       "0      2580       New Touch   \n",
       "1      2579        Just Way   \n",
       "2      2578          Nissin   \n",
       "3      2577         Wei Lih   \n",
       "4      2576  Ching's Secret   \n",
       "\n",
       "                                             Variety Style Country Stars  \\\n",
       "0                          T's Restaurant Tantanmen    Cup   Japan  3.75   \n",
       "1  Noodles Spicy Hot Sesame Spicy Hot Sesame Guan...  Pack  Taiwan     1   \n",
       "2                      Cup Noodles Chicken Vegetable   Cup     USA  2.25   \n",
       "3                      GGE Ramen Snack Tomato Flavor  Pack  Taiwan  2.75   \n",
       "4                                    Singapore Curry  Pack   India  3.75   \n",
       "\n",
       "  Top Ten  \n",
       "0     NaN  \n",
       "1     NaN  \n",
       "2     NaN  \n",
       "3     NaN  \n",
       "4     NaN  "
      ]
     },
     "execution_count": 3,
     "metadata": {},
     "output_type": "execute_result"
    }
   ],
   "source": [
    "import_path = os.path.join(data_raw, csv_file)\n",
    "df = pd.read_csv(import_path)\n",
    "\n",
    "df.head()"
   ]
  },
  {
   "cell_type": "markdown",
   "id": "89744a64-dbd9-43ba-b1a1-92152288e664",
   "metadata": {},
   "source": [
    "💾 Export DataFrame to CSV without index  \n",
    "Write the DataFrame to a CSV file, excluding the index column."
   ]
  },
  {
   "cell_type": "code",
   "execution_count": 4,
   "id": "eb304831-bba1-42ef-80ea-aeca95b71f18",
   "metadata": {},
   "outputs": [],
   "source": [
    "export_path = os.path.join(data_processed, csv_file)\n",
    "df.to_csv(export_path, index=False)"
   ]
  },
  {
   "cell_type": "markdown",
   "id": "e1cb3ffd-1348-4438-b2f4-5e7e48299339",
   "metadata": {},
   "source": [
    "🔽 Read CSV with index column  \n",
    "Read the CSV again, using ````\"Review #\"```` as the index column."
   ]
  },
  {
   "cell_type": "code",
   "execution_count": 5,
   "id": "07e0c1cf-5a3a-4832-ab20-05a5cd265f56",
   "metadata": {},
   "outputs": [
    {
     "data": {
      "text/html": [
       "<div>\n",
       "<style scoped>\n",
       "    .dataframe tbody tr th:only-of-type {\n",
       "        vertical-align: middle;\n",
       "    }\n",
       "\n",
       "    .dataframe tbody tr th {\n",
       "        vertical-align: top;\n",
       "    }\n",
       "\n",
       "    .dataframe thead th {\n",
       "        text-align: right;\n",
       "    }\n",
       "</style>\n",
       "<table border=\"1\" class=\"dataframe\">\n",
       "  <thead>\n",
       "    <tr style=\"text-align: right;\">\n",
       "      <th></th>\n",
       "      <th>Brand</th>\n",
       "      <th>Variety</th>\n",
       "      <th>Style</th>\n",
       "      <th>Country</th>\n",
       "      <th>Stars</th>\n",
       "      <th>Top Ten</th>\n",
       "    </tr>\n",
       "    <tr>\n",
       "      <th>Review #</th>\n",
       "      <th></th>\n",
       "      <th></th>\n",
       "      <th></th>\n",
       "      <th></th>\n",
       "      <th></th>\n",
       "      <th></th>\n",
       "    </tr>\n",
       "  </thead>\n",
       "  <tbody>\n",
       "    <tr>\n",
       "      <th>2580</th>\n",
       "      <td>New Touch</td>\n",
       "      <td>T's Restaurant Tantanmen</td>\n",
       "      <td>Cup</td>\n",
       "      <td>Japan</td>\n",
       "      <td>3.75</td>\n",
       "      <td>NaN</td>\n",
       "    </tr>\n",
       "    <tr>\n",
       "      <th>2579</th>\n",
       "      <td>Just Way</td>\n",
       "      <td>Noodles Spicy Hot Sesame Spicy Hot Sesame Guan...</td>\n",
       "      <td>Pack</td>\n",
       "      <td>Taiwan</td>\n",
       "      <td>1</td>\n",
       "      <td>NaN</td>\n",
       "    </tr>\n",
       "    <tr>\n",
       "      <th>2578</th>\n",
       "      <td>Nissin</td>\n",
       "      <td>Cup Noodles Chicken Vegetable</td>\n",
       "      <td>Cup</td>\n",
       "      <td>USA</td>\n",
       "      <td>2.25</td>\n",
       "      <td>NaN</td>\n",
       "    </tr>\n",
       "    <tr>\n",
       "      <th>2577</th>\n",
       "      <td>Wei Lih</td>\n",
       "      <td>GGE Ramen Snack Tomato Flavor</td>\n",
       "      <td>Pack</td>\n",
       "      <td>Taiwan</td>\n",
       "      <td>2.75</td>\n",
       "      <td>NaN</td>\n",
       "    </tr>\n",
       "    <tr>\n",
       "      <th>2576</th>\n",
       "      <td>Ching's Secret</td>\n",
       "      <td>Singapore Curry</td>\n",
       "      <td>Pack</td>\n",
       "      <td>India</td>\n",
       "      <td>3.75</td>\n",
       "      <td>NaN</td>\n",
       "    </tr>\n",
       "  </tbody>\n",
       "</table>\n",
       "</div>"
      ],
      "text/plain": [
       "                   Brand                                            Variety  \\\n",
       "Review #                                                                      \n",
       "2580           New Touch                          T's Restaurant Tantanmen    \n",
       "2579            Just Way  Noodles Spicy Hot Sesame Spicy Hot Sesame Guan...   \n",
       "2578              Nissin                      Cup Noodles Chicken Vegetable   \n",
       "2577             Wei Lih                      GGE Ramen Snack Tomato Flavor   \n",
       "2576      Ching's Secret                                    Singapore Curry   \n",
       "\n",
       "         Style Country Stars Top Ten  \n",
       "Review #                              \n",
       "2580       Cup   Japan  3.75     NaN  \n",
       "2579      Pack  Taiwan     1     NaN  \n",
       "2578       Cup     USA  2.25     NaN  \n",
       "2577      Pack  Taiwan  2.75     NaN  \n",
       "2576      Pack   India  3.75     NaN  "
      ]
     },
     "execution_count": 5,
     "metadata": {},
     "output_type": "execute_result"
    }
   ],
   "source": [
    "df = pd.read_csv(import_path, index_col='Review #')\n",
    "\n",
    "df.head()"
   ]
  },
  {
   "cell_type": "markdown",
   "id": "1f3eacf4-6611-4e7e-a27c-30708819a618",
   "metadata": {},
   "source": [
    "💾 Export DataFrame to CSV with index  \n",
    "Write the DataFrame to a CSV file, including the index column."
   ]
  },
  {
   "cell_type": "code",
   "execution_count": 6,
   "id": "e11899ab-2818-471b-8f92-10c4fa024469",
   "metadata": {},
   "outputs": [],
   "source": [
    "export_path = os.path.join(data_processed, csv_file)\n",
    "df.to_csv(export_path)"
   ]
  },
  {
   "cell_type": "markdown",
   "id": "5ae88cc9-f0c3-4422-a63a-6f3b75b77de7",
   "metadata": {},
   "source": [
    "💾 Export CSV with tab-separated values  \n",
    "Save the DataFrame as a tab-separated file (TSV)."
   ]
  },
  {
   "cell_type": "code",
   "execution_count": 7,
   "id": "ec282f7d-33dd-4380-991d-6e6675bb0941",
   "metadata": {},
   "outputs": [],
   "source": [
    "export_path = os.path.join(data_processed, tsv_file)\n",
    "df.to_csv(export_path, sep='\\t')"
   ]
  },
  {
   "cell_type": "markdown",
   "id": "bdfb2abb-499d-4f45-9f18-d1bdfea7f678",
   "metadata": {},
   "source": [
    "### 📄 From and to Excel"
   ]
  },
  {
   "cell_type": "markdown",
   "id": "9ea4cc46-fc1e-4706-b719-0cc9bc4f1271",
   "metadata": {},
   "source": [
    "🔽 Read Excel file  \n",
    "Read data from an Excel file and set ````\"Review #\"```` as the index."
   ]
  },
  {
   "cell_type": "code",
   "execution_count": 8,
   "id": "18fec2da-7861-4ecd-8ed2-7a9a6e3f03fb",
   "metadata": {},
   "outputs": [
    {
     "data": {
      "text/html": [
       "<div>\n",
       "<style scoped>\n",
       "    .dataframe tbody tr th:only-of-type {\n",
       "        vertical-align: middle;\n",
       "    }\n",
       "\n",
       "    .dataframe tbody tr th {\n",
       "        vertical-align: top;\n",
       "    }\n",
       "\n",
       "    .dataframe thead th {\n",
       "        text-align: right;\n",
       "    }\n",
       "</style>\n",
       "<table border=\"1\" class=\"dataframe\">\n",
       "  <thead>\n",
       "    <tr style=\"text-align: right;\">\n",
       "      <th></th>\n",
       "      <th>Brand</th>\n",
       "      <th>Variety</th>\n",
       "      <th>Style</th>\n",
       "      <th>Country</th>\n",
       "      <th>Stars</th>\n",
       "      <th>Top Ten</th>\n",
       "    </tr>\n",
       "    <tr>\n",
       "      <th>Review #</th>\n",
       "      <th></th>\n",
       "      <th></th>\n",
       "      <th></th>\n",
       "      <th></th>\n",
       "      <th></th>\n",
       "      <th></th>\n",
       "    </tr>\n",
       "  </thead>\n",
       "  <tbody>\n",
       "    <tr>\n",
       "      <th>2580</th>\n",
       "      <td>New Touch</td>\n",
       "      <td>T's Restaurant Tantanmen</td>\n",
       "      <td>Cup</td>\n",
       "      <td>Japan</td>\n",
       "      <td>3.75</td>\n",
       "      <td>NaN</td>\n",
       "    </tr>\n",
       "    <tr>\n",
       "      <th>2579</th>\n",
       "      <td>Just Way</td>\n",
       "      <td>Noodles Spicy Hot Sesame Spicy Hot Sesame Guan...</td>\n",
       "      <td>Pack</td>\n",
       "      <td>Taiwan</td>\n",
       "      <td>1</td>\n",
       "      <td>NaN</td>\n",
       "    </tr>\n",
       "    <tr>\n",
       "      <th>2578</th>\n",
       "      <td>Nissin</td>\n",
       "      <td>Cup Noodles Chicken Vegetable</td>\n",
       "      <td>Cup</td>\n",
       "      <td>USA</td>\n",
       "      <td>2.25</td>\n",
       "      <td>NaN</td>\n",
       "    </tr>\n",
       "    <tr>\n",
       "      <th>2577</th>\n",
       "      <td>Wei Lih</td>\n",
       "      <td>GGE Ramen Snack Tomato Flavor</td>\n",
       "      <td>Pack</td>\n",
       "      <td>Taiwan</td>\n",
       "      <td>2.75</td>\n",
       "      <td>NaN</td>\n",
       "    </tr>\n",
       "    <tr>\n",
       "      <th>2576</th>\n",
       "      <td>Ching's Secret</td>\n",
       "      <td>Singapore Curry</td>\n",
       "      <td>Pack</td>\n",
       "      <td>India</td>\n",
       "      <td>3.75</td>\n",
       "      <td>NaN</td>\n",
       "    </tr>\n",
       "  </tbody>\n",
       "</table>\n",
       "</div>"
      ],
      "text/plain": [
       "                   Brand                                            Variety  \\\n",
       "Review #                                                                      \n",
       "2580           New Touch                          T's Restaurant Tantanmen    \n",
       "2579            Just Way  Noodles Spicy Hot Sesame Spicy Hot Sesame Guan...   \n",
       "2578              Nissin                      Cup Noodles Chicken Vegetable   \n",
       "2577             Wei Lih                      GGE Ramen Snack Tomato Flavor   \n",
       "2576      Ching's Secret                                    Singapore Curry   \n",
       "\n",
       "         Style Country Stars Top Ten  \n",
       "Review #                              \n",
       "2580       Cup   Japan  3.75     NaN  \n",
       "2579      Pack  Taiwan     1     NaN  \n",
       "2578       Cup     USA  2.25     NaN  \n",
       "2577      Pack  Taiwan  2.75     NaN  \n",
       "2576      Pack   India  3.75     NaN  "
      ]
     },
     "execution_count": 8,
     "metadata": {},
     "output_type": "execute_result"
    }
   ],
   "source": [
    "import_path = os.path.join(data_raw, excel_file)\n",
    "df = pd.read_excel(import_path, index_col='Review #')\n",
    "\n",
    "df.head()"
   ]
  },
  {
   "cell_type": "markdown",
   "id": "562af692-68b3-452e-a5fb-c590e30edc36",
   "metadata": {},
   "source": [
    "💾 Write to Excel  \n",
    "Export the DataFrame to an Excel file."
   ]
  },
  {
   "cell_type": "code",
   "execution_count": 9,
   "id": "10fe3b21-a14d-4b43-ad1b-d49e52a35954",
   "metadata": {},
   "outputs": [],
   "source": [
    "export_path = os.path.join(data_processed, excel_file)\n",
    "df.to_excel(export_path)"
   ]
  },
  {
   "cell_type": "markdown",
   "id": "4c7d5846-f0e8-4f9e-8730-4375d2fa4241",
   "metadata": {},
   "source": [
    "### 📄 From and to JSON"
   ]
  },
  {
   "cell_type": "markdown",
   "id": "b258cbe3-3158-4c5d-88f8-8aa724b8cae9",
   "metadata": {},
   "source": [
    "🔽 Read JSON file  \n",
    "Read structured data from a JSON file into a DataFrame."
   ]
  },
  {
   "cell_type": "code",
   "execution_count": 10,
   "id": "09c0d409-026d-4574-b3e4-5832ad844faf",
   "metadata": {},
   "outputs": [
    {
     "data": {
      "text/html": [
       "<div>\n",
       "<style scoped>\n",
       "    .dataframe tbody tr th:only-of-type {\n",
       "        vertical-align: middle;\n",
       "    }\n",
       "\n",
       "    .dataframe tbody tr th {\n",
       "        vertical-align: top;\n",
       "    }\n",
       "\n",
       "    .dataframe thead th {\n",
       "        text-align: right;\n",
       "    }\n",
       "</style>\n",
       "<table border=\"1\" class=\"dataframe\">\n",
       "  <thead>\n",
       "    <tr style=\"text-align: right;\">\n",
       "      <th></th>\n",
       "      <th>Review #</th>\n",
       "      <th>Brand</th>\n",
       "      <th>Variety</th>\n",
       "      <th>Style</th>\n",
       "      <th>Country</th>\n",
       "      <th>Stars</th>\n",
       "      <th>Top Ten</th>\n",
       "    </tr>\n",
       "  </thead>\n",
       "  <tbody>\n",
       "    <tr>\n",
       "      <th>0</th>\n",
       "      <td>2580</td>\n",
       "      <td>New Touch</td>\n",
       "      <td>T's Restaurant Tantanmen</td>\n",
       "      <td>Cup</td>\n",
       "      <td>Japan</td>\n",
       "      <td>3.75</td>\n",
       "      <td>None</td>\n",
       "    </tr>\n",
       "    <tr>\n",
       "      <th>1</th>\n",
       "      <td>2579</td>\n",
       "      <td>Just Way</td>\n",
       "      <td>Noodles Spicy Hot Sesame Spicy Hot Sesame Guan...</td>\n",
       "      <td>Pack</td>\n",
       "      <td>Taiwan</td>\n",
       "      <td>1</td>\n",
       "      <td>None</td>\n",
       "    </tr>\n",
       "    <tr>\n",
       "      <th>2</th>\n",
       "      <td>2578</td>\n",
       "      <td>Nissin</td>\n",
       "      <td>Cup Noodles Chicken Vegetable</td>\n",
       "      <td>Cup</td>\n",
       "      <td>USA</td>\n",
       "      <td>2.25</td>\n",
       "      <td>None</td>\n",
       "    </tr>\n",
       "    <tr>\n",
       "      <th>3</th>\n",
       "      <td>2577</td>\n",
       "      <td>Wei Lih</td>\n",
       "      <td>GGE Ramen Snack Tomato Flavor</td>\n",
       "      <td>Pack</td>\n",
       "      <td>Taiwan</td>\n",
       "      <td>2.75</td>\n",
       "      <td>None</td>\n",
       "    </tr>\n",
       "    <tr>\n",
       "      <th>4</th>\n",
       "      <td>2576</td>\n",
       "      <td>Ching's Secret</td>\n",
       "      <td>Singapore Curry</td>\n",
       "      <td>Pack</td>\n",
       "      <td>India</td>\n",
       "      <td>3.75</td>\n",
       "      <td>None</td>\n",
       "    </tr>\n",
       "  </tbody>\n",
       "</table>\n",
       "</div>"
      ],
      "text/plain": [
       "   Review #           Brand  \\\n",
       "0      2580       New Touch   \n",
       "1      2579        Just Way   \n",
       "2      2578          Nissin   \n",
       "3      2577         Wei Lih   \n",
       "4      2576  Ching's Secret   \n",
       "\n",
       "                                             Variety Style Country Stars  \\\n",
       "0                          T's Restaurant Tantanmen    Cup   Japan  3.75   \n",
       "1  Noodles Spicy Hot Sesame Spicy Hot Sesame Guan...  Pack  Taiwan     1   \n",
       "2                      Cup Noodles Chicken Vegetable   Cup     USA  2.25   \n",
       "3                      GGE Ramen Snack Tomato Flavor  Pack  Taiwan  2.75   \n",
       "4                                    Singapore Curry  Pack   India  3.75   \n",
       "\n",
       "  Top Ten  \n",
       "0    None  \n",
       "1    None  \n",
       "2    None  \n",
       "3    None  \n",
       "4    None  "
      ]
     },
     "execution_count": 10,
     "metadata": {},
     "output_type": "execute_result"
    }
   ],
   "source": [
    "import_path = os.path.join(data_raw, json_file)\n",
    "df = pd.read_json(import_path)\n",
    "\n",
    "df.head()"
   ]
  },
  {
   "cell_type": "markdown",
   "id": "dd959004-e920-48a2-bd5f-48e3366953fa",
   "metadata": {},
   "source": [
    "💾 Export to JSON  \n",
    "Export the DataFrame to a JSON file."
   ]
  },
  {
   "cell_type": "code",
   "execution_count": 11,
   "id": "1244e8f0-2363-4bec-81e9-b3cdb6deab7d",
   "metadata": {},
   "outputs": [],
   "source": [
    "export_path = os.path.join(data_processed, json_file)\n",
    "df.to_json(export_path)"
   ]
  },
  {
   "cell_type": "markdown",
   "id": "c9fbc5b0-d90f-4038-85d7-3423c3c98713",
   "metadata": {},
   "source": [
    "### 📄 From and to HTML"
   ]
  },
  {
   "cell_type": "markdown",
   "id": "90b5567c-4e67-43e7-818d-61470bcb0bdb",
   "metadata": {},
   "source": [
    "🔽 Read tables from HTML  \n",
    "Read tables from an HTML page; ````pd.read_html()```` returns a list of DataFrames.  \n",
    "Slice the data frame with ````df[0]```` to get the first table."
   ]
  },
  {
   "cell_type": "code",
   "execution_count": 12,
   "id": "36daa8b1-b750-4435-860a-454f413d7661",
   "metadata": {},
   "outputs": [
    {
     "data": {
      "text/html": [
       "<div>\n",
       "<style scoped>\n",
       "    .dataframe tbody tr th:only-of-type {\n",
       "        vertical-align: middle;\n",
       "    }\n",
       "\n",
       "    .dataframe tbody tr th {\n",
       "        vertical-align: top;\n",
       "    }\n",
       "\n",
       "    .dataframe thead th {\n",
       "        text-align: right;\n",
       "    }\n",
       "</style>\n",
       "<table border=\"1\" class=\"dataframe\">\n",
       "  <thead>\n",
       "    <tr style=\"text-align: right;\">\n",
       "      <th></th>\n",
       "      <th>Review #</th>\n",
       "      <th>Brand</th>\n",
       "      <th>Variety</th>\n",
       "      <th>Style</th>\n",
       "      <th>Country</th>\n",
       "      <th>Stars</th>\n",
       "      <th>Top Ten</th>\n",
       "    </tr>\n",
       "  </thead>\n",
       "  <tbody>\n",
       "    <tr>\n",
       "      <th>0</th>\n",
       "      <td>2580</td>\n",
       "      <td>New Touch</td>\n",
       "      <td>T's Restaurant Tantanmen</td>\n",
       "      <td>Cup</td>\n",
       "      <td>Japan</td>\n",
       "      <td>3.75</td>\n",
       "      <td>NaN</td>\n",
       "    </tr>\n",
       "    <tr>\n",
       "      <th>1</th>\n",
       "      <td>2579</td>\n",
       "      <td>Just Way</td>\n",
       "      <td>Noodles Spicy Hot Sesame Spicy Hot Sesame Guan...</td>\n",
       "      <td>Pack</td>\n",
       "      <td>Taiwan</td>\n",
       "      <td>1</td>\n",
       "      <td>NaN</td>\n",
       "    </tr>\n",
       "    <tr>\n",
       "      <th>2</th>\n",
       "      <td>2578</td>\n",
       "      <td>Nissin</td>\n",
       "      <td>Cup Noodles Chicken Vegetable</td>\n",
       "      <td>Cup</td>\n",
       "      <td>USA</td>\n",
       "      <td>2.25</td>\n",
       "      <td>NaN</td>\n",
       "    </tr>\n",
       "    <tr>\n",
       "      <th>3</th>\n",
       "      <td>2577</td>\n",
       "      <td>Wei Lih</td>\n",
       "      <td>GGE Ramen Snack Tomato Flavor</td>\n",
       "      <td>Pack</td>\n",
       "      <td>Taiwan</td>\n",
       "      <td>2.75</td>\n",
       "      <td>NaN</td>\n",
       "    </tr>\n",
       "    <tr>\n",
       "      <th>4</th>\n",
       "      <td>2576</td>\n",
       "      <td>Ching's Secret</td>\n",
       "      <td>Singapore Curry</td>\n",
       "      <td>Pack</td>\n",
       "      <td>India</td>\n",
       "      <td>3.75</td>\n",
       "      <td>NaN</td>\n",
       "    </tr>\n",
       "  </tbody>\n",
       "</table>\n",
       "</div>"
      ],
      "text/plain": [
       "   Review #           Brand  \\\n",
       "0      2580       New Touch   \n",
       "1      2579        Just Way   \n",
       "2      2578          Nissin   \n",
       "3      2577         Wei Lih   \n",
       "4      2576  Ching's Secret   \n",
       "\n",
       "                                             Variety Style Country Stars  \\\n",
       "0                           T's Restaurant Tantanmen   Cup   Japan  3.75   \n",
       "1  Noodles Spicy Hot Sesame Spicy Hot Sesame Guan...  Pack  Taiwan     1   \n",
       "2                      Cup Noodles Chicken Vegetable   Cup     USA  2.25   \n",
       "3                      GGE Ramen Snack Tomato Flavor  Pack  Taiwan  2.75   \n",
       "4                                    Singapore Curry  Pack   India  3.75   \n",
       "\n",
       "  Top Ten  \n",
       "0     NaN  \n",
       "1     NaN  \n",
       "2     NaN  \n",
       "3     NaN  \n",
       "4     NaN  "
      ]
     },
     "execution_count": 12,
     "metadata": {},
     "output_type": "execute_result"
    }
   ],
   "source": [
    "import_path = os.path.join(data_raw, html_file)\n",
    "df = pd.read_html(import_path)\n",
    "\n",
    "df[0].head()"
   ]
  },
  {
   "cell_type": "markdown",
   "id": "f5aa04d2-d9d3-43c0-9532-ca252daccfeb",
   "metadata": {},
   "source": [
    "💾 Export to HTML  \n",
    "Export the first HTML table (DataFrame) to an HTML file without the index."
   ]
  },
  {
   "cell_type": "code",
   "execution_count": 13,
   "id": "45bf0fff-767d-475c-9a10-8760411747e3",
   "metadata": {},
   "outputs": [],
   "source": [
    "export_path = os.path.join(data_processed, html_file)\n",
    "df[0].to_html(export_path, index=False)"
   ]
  },
  {
   "cell_type": "markdown",
   "id": "17c6e002-5d36-4e1f-b8ef-9b8f09815e6d",
   "metadata": {},
   "source": [
    "### 📄 From and to SQL"
   ]
  },
  {
   "cell_type": "markdown",
   "id": "af104c1f-7206-45f9-8e0a-fa09a0b21ea7",
   "metadata": {},
   "source": [
    "🔌 Create SQLAlchemy engine  \n",
    "Set up a connection to a SQLite database using SQLAlchemy."
   ]
  },
  {
   "cell_type": "code",
   "execution_count": 14,
   "id": "2ed1142b-9fdf-4c3f-aaff-2ef07d1f55dd",
   "metadata": {},
   "outputs": [],
   "source": [
    "from sqlalchemy import create_engine\n",
    "engine = create_engine(database)"
   ]
  },
  {
   "cell_type": "markdown",
   "id": "96b4cd61-4738-40d7-bfc8-e652ce2ca39f",
   "metadata": {},
   "source": [
    "🔽 Read from SQL table  \n",
    "Read a SQL table into a DataFrame and set ````\"Review #\"```` as the index."
   ]
  },
  {
   "cell_type": "code",
   "execution_count": 15,
   "id": "e121415d-ef6e-47d5-a9ce-be9b9432ab7f",
   "metadata": {},
   "outputs": [
    {
     "data": {
      "text/html": [
       "<div>\n",
       "<style scoped>\n",
       "    .dataframe tbody tr th:only-of-type {\n",
       "        vertical-align: middle;\n",
       "    }\n",
       "\n",
       "    .dataframe tbody tr th {\n",
       "        vertical-align: top;\n",
       "    }\n",
       "\n",
       "    .dataframe thead th {\n",
       "        text-align: right;\n",
       "    }\n",
       "</style>\n",
       "<table border=\"1\" class=\"dataframe\">\n",
       "  <thead>\n",
       "    <tr style=\"text-align: right;\">\n",
       "      <th></th>\n",
       "      <th>Brand</th>\n",
       "      <th>Variety</th>\n",
       "      <th>Style</th>\n",
       "      <th>Country</th>\n",
       "      <th>Stars</th>\n",
       "      <th>Top Ten</th>\n",
       "    </tr>\n",
       "    <tr>\n",
       "      <th>Review #</th>\n",
       "      <th></th>\n",
       "      <th></th>\n",
       "      <th></th>\n",
       "      <th></th>\n",
       "      <th></th>\n",
       "      <th></th>\n",
       "    </tr>\n",
       "  </thead>\n",
       "  <tbody>\n",
       "    <tr>\n",
       "      <th>2580</th>\n",
       "      <td>New Touch</td>\n",
       "      <td>T's Restaurant Tantanmen</td>\n",
       "      <td>Cup</td>\n",
       "      <td>Japan</td>\n",
       "      <td>3.75</td>\n",
       "      <td>None</td>\n",
       "    </tr>\n",
       "    <tr>\n",
       "      <th>2579</th>\n",
       "      <td>Just Way</td>\n",
       "      <td>Noodles Spicy Hot Sesame Spicy Hot Sesame Guan...</td>\n",
       "      <td>Pack</td>\n",
       "      <td>Taiwan</td>\n",
       "      <td>1</td>\n",
       "      <td>None</td>\n",
       "    </tr>\n",
       "    <tr>\n",
       "      <th>2578</th>\n",
       "      <td>Nissin</td>\n",
       "      <td>Cup Noodles Chicken Vegetable</td>\n",
       "      <td>Cup</td>\n",
       "      <td>USA</td>\n",
       "      <td>2.25</td>\n",
       "      <td>None</td>\n",
       "    </tr>\n",
       "    <tr>\n",
       "      <th>2577</th>\n",
       "      <td>Wei Lih</td>\n",
       "      <td>GGE Ramen Snack Tomato Flavor</td>\n",
       "      <td>Pack</td>\n",
       "      <td>Taiwan</td>\n",
       "      <td>2.75</td>\n",
       "      <td>None</td>\n",
       "    </tr>\n",
       "    <tr>\n",
       "      <th>2576</th>\n",
       "      <td>Ching's Secret</td>\n",
       "      <td>Singapore Curry</td>\n",
       "      <td>Pack</td>\n",
       "      <td>India</td>\n",
       "      <td>3.75</td>\n",
       "      <td>None</td>\n",
       "    </tr>\n",
       "  </tbody>\n",
       "</table>\n",
       "</div>"
      ],
      "text/plain": [
       "                   Brand                                            Variety  \\\n",
       "Review #                                                                      \n",
       "2580           New Touch                          T's Restaurant Tantanmen    \n",
       "2579            Just Way  Noodles Spicy Hot Sesame Spicy Hot Sesame Guan...   \n",
       "2578              Nissin                      Cup Noodles Chicken Vegetable   \n",
       "2577             Wei Lih                      GGE Ramen Snack Tomato Flavor   \n",
       "2576      Ching's Secret                                    Singapore Curry   \n",
       "\n",
       "         Style Country Stars Top Ten  \n",
       "Review #                              \n",
       "2580       Cup   Japan  3.75    None  \n",
       "2579      Pack  Taiwan     1    None  \n",
       "2578       Cup     USA  2.25    None  \n",
       "2577      Pack  Taiwan  2.75    None  \n",
       "2576      Pack   India  3.75    None  "
      ]
     },
     "execution_count": 15,
     "metadata": {},
     "output_type": "execute_result"
    }
   ],
   "source": [
    "df = pd.read_sql(sql_table, engine, index_col='Review #')\n",
    "df.head()"
   ]
  },
  {
   "cell_type": "markdown",
   "id": "daad776b-fd36-4d9c-a0f1-cbf1e94b38ac",
   "metadata": {},
   "source": [
    "💾 Export to SQL  \n",
    "Write the DataFrame to the SQL table, replacing it if it already exists."
   ]
  },
  {
   "cell_type": "code",
   "execution_count": 16,
   "id": "ce996b5d-3a31-4899-a6bc-076868d39b01",
   "metadata": {},
   "outputs": [
    {
     "data": {
      "text/plain": [
       "2580"
      ]
     },
     "execution_count": 16,
     "metadata": {},
     "output_type": "execute_result"
    }
   ],
   "source": [
    "df.to_sql(sql_table, engine, if_exists='replace')"
   ]
  },
  {
   "cell_type": "markdown",
   "id": "1119ca95-1de8-41c7-a8ec-fe060fbbd4ea",
   "metadata": {},
   "source": [
    "### 📄 From and to Parquet, Feather and HDF"
   ]
  },
  {
   "cell_type": "markdown",
   "id": "0ee9725c-e21e-4bfe-b4e5-b49f93305fad",
   "metadata": {},
   "source": [
    "Parquet, Feather, and HDF5 are special file formats that store data in a compact and fast way, which makes them great for working with large datasets or when you need to save and load data quickly."
   ]
  },
  {
   "cell_type": "markdown",
   "id": "9f64b72b-5d95-4aa4-b816-76cddad346e2",
   "metadata": {},
   "source": [
    "#### 📄 From and to Parquet"
   ]
  },
  {
   "cell_type": "markdown",
   "id": "35118dae-7b77-4714-a82d-553b47c0228d",
   "metadata": {},
   "source": [
    "🔽 Read from Parquet  \n",
    "Read a Parquet file into a DataFrame."
   ]
  },
  {
   "cell_type": "code",
   "execution_count": 17,
   "id": "4a355248-cd7a-4647-b9d7-615c890a413f",
   "metadata": {},
   "outputs": [
    {
     "data": {
      "text/html": [
       "<div>\n",
       "<style scoped>\n",
       "    .dataframe tbody tr th:only-of-type {\n",
       "        vertical-align: middle;\n",
       "    }\n",
       "\n",
       "    .dataframe tbody tr th {\n",
       "        vertical-align: top;\n",
       "    }\n",
       "\n",
       "    .dataframe thead th {\n",
       "        text-align: right;\n",
       "    }\n",
       "</style>\n",
       "<table border=\"1\" class=\"dataframe\">\n",
       "  <thead>\n",
       "    <tr style=\"text-align: right;\">\n",
       "      <th></th>\n",
       "      <th>Brand</th>\n",
       "      <th>Variety</th>\n",
       "      <th>Style</th>\n",
       "      <th>Country</th>\n",
       "      <th>Stars</th>\n",
       "      <th>Top Ten</th>\n",
       "    </tr>\n",
       "    <tr>\n",
       "      <th>Review #</th>\n",
       "      <th></th>\n",
       "      <th></th>\n",
       "      <th></th>\n",
       "      <th></th>\n",
       "      <th></th>\n",
       "      <th></th>\n",
       "    </tr>\n",
       "  </thead>\n",
       "  <tbody>\n",
       "    <tr>\n",
       "      <th>2580</th>\n",
       "      <td>New Touch</td>\n",
       "      <td>T's Restaurant Tantanmen</td>\n",
       "      <td>Cup</td>\n",
       "      <td>Japan</td>\n",
       "      <td>3.75</td>\n",
       "      <td>None</td>\n",
       "    </tr>\n",
       "    <tr>\n",
       "      <th>2579</th>\n",
       "      <td>Just Way</td>\n",
       "      <td>Noodles Spicy Hot Sesame Spicy Hot Sesame Guan...</td>\n",
       "      <td>Pack</td>\n",
       "      <td>Taiwan</td>\n",
       "      <td>1</td>\n",
       "      <td>None</td>\n",
       "    </tr>\n",
       "    <tr>\n",
       "      <th>2578</th>\n",
       "      <td>Nissin</td>\n",
       "      <td>Cup Noodles Chicken Vegetable</td>\n",
       "      <td>Cup</td>\n",
       "      <td>USA</td>\n",
       "      <td>2.25</td>\n",
       "      <td>None</td>\n",
       "    </tr>\n",
       "    <tr>\n",
       "      <th>2577</th>\n",
       "      <td>Wei Lih</td>\n",
       "      <td>GGE Ramen Snack Tomato Flavor</td>\n",
       "      <td>Pack</td>\n",
       "      <td>Taiwan</td>\n",
       "      <td>2.75</td>\n",
       "      <td>None</td>\n",
       "    </tr>\n",
       "    <tr>\n",
       "      <th>2576</th>\n",
       "      <td>Ching's Secret</td>\n",
       "      <td>Singapore Curry</td>\n",
       "      <td>Pack</td>\n",
       "      <td>India</td>\n",
       "      <td>3.75</td>\n",
       "      <td>None</td>\n",
       "    </tr>\n",
       "  </tbody>\n",
       "</table>\n",
       "</div>"
      ],
      "text/plain": [
       "                   Brand                                            Variety  \\\n",
       "Review #                                                                      \n",
       "2580           New Touch                          T's Restaurant Tantanmen    \n",
       "2579            Just Way  Noodles Spicy Hot Sesame Spicy Hot Sesame Guan...   \n",
       "2578              Nissin                      Cup Noodles Chicken Vegetable   \n",
       "2577             Wei Lih                      GGE Ramen Snack Tomato Flavor   \n",
       "2576      Ching's Secret                                    Singapore Curry   \n",
       "\n",
       "         Style Country Stars Top Ten  \n",
       "Review #                              \n",
       "2580       Cup   Japan  3.75    None  \n",
       "2579      Pack  Taiwan     1    None  \n",
       "2578       Cup     USA  2.25    None  \n",
       "2577      Pack  Taiwan  2.75    None  \n",
       "2576      Pack   India  3.75    None  "
      ]
     },
     "execution_count": 17,
     "metadata": {},
     "output_type": "execute_result"
    }
   ],
   "source": [
    "import_path = os.path.join(data_raw, parquet_file)\n",
    "df = pd.read_parquet(import_path)\n",
    "\n",
    "df.head()"
   ]
  },
  {
   "cell_type": "markdown",
   "id": "d518249f-a823-4182-958d-290591258fa6",
   "metadata": {},
   "source": [
    "💾 Export to Parquet  \n",
    "Save the DataFrame in Parquet format using Snappy compression."
   ]
  },
  {
   "cell_type": "code",
   "execution_count": 18,
   "id": "bc505fdc-38c3-4925-8757-b45bc1d53f44",
   "metadata": {},
   "outputs": [],
   "source": [
    "export_path = os.path.join(data_processed, parquet_file)\n",
    "df.to_parquet(export_path, engine='pyarrow', compression='snappy')"
   ]
  },
  {
   "cell_type": "markdown",
   "id": "47e89237-333f-4658-82a4-db90f73581ef",
   "metadata": {},
   "source": [
    "#### 📄 From and to Feather"
   ]
  },
  {
   "cell_type": "markdown",
   "id": "9957537b-a485-45ff-90b7-654fa94e9581",
   "metadata": {},
   "source": [
    "🔽 Read from Feather  \n",
    "Read a Feather file into a DataFrame."
   ]
  },
  {
   "cell_type": "code",
   "execution_count": 19,
   "id": "9a5a8cbc-6226-4cfd-b530-0b447cf8318f",
   "metadata": {},
   "outputs": [
    {
     "data": {
      "text/html": [
       "<div>\n",
       "<style scoped>\n",
       "    .dataframe tbody tr th:only-of-type {\n",
       "        vertical-align: middle;\n",
       "    }\n",
       "\n",
       "    .dataframe tbody tr th {\n",
       "        vertical-align: top;\n",
       "    }\n",
       "\n",
       "    .dataframe thead th {\n",
       "        text-align: right;\n",
       "    }\n",
       "</style>\n",
       "<table border=\"1\" class=\"dataframe\">\n",
       "  <thead>\n",
       "    <tr style=\"text-align: right;\">\n",
       "      <th></th>\n",
       "      <th>Brand</th>\n",
       "      <th>Variety</th>\n",
       "      <th>Style</th>\n",
       "      <th>Country</th>\n",
       "      <th>Stars</th>\n",
       "      <th>Top Ten</th>\n",
       "    </tr>\n",
       "    <tr>\n",
       "      <th>Review #</th>\n",
       "      <th></th>\n",
       "      <th></th>\n",
       "      <th></th>\n",
       "      <th></th>\n",
       "      <th></th>\n",
       "      <th></th>\n",
       "    </tr>\n",
       "  </thead>\n",
       "  <tbody>\n",
       "    <tr>\n",
       "      <th>2580</th>\n",
       "      <td>New Touch</td>\n",
       "      <td>T's Restaurant Tantanmen</td>\n",
       "      <td>Cup</td>\n",
       "      <td>Japan</td>\n",
       "      <td>3.75</td>\n",
       "      <td>None</td>\n",
       "    </tr>\n",
       "    <tr>\n",
       "      <th>2579</th>\n",
       "      <td>Just Way</td>\n",
       "      <td>Noodles Spicy Hot Sesame Spicy Hot Sesame Guan...</td>\n",
       "      <td>Pack</td>\n",
       "      <td>Taiwan</td>\n",
       "      <td>1</td>\n",
       "      <td>None</td>\n",
       "    </tr>\n",
       "    <tr>\n",
       "      <th>2578</th>\n",
       "      <td>Nissin</td>\n",
       "      <td>Cup Noodles Chicken Vegetable</td>\n",
       "      <td>Cup</td>\n",
       "      <td>USA</td>\n",
       "      <td>2.25</td>\n",
       "      <td>None</td>\n",
       "    </tr>\n",
       "    <tr>\n",
       "      <th>2577</th>\n",
       "      <td>Wei Lih</td>\n",
       "      <td>GGE Ramen Snack Tomato Flavor</td>\n",
       "      <td>Pack</td>\n",
       "      <td>Taiwan</td>\n",
       "      <td>2.75</td>\n",
       "      <td>None</td>\n",
       "    </tr>\n",
       "    <tr>\n",
       "      <th>2576</th>\n",
       "      <td>Ching's Secret</td>\n",
       "      <td>Singapore Curry</td>\n",
       "      <td>Pack</td>\n",
       "      <td>India</td>\n",
       "      <td>3.75</td>\n",
       "      <td>None</td>\n",
       "    </tr>\n",
       "  </tbody>\n",
       "</table>\n",
       "</div>"
      ],
      "text/plain": [
       "                   Brand                                            Variety  \\\n",
       "Review #                                                                      \n",
       "2580           New Touch                          T's Restaurant Tantanmen    \n",
       "2579            Just Way  Noodles Spicy Hot Sesame Spicy Hot Sesame Guan...   \n",
       "2578              Nissin                      Cup Noodles Chicken Vegetable   \n",
       "2577             Wei Lih                      GGE Ramen Snack Tomato Flavor   \n",
       "2576      Ching's Secret                                    Singapore Curry   \n",
       "\n",
       "         Style Country Stars Top Ten  \n",
       "Review #                              \n",
       "2580       Cup   Japan  3.75    None  \n",
       "2579      Pack  Taiwan     1    None  \n",
       "2578       Cup     USA  2.25    None  \n",
       "2577      Pack  Taiwan  2.75    None  \n",
       "2576      Pack   India  3.75    None  "
      ]
     },
     "execution_count": 19,
     "metadata": {},
     "output_type": "execute_result"
    }
   ],
   "source": [
    "import_path = os.path.join(data_raw, feather_file)\n",
    "df = pd.read_feather(import_path)\n",
    "\n",
    "df.head()"
   ]
  },
  {
   "cell_type": "markdown",
   "id": "8b2be327-f44b-4043-96e8-583a44ce422b",
   "metadata": {},
   "source": [
    "💾 Export to Feather  \n",
    "Export the DataFrame to a Feather file."
   ]
  },
  {
   "cell_type": "code",
   "execution_count": 20,
   "id": "1cb52114-b80f-4c9c-a14f-1bbbf4a03361",
   "metadata": {},
   "outputs": [],
   "source": [
    "export_path = os.path.join(data_processed, feather_file)\n",
    "df.to_feather(export_path)"
   ]
  },
  {
   "cell_type": "markdown",
   "id": "9d90811f-955f-4d80-b214-e24a8a1bc4a2",
   "metadata": {},
   "source": [
    "#### 📄 From and to HDF"
   ]
  },
  {
   "cell_type": "markdown",
   "id": "8f561c49-f782-491e-9538-f171cf384817",
   "metadata": {},
   "source": [
    "🔽 Read from HDF5  \n",
    "Load a DataFrame from an HDF5 file using a specific key."
   ]
  },
  {
   "cell_type": "code",
   "execution_count": 21,
   "id": "e701eded-83c6-4922-8225-5e4f82ad9e53",
   "metadata": {},
   "outputs": [
    {
     "data": {
      "text/html": [
       "<div>\n",
       "<style scoped>\n",
       "    .dataframe tbody tr th:only-of-type {\n",
       "        vertical-align: middle;\n",
       "    }\n",
       "\n",
       "    .dataframe tbody tr th {\n",
       "        vertical-align: top;\n",
       "    }\n",
       "\n",
       "    .dataframe thead th {\n",
       "        text-align: right;\n",
       "    }\n",
       "</style>\n",
       "<table border=\"1\" class=\"dataframe\">\n",
       "  <thead>\n",
       "    <tr style=\"text-align: right;\">\n",
       "      <th></th>\n",
       "      <th>Brand</th>\n",
       "      <th>Variety</th>\n",
       "      <th>Style</th>\n",
       "      <th>Country</th>\n",
       "      <th>Stars</th>\n",
       "      <th>Top Ten</th>\n",
       "    </tr>\n",
       "    <tr>\n",
       "      <th>Review #</th>\n",
       "      <th></th>\n",
       "      <th></th>\n",
       "      <th></th>\n",
       "      <th></th>\n",
       "      <th></th>\n",
       "      <th></th>\n",
       "    </tr>\n",
       "  </thead>\n",
       "  <tbody>\n",
       "    <tr>\n",
       "      <th>2580</th>\n",
       "      <td>New Touch</td>\n",
       "      <td>T's Restaurant Tantanmen</td>\n",
       "      <td>Cup</td>\n",
       "      <td>Japan</td>\n",
       "      <td>3.75</td>\n",
       "      <td>NaN</td>\n",
       "    </tr>\n",
       "    <tr>\n",
       "      <th>2579</th>\n",
       "      <td>Just Way</td>\n",
       "      <td>Noodles Spicy Hot Sesame Spicy Hot Sesame Guan...</td>\n",
       "      <td>Pack</td>\n",
       "      <td>Taiwan</td>\n",
       "      <td>1</td>\n",
       "      <td>NaN</td>\n",
       "    </tr>\n",
       "    <tr>\n",
       "      <th>2578</th>\n",
       "      <td>Nissin</td>\n",
       "      <td>Cup Noodles Chicken Vegetable</td>\n",
       "      <td>Cup</td>\n",
       "      <td>USA</td>\n",
       "      <td>2.25</td>\n",
       "      <td>NaN</td>\n",
       "    </tr>\n",
       "    <tr>\n",
       "      <th>2577</th>\n",
       "      <td>Wei Lih</td>\n",
       "      <td>GGE Ramen Snack Tomato Flavor</td>\n",
       "      <td>Pack</td>\n",
       "      <td>Taiwan</td>\n",
       "      <td>2.75</td>\n",
       "      <td>NaN</td>\n",
       "    </tr>\n",
       "    <tr>\n",
       "      <th>2576</th>\n",
       "      <td>Ching's Secret</td>\n",
       "      <td>Singapore Curry</td>\n",
       "      <td>Pack</td>\n",
       "      <td>India</td>\n",
       "      <td>3.75</td>\n",
       "      <td>NaN</td>\n",
       "    </tr>\n",
       "  </tbody>\n",
       "</table>\n",
       "</div>"
      ],
      "text/plain": [
       "                   Brand                                            Variety  \\\n",
       "Review #                                                                      \n",
       "2580           New Touch                          T's Restaurant Tantanmen    \n",
       "2579            Just Way  Noodles Spicy Hot Sesame Spicy Hot Sesame Guan...   \n",
       "2578              Nissin                      Cup Noodles Chicken Vegetable   \n",
       "2577             Wei Lih                      GGE Ramen Snack Tomato Flavor   \n",
       "2576      Ching's Secret                                    Singapore Curry   \n",
       "\n",
       "         Style Country Stars Top Ten  \n",
       "Review #                              \n",
       "2580       Cup   Japan  3.75     NaN  \n",
       "2579      Pack  Taiwan     1     NaN  \n",
       "2578       Cup     USA  2.25     NaN  \n",
       "2577      Pack  Taiwan  2.75     NaN  \n",
       "2576      Pack   India  3.75     NaN  "
      ]
     },
     "execution_count": 21,
     "metadata": {},
     "output_type": "execute_result"
    }
   ],
   "source": [
    "import_path = os.path.join(data_raw, hdf_file)\n",
    "df = pd.read_hdf(import_path, key='df')\n",
    "\n",
    "df.head()"
   ]
  },
  {
   "cell_type": "markdown",
   "id": "f47117d5-f593-43c0-9bcd-49917d2c7797",
   "metadata": {},
   "source": [
    "💾 Export to HDF5 with compression  \n",
    "Write to an HDF5 file with compression for better space efficiency."
   ]
  },
  {
   "cell_type": "code",
   "execution_count": 22,
   "id": "c5760737-291b-4af3-8f43-1c06dfd4a894",
   "metadata": {},
   "outputs": [],
   "source": [
    "export_path = os.path.join(data_processed, hdf_file)\n",
    "df.to_hdf(export_path, key='df', mode='w', format='table', complib='blosc', complevel=9)"
   ]
  },
  {
   "cell_type": "markdown",
   "id": "6223a3b2-c98e-4ed2-b485-5c7b9dc021cc",
   "metadata": {},
   "source": [
    "### 📦 Comparing the file sizes  \n",
    "Measure and print the file size (in KB) of each saved file, sorted from smallest to largest."
   ]
  },
  {
   "cell_type": "code",
   "execution_count": 23,
   "id": "9ed29b8b-8d5f-43be-9b96-523f3173a8b1",
   "metadata": {},
   "outputs": [
    {
     "name": "stdout",
     "output_type": "stream",
     "text": [
      "File: Parquet with size: 70.78\n",
      "File: Csv with size: 75.11\n",
      "File: Xlsx with size: 118.7\n",
      "File: Feather with size: 119.45\n",
      "File: H5 with size: 145.09\n",
      "File: Tsv with size: 157.12\n",
      "File: Csv with size: 157.13\n",
      "File: Json with size: 305.87\n",
      "File: Html with size: 475.29\n"
     ]
    }
   ],
   "source": [
    "from pathlib import Path\n",
    "\n",
    "folder = Path(data_processed)\n",
    "file_dict = {}\n",
    "\n",
    "for file in folder.iterdir():\n",
    "    if file.is_file():\n",
    "        size_kb = file.stat().st_size / 1024\n",
    "        file_dict[file.name] = round(size_kb, 2)\n",
    "\n",
    "sorted_dict = dict(sorted(file_dict.items(), key=lambda item: item[1]))\n",
    "for key, value in sorted_dict.items():\n",
    "    print(f\"File: {key.split('.')[1].title()} with size: {value}\")"
   ]
  },
  {
   "cell_type": "markdown",
   "id": "f3f338d6-e0d4-44c0-9af4-fa32c55a6739",
   "metadata": {},
   "source": [
    "### 👉 Next Topic: [Data Inspection](./03-data-inspection.ipynb)\n",
    "\n",
    "Learn how to inspect data with pandas."
   ]
  }
 ],
 "metadata": {
  "kernelspec": {
   "display_name": "Python 3 (ipykernel)",
   "language": "python",
   "name": "python3"
  },
  "language_info": {
   "codemirror_mode": {
    "name": "ipython",
    "version": 3
   },
   "file_extension": ".py",
   "mimetype": "text/x-python",
   "name": "python",
   "nbconvert_exporter": "python",
   "pygments_lexer": "ipython3",
   "version": "3.10.4"
  }
 },
 "nbformat": 4,
 "nbformat_minor": 5
}
